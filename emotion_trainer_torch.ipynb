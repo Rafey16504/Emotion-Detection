{
  "cells": [
    {
      "cell_type": "markdown",
      "id": "666e8736",
      "metadata": {
        "id": "666e8736"
      },
      "source": [
        "# **EMOTION DETECTION**"
      ]
    },
    {
      "cell_type": "code",
      "execution_count": 1,
      "id": "fa970d2a",
      "metadata": {
        "id": "fa970d2a"
      },
      "outputs": [],
      "source": [
        "# Getting all dependencies\n",
        "\n",
        "import os\n",
        "import torch\n",
        "import torch.nn as nn\n",
        "import torch.nn.functional as F\n",
        "import torch.optim as optim\n",
        "from torch.utils.data import Dataset, DataLoader\n",
        "from torchvision import transforms\n",
        "from PIL import Image\n",
        "import pandas as pd\n",
        "import numpy as np\n",
        "from tqdm import tqdm\n",
        "from sklearn.preprocessing import LabelEncoder\n",
        "import pickle\n"
      ]
    },
    {
      "cell_type": "code",
      "execution_count": 2,
      "id": "45vtVWh15Ve-",
      "metadata": {
        "id": "45vtVWh15Ve-"
      },
      "outputs": [
        {
          "name": "stdout",
          "output_type": "stream",
          "text": [
            "Using device: cuda\n"
          ]
        }
      ],
      "source": [
        "# Getting files on Collab\n",
        "# uploaded = files.upload()\n",
        "\n",
        "device = torch.device(\"cuda\" if torch.cuda.is_available() else \"cpu\")\n",
        "print(f\"Using device: {device}\")"
      ]
    },
    {
      "cell_type": "code",
      "execution_count": 3,
      "id": "utB-ndbV5Y4y",
      "metadata": {
        "id": "utB-ndbV5Y4y"
      },
      "outputs": [],
      "source": [
        "# Specify the name of the uploaded zip file\n",
        "# zip_file_name = 'images.zip'\n",
        "\n",
        "# Unzip the file\n",
        "# with zipfile.ZipFile(zip_file_name, 'r') as zip_ref:\n",
        "    # zip_ref.extractall('')\n",
        "\n",
        "# Verify the contents\n",
        "# print(os.listdir('images'))"
      ]
    },
    {
      "cell_type": "code",
      "execution_count": 4,
      "id": "a1a72c52",
      "metadata": {
        "id": "a1a72c52"
      },
      "outputs": [],
      "source": [
        "# Setting up the directories\n",
        "\n",
        "TRAINING_DIR = './images/train'\n",
        "TEST_DIR = './images/validation'"
      ]
    },
    {
      "cell_type": "code",
      "execution_count": 5,
      "id": "cc2387b7",
      "metadata": {
        "id": "cc2387b7"
      },
      "outputs": [],
      "source": [
        "# Making dataframes for the training and test data (with images and labels)\n",
        "\n",
        "def create_dataframe(directory):\n",
        "    image_paths = []\n",
        "    labels = []\n",
        "\n",
        "    for label in os.listdir(directory):\n",
        "        label_dir = os.path.join(directory, label)\n",
        "        if os.path.isdir(label_dir):\n",
        "            for image_name in os.listdir(label_dir):\n",
        "                image_path = os.path.join(label_dir, image_name)\n",
        "                image_paths.append(image_path)\n",
        "                labels.append(label)\n",
        "            print(f\"Completed {label_dir}\")\n",
        "    return image_paths, labels"
      ]
    },
    {
      "cell_type": "code",
      "execution_count": 6,
      "id": "d8177bec",
      "metadata": {
        "colab": {
          "base_uri": "https://localhost:8080/"
        },
        "id": "d8177bec",
        "outputId": "1becedef-d30a-4d32-a771-5244639d797d"
      },
      "outputs": [
        {
          "name": "stdout",
          "output_type": "stream",
          "text": [
            "Completed ./images/train\\angry\n",
            "Completed ./images/train\\disgust\n",
            "Completed ./images/train\\fear\n",
            "Completed ./images/train\\happy\n",
            "Completed ./images/train\\neutral\n",
            "Completed ./images/train\\sad\n",
            "Completed ./images/train\\surprise\n",
            "Completed ./images/validation\\angry\n",
            "Completed ./images/validation\\disgust\n",
            "Completed ./images/validation\\fear\n",
            "Completed ./images/validation\\happy\n",
            "Completed ./images/validation\\neutral\n",
            "Completed ./images/validation\\sad\n",
            "Completed ./images/validation\\surprise\n",
            "Train and test dataframes created successfully.\n",
            "                             image_path     label\n",
            "0            ./images/train\\angry\\0.jpg     angry\n",
            "1            ./images/train\\angry\\1.jpg     angry\n",
            "2           ./images/train\\angry\\10.jpg     angry\n",
            "3        ./images/train\\angry\\10002.jpg     angry\n",
            "4        ./images/train\\angry\\10016.jpg     angry\n",
            "...                                 ...       ...\n",
            "28816  ./images/train\\surprise\\9969.jpg  surprise\n",
            "28817  ./images/train\\surprise\\9985.jpg  surprise\n",
            "28818  ./images/train\\surprise\\9990.jpg  surprise\n",
            "28819  ./images/train\\surprise\\9992.jpg  surprise\n",
            "28820  ./images/train\\surprise\\9996.jpg  surprise\n",
            "\n",
            "[28821 rows x 2 columns]\n",
            "                                 image_path     label\n",
            "0       ./images/validation\\angry\\10052.jpg     angry\n",
            "1       ./images/validation\\angry\\10065.jpg     angry\n",
            "2       ./images/validation\\angry\\10079.jpg     angry\n",
            "3       ./images/validation\\angry\\10095.jpg     angry\n",
            "4       ./images/validation\\angry\\10121.jpg     angry\n",
            "...                                     ...       ...\n",
            "7061  ./images/validation\\surprise\\9806.jpg  surprise\n",
            "7062  ./images/validation\\surprise\\9830.jpg  surprise\n",
            "7063  ./images/validation\\surprise\\9853.jpg  surprise\n",
            "7064  ./images/validation\\surprise\\9878.jpg  surprise\n",
            "7065   ./images/validation\\surprise\\993.jpg  surprise\n",
            "\n",
            "[7066 rows x 2 columns]\n"
          ]
        }
      ],
      "source": [
        "# Making Train and Test dataframes\n",
        "train_df = pd.DataFrame()\n",
        "train_df['image_path'], train_df['label'] = create_dataframe(TRAINING_DIR)\n",
        "\n",
        "test_df = pd.DataFrame()\n",
        "test_df['image_path'], test_df['label'] = create_dataframe(TEST_DIR)\n",
        "print(\"Train and test dataframes created successfully.\")\n",
        "\n",
        "print(train_df)\n",
        "print(test_df)"
      ]
    },
    {
      "cell_type": "code",
      "execution_count": 7,
      "id": "f1155e68",
      "metadata": {
        "colab": {
          "base_uri": "https://localhost:8080/"
        },
        "id": "f1155e68",
        "outputId": "32e91557-1720-4a84-f9dc-9d97169ee9ca"
      },
      "outputs": [],
      "source": [
        "# Label Encoding\n",
        "\n",
        "label_encoder = LabelEncoder()\n",
        "label_encoder.fit(train_df['label'])\n",
        "y_train = label_encoder.transform(train_df['label'])\n",
        "y_test = label_encoder.transform(test_df['label'])"
      ]
    },
    {
      "cell_type": "code",
      "execution_count": 34,
      "id": "3182202d",
      "metadata": {
        "id": "3182202d"
      },
      "outputs": [],
      "source": [
        "# Image transforms\n",
        "\n",
        "transform = transforms.Compose([\n",
        "    transforms.Resize((48, 48)),\n",
        "    transforms.ToTensor(),\n",
        "])\n",
        "\n"
      ]
    },
    {
      "cell_type": "code",
      "execution_count": 35,
      "id": "9c7391e9",
      "metadata": {
        "colab": {
          "base_uri": "https://localhost:8080/",
          "height": 80
        },
        "id": "9c7391e9",
        "outputId": "7667316b-4f4b-4a5b-bd21-f0b2e60fe857"
      },
      "outputs": [],
      "source": [
        "# Custom Dataset class\n",
        "\n",
        "class EmotionDataset(Dataset):\n",
        "    def __init__(self, image_paths, labels, transform=None):\n",
        "        self.image_paths = image_paths\n",
        "        self.labels = labels\n",
        "        self.transform = transform\n",
        "\n",
        "    def __len__(self):\n",
        "        return len(self.image_paths)\n",
        "\n",
        "    def __getitem__(self, idx):\n",
        "        img = Image.open(self.image_paths[idx]).convert('L')\n",
        "        if self.transform:\n",
        "            img = self.transform(img)\n",
        "        label = self.labels[idx]\n",
        "        return img, label"
      ]
    },
    {
      "cell_type": "code",
      "execution_count": 36,
      "id": "20305965",
      "metadata": {
        "id": "20305965"
      },
      "outputs": [],
      "source": [
        "# Create datasets and dataloaders\n",
        "\n",
        "train_dataset = EmotionDataset(train_df['image_path'].tolist(), y_train, transform=transform)\n",
        "test_dataset = EmotionDataset(test_df['image_path'].tolist(), y_test, transform=transform)\n",
        "\n",
        "train_loader = DataLoader(train_dataset, batch_size=128, shuffle=True)\n",
        "test_loader = DataLoader(test_dataset, batch_size=128, shuffle=False)"
      ]
    },
    {
      "cell_type": "code",
      "execution_count": 40,
      "id": "2ffdf88d",
      "metadata": {
        "id": "2ffdf88d"
      },
      "outputs": [],
      "source": [
        "# Convolutional Neural Network (CNN) model\n",
        "# The model is a sequential model with convolutional layers, max pooling layers, and dropout layers\n",
        "# The model is designed to classify images into 7 different classes (emotions)\n",
        "\n",
        "class EmotionCNN(nn.Module):\n",
        "    def __init__(self):\n",
        "        super(EmotionCNN, self).__init__()\n",
        "        self.conv1 = nn.Conv2d(1, 64, 3, padding=1)\n",
        "        self.bn1 = nn.BatchNorm2d(64)\n",
        "        self.conv2 = nn.Conv2d(64, 128, 3, padding=1)\n",
        "        self.bn2 = nn.BatchNorm2d(128)\n",
        "        self.conv3 = nn.Conv2d(128, 256, 3, padding=1)\n",
        "        self.bn3 = nn.BatchNorm2d(256)\n",
        "        self.conv4 = nn.Conv2d(256, 512, 3, padding=1)\n",
        "        self.bn4 = nn.BatchNorm2d(512)\n",
        "        self.pool = nn.MaxPool2d(2, 2)\n",
        "        self.dropout = nn.Dropout(0.4)\n",
        "\n",
        "        self.fc1 = nn.Linear(512 * 3 * 3, 512)\n",
        "        self.fc2 = nn.Linear(512, 256)\n",
        "        self.fc3 = nn.Linear(256, 128)\n",
        "        self.fc4 = nn.Linear(128, 64)\n",
        "        self.fc5 = nn.Linear(64, 7)\n",
        "\n",
        "    def forward(self, x):\n",
        "        x = self.pool(F.relu(self.bn1(self.conv1(x))))\n",
        "        x = self.dropout(x)\n",
        "        x = self.pool(F.relu(self.bn2(self.conv2(x))))\n",
        "        x = self.dropout(x)\n",
        "        x = self.pool(F.relu(self.bn3(self.conv3(x))))\n",
        "        x = self.dropout(x)\n",
        "        x = self.pool(F.relu(self.bn4(self.conv4(x))))\n",
        "        x = self.dropout(x)\n",
        "\n",
        "        x = x.view(-1, 512 * 3 * 3)\n",
        "        x = self.dropout(F.relu(self.fc1(x)))\n",
        "        x = self.dropout(F.relu(self.fc2(x)))\n",
        "        x = self.dropout(F.relu(self.fc3(x)))\n",
        "        x = self.dropout(F.relu(self.fc4(x)))\n",
        "        x = self.fc5(x)\n",
        "        return x"
      ]
    },
    {
      "cell_type": "code",
      "execution_count": null,
      "id": "0360b37e",
      "metadata": {
        "colab": {
          "base_uri": "https://localhost:8080/"
        },
        "id": "0360b37e",
        "outputId": "c8b1d8ae-eb30-4dfb-ab1b-78757bee1809"
      },
      "outputs": [],
      "source": [
        "# Configuring the model\n",
        "\n",
        "model = EmotionCNN().to(device)\n",
        "criterion = nn.CrossEntropyLoss()\n",
        "optimizer = optim.Adam(model.parameters(), lr=0.0001)"
      ]
    },
    {
      "cell_type": "code",
      "execution_count": 42,
      "id": "8bcb01f7",
      "metadata": {},
      "outputs": [
        {
          "name": "stderr",
          "output_type": "stream",
          "text": [
            "Epoch 1/150 [Train]: 100%|██████████| 226/226 [00:17<00:00, 12.68it/s]\n"
          ]
        },
        {
          "name": "stdout",
          "output_type": "stream",
          "text": [
            "Epoch 1/150 - Train Loss: 1.8636, Train Acc: 21.31% | Val Loss: 1.8242, Val Acc: 25.83%\n"
          ]
        },
        {
          "name": "stderr",
          "output_type": "stream",
          "text": [
            "Epoch 2/150 [Train]: 100%|██████████| 226/226 [00:18<00:00, 12.30it/s]\n"
          ]
        },
        {
          "name": "stdout",
          "output_type": "stream",
          "text": [
            "Epoch 2/150 - Train Loss: 1.8279, Train Acc: 23.09% | Val Loss: 1.8025, Val Acc: 26.04%\n"
          ]
        },
        {
          "name": "stderr",
          "output_type": "stream",
          "text": [
            "Epoch 3/150 [Train]: 100%|██████████| 226/226 [00:15<00:00, 14.93it/s]\n"
          ]
        },
        {
          "name": "stdout",
          "output_type": "stream",
          "text": [
            "Epoch 3/150 - Train Loss: 1.8022, Train Acc: 24.46% | Val Loss: 1.7944, Val Acc: 26.03%\n"
          ]
        },
        {
          "name": "stderr",
          "output_type": "stream",
          "text": [
            "Epoch 4/150 [Train]: 100%|██████████| 226/226 [00:16<00:00, 13.38it/s]\n"
          ]
        },
        {
          "name": "stdout",
          "output_type": "stream",
          "text": [
            "Epoch 4/150 - Train Loss: 1.7188, Train Acc: 30.10% | Val Loss: 1.6683, Val Acc: 33.13%\n"
          ]
        },
        {
          "name": "stderr",
          "output_type": "stream",
          "text": [
            "Epoch 5/150 [Train]: 100%|██████████| 226/226 [00:16<00:00, 13.38it/s]\n"
          ]
        },
        {
          "name": "stdout",
          "output_type": "stream",
          "text": [
            "Epoch 5/150 - Train Loss: 1.6240, Train Acc: 35.35% | Val Loss: 1.6570, Val Acc: 34.33%\n"
          ]
        },
        {
          "name": "stderr",
          "output_type": "stream",
          "text": [
            "Epoch 6/150 [Train]: 100%|██████████| 226/226 [00:23<00:00,  9.60it/s]\n"
          ]
        },
        {
          "name": "stdout",
          "output_type": "stream",
          "text": [
            "Epoch 6/150 - Train Loss: 1.5705, Train Acc: 37.69% | Val Loss: 1.4684, Val Acc: 42.46%\n"
          ]
        },
        {
          "name": "stderr",
          "output_type": "stream",
          "text": [
            "Epoch 7/150 [Train]: 100%|██████████| 226/226 [00:26<00:00,  8.55it/s]\n"
          ]
        },
        {
          "name": "stdout",
          "output_type": "stream",
          "text": [
            "Epoch 7/150 - Train Loss: 1.5361, Train Acc: 39.09% | Val Loss: 1.4252, Val Acc: 44.64%\n"
          ]
        },
        {
          "name": "stderr",
          "output_type": "stream",
          "text": [
            "Epoch 8/150 [Train]: 100%|██████████| 226/226 [00:26<00:00,  8.57it/s]\n"
          ]
        },
        {
          "name": "stdout",
          "output_type": "stream",
          "text": [
            "Epoch 8/150 - Train Loss: 1.5074, Train Acc: 40.43% | Val Loss: 1.4407, Val Acc: 43.46%\n"
          ]
        },
        {
          "name": "stderr",
          "output_type": "stream",
          "text": [
            "Epoch 9/150 [Train]: 100%|██████████| 226/226 [00:29<00:00,  7.78it/s]\n"
          ]
        },
        {
          "name": "stdout",
          "output_type": "stream",
          "text": [
            "Epoch 9/150 - Train Loss: 1.4880, Train Acc: 41.71% | Val Loss: 1.3918, Val Acc: 44.91%\n"
          ]
        },
        {
          "name": "stderr",
          "output_type": "stream",
          "text": [
            "Epoch 10/150 [Train]: 100%|██████████| 226/226 [00:24<00:00,  9.16it/s]\n"
          ]
        },
        {
          "name": "stdout",
          "output_type": "stream",
          "text": [
            "Epoch 10/150 - Train Loss: 1.4597, Train Acc: 43.19% | Val Loss: 1.3846, Val Acc: 46.15%\n"
          ]
        },
        {
          "name": "stderr",
          "output_type": "stream",
          "text": [
            "Epoch 11/150 [Train]: 100%|██████████| 226/226 [00:25<00:00,  9.01it/s]\n"
          ]
        },
        {
          "name": "stdout",
          "output_type": "stream",
          "text": [
            "Epoch 11/150 - Train Loss: 1.4414, Train Acc: 44.36% | Val Loss: 1.3468, Val Acc: 47.45%\n"
          ]
        },
        {
          "name": "stderr",
          "output_type": "stream",
          "text": [
            "Epoch 12/150 [Train]: 100%|██████████| 226/226 [00:24<00:00,  9.17it/s]\n"
          ]
        },
        {
          "name": "stdout",
          "output_type": "stream",
          "text": [
            "Epoch 12/150 - Train Loss: 1.4268, Train Acc: 44.85% | Val Loss: 1.3440, Val Acc: 47.48%\n"
          ]
        },
        {
          "name": "stderr",
          "output_type": "stream",
          "text": [
            "Epoch 13/150 [Train]: 100%|██████████| 226/226 [00:23<00:00,  9.79it/s]\n"
          ]
        },
        {
          "name": "stdout",
          "output_type": "stream",
          "text": [
            "Epoch 13/150 - Train Loss: 1.4044, Train Acc: 46.18% | Val Loss: 1.3362, Val Acc: 48.81%\n"
          ]
        },
        {
          "name": "stderr",
          "output_type": "stream",
          "text": [
            "Epoch 14/150 [Train]: 100%|██████████| 226/226 [00:25<00:00,  8.81it/s]\n"
          ]
        },
        {
          "name": "stdout",
          "output_type": "stream",
          "text": [
            "Epoch 14/150 - Train Loss: 1.3932, Train Acc: 46.73% | Val Loss: 1.3291, Val Acc: 48.37%\n"
          ]
        },
        {
          "name": "stderr",
          "output_type": "stream",
          "text": [
            "Epoch 15/150 [Train]: 100%|██████████| 226/226 [00:28<00:00,  7.95it/s]\n"
          ]
        },
        {
          "name": "stdout",
          "output_type": "stream",
          "text": [
            "Epoch 15/150 - Train Loss: 1.3765, Train Acc: 47.29% | Val Loss: 1.3407, Val Acc: 48.71%\n"
          ]
        },
        {
          "name": "stderr",
          "output_type": "stream",
          "text": [
            "Epoch 16/150 [Train]: 100%|██████████| 226/226 [00:29<00:00,  7.58it/s]\n"
          ]
        },
        {
          "name": "stdout",
          "output_type": "stream",
          "text": [
            "Epoch 16/150 - Train Loss: 1.3643, Train Acc: 47.94% | Val Loss: 1.2606, Val Acc: 51.73%\n"
          ]
        },
        {
          "name": "stderr",
          "output_type": "stream",
          "text": [
            "Epoch 17/150 [Train]: 100%|██████████| 226/226 [00:28<00:00,  7.87it/s]\n"
          ]
        },
        {
          "name": "stdout",
          "output_type": "stream",
          "text": [
            "Epoch 17/150 - Train Loss: 1.3570, Train Acc: 48.60% | Val Loss: 1.2560, Val Acc: 51.83%\n"
          ]
        },
        {
          "name": "stderr",
          "output_type": "stream",
          "text": [
            "Epoch 18/150 [Train]: 100%|██████████| 226/226 [00:36<00:00,  6.17it/s]\n"
          ]
        },
        {
          "name": "stdout",
          "output_type": "stream",
          "text": [
            "Epoch 18/150 - Train Loss: 1.3401, Train Acc: 48.82% | Val Loss: 1.2606, Val Acc: 51.32%\n"
          ]
        },
        {
          "name": "stderr",
          "output_type": "stream",
          "text": [
            "Epoch 19/150 [Train]: 100%|██████████| 226/226 [00:32<00:00,  7.05it/s]\n"
          ]
        },
        {
          "name": "stdout",
          "output_type": "stream",
          "text": [
            "Epoch 19/150 - Train Loss: 1.3323, Train Acc: 49.17% | Val Loss: 1.2373, Val Acc: 52.80%\n"
          ]
        },
        {
          "name": "stderr",
          "output_type": "stream",
          "text": [
            "Epoch 20/150 [Train]: 100%|██████████| 226/226 [00:31<00:00,  7.24it/s]\n"
          ]
        },
        {
          "name": "stdout",
          "output_type": "stream",
          "text": [
            "Epoch 20/150 - Train Loss: 1.3211, Train Acc: 49.92% | Val Loss: 1.2293, Val Acc: 52.84%\n"
          ]
        },
        {
          "name": "stderr",
          "output_type": "stream",
          "text": [
            "Epoch 21/150 [Train]: 100%|██████████| 226/226 [00:29<00:00,  7.64it/s]\n"
          ]
        },
        {
          "name": "stdout",
          "output_type": "stream",
          "text": [
            "Epoch 21/150 - Train Loss: 1.3098, Train Acc: 49.68% | Val Loss: 1.2294, Val Acc: 52.92%\n"
          ]
        },
        {
          "name": "stderr",
          "output_type": "stream",
          "text": [
            "Epoch 22/150 [Train]: 100%|██████████| 226/226 [00:33<00:00,  6.72it/s]\n"
          ]
        },
        {
          "name": "stdout",
          "output_type": "stream",
          "text": [
            "Epoch 22/150 - Train Loss: 1.3027, Train Acc: 50.59% | Val Loss: 1.2055, Val Acc: 53.45%\n"
          ]
        },
        {
          "name": "stderr",
          "output_type": "stream",
          "text": [
            "Epoch 23/150 [Train]: 100%|██████████| 226/226 [00:29<00:00,  7.70it/s]\n"
          ]
        },
        {
          "name": "stdout",
          "output_type": "stream",
          "text": [
            "Epoch 23/150 - Train Loss: 1.2971, Train Acc: 50.56% | Val Loss: 1.2041, Val Acc: 53.79%\n"
          ]
        },
        {
          "name": "stderr",
          "output_type": "stream",
          "text": [
            "Epoch 24/150 [Train]: 100%|██████████| 226/226 [00:29<00:00,  7.78it/s]\n"
          ]
        },
        {
          "name": "stdout",
          "output_type": "stream",
          "text": [
            "Epoch 24/150 - Train Loss: 1.2864, Train Acc: 51.16% | Val Loss: 1.2250, Val Acc: 53.51%\n"
          ]
        },
        {
          "name": "stderr",
          "output_type": "stream",
          "text": [
            "Epoch 25/150 [Train]: 100%|██████████| 226/226 [00:30<00:00,  7.40it/s]\n"
          ]
        },
        {
          "name": "stdout",
          "output_type": "stream",
          "text": [
            "Epoch 25/150 - Train Loss: 1.2743, Train Acc: 51.68% | Val Loss: 1.2162, Val Acc: 53.57%\n"
          ]
        },
        {
          "name": "stderr",
          "output_type": "stream",
          "text": [
            "Epoch 26/150 [Train]: 100%|██████████| 226/226 [00:28<00:00,  8.02it/s]\n"
          ]
        },
        {
          "name": "stdout",
          "output_type": "stream",
          "text": [
            "Epoch 26/150 - Train Loss: 1.2686, Train Acc: 51.89% | Val Loss: 1.1808, Val Acc: 54.60%\n"
          ]
        },
        {
          "name": "stderr",
          "output_type": "stream",
          "text": [
            "Epoch 27/150 [Train]: 100%|██████████| 226/226 [00:27<00:00,  8.17it/s]\n"
          ]
        },
        {
          "name": "stdout",
          "output_type": "stream",
          "text": [
            "Epoch 27/150 - Train Loss: 1.2613, Train Acc: 52.25% | Val Loss: 1.1756, Val Acc: 54.85%\n"
          ]
        },
        {
          "name": "stderr",
          "output_type": "stream",
          "text": [
            "Epoch 28/150 [Train]: 100%|██████████| 226/226 [00:29<00:00,  7.77it/s]\n"
          ]
        },
        {
          "name": "stdout",
          "output_type": "stream",
          "text": [
            "Epoch 28/150 - Train Loss: 1.2529, Train Acc: 52.48% | Val Loss: 1.2190, Val Acc: 53.28%\n"
          ]
        },
        {
          "name": "stderr",
          "output_type": "stream",
          "text": [
            "Epoch 29/150 [Train]: 100%|██████████| 226/226 [00:26<00:00,  8.47it/s]\n"
          ]
        },
        {
          "name": "stdout",
          "output_type": "stream",
          "text": [
            "Epoch 29/150 - Train Loss: 1.2466, Train Acc: 52.88% | Val Loss: 1.1681, Val Acc: 55.22%\n"
          ]
        },
        {
          "name": "stderr",
          "output_type": "stream",
          "text": [
            "Epoch 30/150 [Train]: 100%|██████████| 226/226 [00:28<00:00,  7.98it/s]\n"
          ]
        },
        {
          "name": "stdout",
          "output_type": "stream",
          "text": [
            "Epoch 30/150 - Train Loss: 1.2417, Train Acc: 53.28% | Val Loss: 1.1705, Val Acc: 55.35%\n"
          ]
        },
        {
          "name": "stderr",
          "output_type": "stream",
          "text": [
            "Epoch 31/150 [Train]: 100%|██████████| 226/226 [00:29<00:00,  7.75it/s]\n"
          ]
        },
        {
          "name": "stdout",
          "output_type": "stream",
          "text": [
            "Epoch 31/150 - Train Loss: 1.2322, Train Acc: 53.07% | Val Loss: 1.1633, Val Acc: 55.41%\n"
          ]
        },
        {
          "name": "stderr",
          "output_type": "stream",
          "text": [
            "Epoch 32/150 [Train]: 100%|██████████| 226/226 [00:26<00:00,  8.60it/s]\n"
          ]
        },
        {
          "name": "stdout",
          "output_type": "stream",
          "text": [
            "Epoch 32/150 - Train Loss: 1.2281, Train Acc: 53.36% | Val Loss: 1.1692, Val Acc: 55.35%\n"
          ]
        },
        {
          "name": "stderr",
          "output_type": "stream",
          "text": [
            "Epoch 33/150 [Train]: 100%|██████████| 226/226 [00:29<00:00,  7.77it/s]\n"
          ]
        },
        {
          "name": "stdout",
          "output_type": "stream",
          "text": [
            "Epoch 33/150 - Train Loss: 1.2186, Train Acc: 53.90% | Val Loss: 1.1509, Val Acc: 56.23%\n"
          ]
        },
        {
          "name": "stderr",
          "output_type": "stream",
          "text": [
            "Epoch 34/150 [Train]: 100%|██████████| 226/226 [00:27<00:00,  8.28it/s]\n"
          ]
        },
        {
          "name": "stdout",
          "output_type": "stream",
          "text": [
            "Epoch 34/150 - Train Loss: 1.2068, Train Acc: 54.42% | Val Loss: 1.1446, Val Acc: 56.98%\n"
          ]
        },
        {
          "name": "stderr",
          "output_type": "stream",
          "text": [
            "Epoch 35/150 [Train]: 100%|██████████| 226/226 [00:32<00:00,  7.01it/s]\n"
          ]
        },
        {
          "name": "stdout",
          "output_type": "stream",
          "text": [
            "Epoch 35/150 - Train Loss: 1.2108, Train Acc: 54.65% | Val Loss: 1.1496, Val Acc: 56.27%\n"
          ]
        },
        {
          "name": "stderr",
          "output_type": "stream",
          "text": [
            "Epoch 36/150 [Train]: 100%|██████████| 226/226 [00:25<00:00,  8.74it/s]\n"
          ]
        },
        {
          "name": "stdout",
          "output_type": "stream",
          "text": [
            "Epoch 36/150 - Train Loss: 1.1972, Train Acc: 54.89% | Val Loss: 1.1621, Val Acc: 56.31%\n"
          ]
        },
        {
          "name": "stderr",
          "output_type": "stream",
          "text": [
            "Epoch 37/150 [Train]: 100%|██████████| 226/226 [00:30<00:00,  7.32it/s]\n"
          ]
        },
        {
          "name": "stdout",
          "output_type": "stream",
          "text": [
            "Epoch 37/150 - Train Loss: 1.1915, Train Acc: 54.83% | Val Loss: 1.1274, Val Acc: 57.13%\n"
          ]
        },
        {
          "name": "stderr",
          "output_type": "stream",
          "text": [
            "Epoch 38/150 [Train]: 100%|██████████| 226/226 [00:28<00:00,  7.85it/s]\n"
          ]
        },
        {
          "name": "stdout",
          "output_type": "stream",
          "text": [
            "Epoch 38/150 - Train Loss: 1.1916, Train Acc: 54.92% | Val Loss: 1.1361, Val Acc: 56.99%\n"
          ]
        },
        {
          "name": "stderr",
          "output_type": "stream",
          "text": [
            "Epoch 39/150 [Train]: 100%|██████████| 226/226 [00:28<00:00,  7.92it/s]\n"
          ]
        },
        {
          "name": "stdout",
          "output_type": "stream",
          "text": [
            "Epoch 39/150 - Train Loss: 1.1791, Train Acc: 55.69% | Val Loss: 1.1176, Val Acc: 58.28%\n"
          ]
        },
        {
          "name": "stderr",
          "output_type": "stream",
          "text": [
            "Epoch 40/150 [Train]: 100%|██████████| 226/226 [00:28<00:00,  7.82it/s]\n"
          ]
        },
        {
          "name": "stdout",
          "output_type": "stream",
          "text": [
            "Epoch 40/150 - Train Loss: 1.1788, Train Acc: 55.62% | Val Loss: 1.1327, Val Acc: 57.12%\n"
          ]
        },
        {
          "name": "stderr",
          "output_type": "stream",
          "text": [
            "Epoch 41/150 [Train]: 100%|██████████| 226/226 [00:28<00:00,  7.95it/s]\n"
          ]
        },
        {
          "name": "stdout",
          "output_type": "stream",
          "text": [
            "Epoch 41/150 - Train Loss: 1.1742, Train Acc: 55.63% | Val Loss: 1.1183, Val Acc: 57.95%\n"
          ]
        },
        {
          "name": "stderr",
          "output_type": "stream",
          "text": [
            "Epoch 42/150 [Train]: 100%|██████████| 226/226 [00:27<00:00,  8.09it/s]\n"
          ]
        },
        {
          "name": "stdout",
          "output_type": "stream",
          "text": [
            "Epoch 42/150 - Train Loss: 1.1718, Train Acc: 56.26% | Val Loss: 1.1108, Val Acc: 58.56%\n"
          ]
        },
        {
          "name": "stderr",
          "output_type": "stream",
          "text": [
            "Epoch 43/150 [Train]: 100%|██████████| 226/226 [00:29<00:00,  7.72it/s]\n"
          ]
        },
        {
          "name": "stdout",
          "output_type": "stream",
          "text": [
            "Epoch 43/150 - Train Loss: 1.1591, Train Acc: 56.58% | Val Loss: 1.1294, Val Acc: 57.49%\n"
          ]
        },
        {
          "name": "stderr",
          "output_type": "stream",
          "text": [
            "Epoch 44/150 [Train]: 100%|██████████| 226/226 [00:25<00:00,  8.70it/s]\n"
          ]
        },
        {
          "name": "stdout",
          "output_type": "stream",
          "text": [
            "Epoch 44/150 - Train Loss: 1.1557, Train Acc: 56.56% | Val Loss: 1.1179, Val Acc: 58.58%\n"
          ]
        },
        {
          "name": "stderr",
          "output_type": "stream",
          "text": [
            "Epoch 45/150 [Train]: 100%|██████████| 226/226 [00:24<00:00,  9.19it/s]\n"
          ]
        },
        {
          "name": "stdout",
          "output_type": "stream",
          "text": [
            "Epoch 45/150 - Train Loss: 1.1457, Train Acc: 57.20% | Val Loss: 1.1147, Val Acc: 59.03%\n"
          ]
        },
        {
          "name": "stderr",
          "output_type": "stream",
          "text": [
            "Epoch 46/150 [Train]: 100%|██████████| 226/226 [00:26<00:00,  8.58it/s]\n"
          ]
        },
        {
          "name": "stdout",
          "output_type": "stream",
          "text": [
            "Epoch 46/150 - Train Loss: 1.1435, Train Acc: 57.15% | Val Loss: 1.1045, Val Acc: 58.82%\n"
          ]
        },
        {
          "name": "stderr",
          "output_type": "stream",
          "text": [
            "Epoch 47/150 [Train]: 100%|██████████| 226/226 [00:27<00:00,  8.09it/s]\n"
          ]
        },
        {
          "name": "stdout",
          "output_type": "stream",
          "text": [
            "Epoch 47/150 - Train Loss: 1.1385, Train Acc: 57.49% | Val Loss: 1.0940, Val Acc: 59.55%\n"
          ]
        },
        {
          "name": "stderr",
          "output_type": "stream",
          "text": [
            "Epoch 48/150 [Train]: 100%|██████████| 226/226 [00:27<00:00,  8.33it/s]\n"
          ]
        },
        {
          "name": "stdout",
          "output_type": "stream",
          "text": [
            "Epoch 48/150 - Train Loss: 1.1371, Train Acc: 57.54% | Val Loss: 1.1055, Val Acc: 58.70%\n"
          ]
        },
        {
          "name": "stderr",
          "output_type": "stream",
          "text": [
            "Epoch 49/150 [Train]: 100%|██████████| 226/226 [00:28<00:00,  8.06it/s]\n"
          ]
        },
        {
          "name": "stdout",
          "output_type": "stream",
          "text": [
            "Epoch 49/150 - Train Loss: 1.1212, Train Acc: 57.90% | Val Loss: 1.0896, Val Acc: 59.65%\n"
          ]
        },
        {
          "name": "stderr",
          "output_type": "stream",
          "text": [
            "Epoch 50/150 [Train]: 100%|██████████| 226/226 [00:26<00:00,  8.68it/s]\n"
          ]
        },
        {
          "name": "stdout",
          "output_type": "stream",
          "text": [
            "Epoch 50/150 - Train Loss: 1.1222, Train Acc: 57.99% | Val Loss: 1.1234, Val Acc: 59.13%\n"
          ]
        },
        {
          "name": "stderr",
          "output_type": "stream",
          "text": [
            "Epoch 51/150 [Train]: 100%|██████████| 226/226 [00:28<00:00,  8.00it/s]\n"
          ]
        },
        {
          "name": "stdout",
          "output_type": "stream",
          "text": [
            "Epoch 51/150 - Train Loss: 1.1115, Train Acc: 58.61% | Val Loss: 1.1266, Val Acc: 58.62%\n"
          ]
        },
        {
          "name": "stderr",
          "output_type": "stream",
          "text": [
            "Epoch 52/150 [Train]: 100%|██████████| 226/226 [00:27<00:00,  8.30it/s]\n"
          ]
        },
        {
          "name": "stdout",
          "output_type": "stream",
          "text": [
            "Epoch 52/150 - Train Loss: 1.1084, Train Acc: 58.67% | Val Loss: 1.0788, Val Acc: 59.95%\n"
          ]
        },
        {
          "name": "stderr",
          "output_type": "stream",
          "text": [
            "Epoch 53/150 [Train]: 100%|██████████| 226/226 [00:29<00:00,  7.64it/s]\n"
          ]
        },
        {
          "name": "stdout",
          "output_type": "stream",
          "text": [
            "Epoch 53/150 - Train Loss: 1.1095, Train Acc: 58.61% | Val Loss: 1.0838, Val Acc: 59.85%\n"
          ]
        },
        {
          "name": "stderr",
          "output_type": "stream",
          "text": [
            "Epoch 54/150 [Train]: 100%|██████████| 226/226 [00:27<00:00,  8.31it/s]\n"
          ]
        },
        {
          "name": "stdout",
          "output_type": "stream",
          "text": [
            "Epoch 54/150 - Train Loss: 1.0967, Train Acc: 59.03% | Val Loss: 1.1050, Val Acc: 58.99%\n"
          ]
        },
        {
          "name": "stderr",
          "output_type": "stream",
          "text": [
            "Epoch 55/150 [Train]: 100%|██████████| 226/226 [00:31<00:00,  7.21it/s]\n"
          ]
        },
        {
          "name": "stdout",
          "output_type": "stream",
          "text": [
            "Epoch 55/150 - Train Loss: 1.0992, Train Acc: 59.04% | Val Loss: 1.0840, Val Acc: 59.81%\n"
          ]
        },
        {
          "name": "stderr",
          "output_type": "stream",
          "text": [
            "Epoch 56/150 [Train]: 100%|██████████| 226/226 [00:31<00:00,  7.28it/s]\n"
          ]
        },
        {
          "name": "stdout",
          "output_type": "stream",
          "text": [
            "Epoch 56/150 - Train Loss: 1.0936, Train Acc: 59.51% | Val Loss: 1.0820, Val Acc: 59.85%\n"
          ]
        },
        {
          "name": "stderr",
          "output_type": "stream",
          "text": [
            "Epoch 57/150 [Train]: 100%|██████████| 226/226 [00:30<00:00,  7.43it/s]\n"
          ]
        },
        {
          "name": "stdout",
          "output_type": "stream",
          "text": [
            "Epoch 57/150 - Train Loss: 1.0919, Train Acc: 59.45% | Val Loss: 1.0742, Val Acc: 60.44%\n"
          ]
        },
        {
          "name": "stderr",
          "output_type": "stream",
          "text": [
            "Epoch 58/150 [Train]: 100%|██████████| 226/226 [00:30<00:00,  7.52it/s]\n"
          ]
        },
        {
          "name": "stdout",
          "output_type": "stream",
          "text": [
            "Epoch 58/150 - Train Loss: 1.0831, Train Acc: 59.75% | Val Loss: 1.0849, Val Acc: 59.78%\n"
          ]
        },
        {
          "name": "stderr",
          "output_type": "stream",
          "text": [
            "Epoch 59/150 [Train]: 100%|██████████| 226/226 [00:28<00:00,  7.96it/s]\n"
          ]
        },
        {
          "name": "stdout",
          "output_type": "stream",
          "text": [
            "Epoch 59/150 - Train Loss: 1.0859, Train Acc: 59.85% | Val Loss: 1.0728, Val Acc: 60.08%\n"
          ]
        },
        {
          "name": "stderr",
          "output_type": "stream",
          "text": [
            "Epoch 60/150 [Train]: 100%|██████████| 226/226 [00:27<00:00,  8.16it/s]\n"
          ]
        },
        {
          "name": "stdout",
          "output_type": "stream",
          "text": [
            "Epoch 60/150 - Train Loss: 1.0740, Train Acc: 60.14% | Val Loss: 1.0654, Val Acc: 60.32%\n"
          ]
        },
        {
          "name": "stderr",
          "output_type": "stream",
          "text": [
            "Epoch 61/150 [Train]: 100%|██████████| 226/226 [00:27<00:00,  8.33it/s]\n"
          ]
        },
        {
          "name": "stdout",
          "output_type": "stream",
          "text": [
            "Epoch 61/150 - Train Loss: 1.0751, Train Acc: 60.03% | Val Loss: 1.0890, Val Acc: 59.74%\n"
          ]
        },
        {
          "name": "stderr",
          "output_type": "stream",
          "text": [
            "Epoch 62/150 [Train]: 100%|██████████| 226/226 [00:28<00:00,  7.96it/s]\n"
          ]
        },
        {
          "name": "stdout",
          "output_type": "stream",
          "text": [
            "Epoch 62/150 - Train Loss: 1.0716, Train Acc: 60.36% | Val Loss: 1.0843, Val Acc: 59.88%\n"
          ]
        },
        {
          "name": "stderr",
          "output_type": "stream",
          "text": [
            "Epoch 63/150 [Train]: 100%|██████████| 226/226 [00:26<00:00,  8.51it/s]\n"
          ]
        },
        {
          "name": "stdout",
          "output_type": "stream",
          "text": [
            "Epoch 63/150 - Train Loss: 1.0580, Train Acc: 60.70% | Val Loss: 1.0680, Val Acc: 60.68%\n"
          ]
        },
        {
          "name": "stderr",
          "output_type": "stream",
          "text": [
            "Epoch 64/150 [Train]: 100%|██████████| 226/226 [00:22<00:00,  9.88it/s]\n"
          ]
        },
        {
          "name": "stdout",
          "output_type": "stream",
          "text": [
            "Epoch 64/150 - Train Loss: 1.0517, Train Acc: 60.73% | Val Loss: 1.0725, Val Acc: 60.98%\n"
          ]
        },
        {
          "name": "stderr",
          "output_type": "stream",
          "text": [
            "Epoch 65/150 [Train]: 100%|██████████| 226/226 [00:25<00:00,  9.00it/s]\n"
          ]
        },
        {
          "name": "stdout",
          "output_type": "stream",
          "text": [
            "Epoch 65/150 - Train Loss: 1.0547, Train Acc: 60.76% | Val Loss: 1.0540, Val Acc: 61.17%\n"
          ]
        },
        {
          "name": "stderr",
          "output_type": "stream",
          "text": [
            "Epoch 66/150 [Train]: 100%|██████████| 226/226 [00:27<00:00,  8.14it/s]\n"
          ]
        },
        {
          "name": "stdout",
          "output_type": "stream",
          "text": [
            "Epoch 66/150 - Train Loss: 1.0493, Train Acc: 60.87% | Val Loss: 1.0688, Val Acc: 61.02%\n"
          ]
        },
        {
          "name": "stderr",
          "output_type": "stream",
          "text": [
            "Epoch 67/150 [Train]: 100%|██████████| 226/226 [00:28<00:00,  7.81it/s]\n"
          ]
        },
        {
          "name": "stdout",
          "output_type": "stream",
          "text": [
            "Epoch 67/150 - Train Loss: 1.0457, Train Acc: 61.22% | Val Loss: 1.0532, Val Acc: 61.01%\n"
          ]
        },
        {
          "name": "stderr",
          "output_type": "stream",
          "text": [
            "Epoch 68/150 [Train]: 100%|██████████| 226/226 [00:28<00:00,  7.93it/s]\n"
          ]
        },
        {
          "name": "stdout",
          "output_type": "stream",
          "text": [
            "Epoch 68/150 - Train Loss: 1.0424, Train Acc: 61.30% | Val Loss: 1.0463, Val Acc: 61.58%\n"
          ]
        },
        {
          "name": "stderr",
          "output_type": "stream",
          "text": [
            "Epoch 69/150 [Train]: 100%|██████████| 226/226 [00:26<00:00,  8.61it/s]\n"
          ]
        },
        {
          "name": "stdout",
          "output_type": "stream",
          "text": [
            "Epoch 69/150 - Train Loss: 1.0375, Train Acc: 61.42% | Val Loss: 1.0580, Val Acc: 61.11%\n"
          ]
        },
        {
          "name": "stderr",
          "output_type": "stream",
          "text": [
            "Epoch 70/150 [Train]: 100%|██████████| 226/226 [00:28<00:00,  7.83it/s]\n"
          ]
        },
        {
          "name": "stdout",
          "output_type": "stream",
          "text": [
            "Epoch 70/150 - Train Loss: 1.0427, Train Acc: 61.35% | Val Loss: 1.0480, Val Acc: 61.28%\n"
          ]
        },
        {
          "name": "stderr",
          "output_type": "stream",
          "text": [
            "Epoch 71/150 [Train]: 100%|██████████| 226/226 [00:27<00:00,  8.28it/s]\n"
          ]
        },
        {
          "name": "stdout",
          "output_type": "stream",
          "text": [
            "Epoch 71/150 - Train Loss: 1.0282, Train Acc: 61.72% | Val Loss: 1.0721, Val Acc: 60.66%\n"
          ]
        },
        {
          "name": "stderr",
          "output_type": "stream",
          "text": [
            "Epoch 72/150 [Train]: 100%|██████████| 226/226 [00:28<00:00,  7.83it/s]\n"
          ]
        },
        {
          "name": "stdout",
          "output_type": "stream",
          "text": [
            "Epoch 72/150 - Train Loss: 1.0282, Train Acc: 61.73% | Val Loss: 1.0457, Val Acc: 61.72%\n"
          ]
        },
        {
          "name": "stderr",
          "output_type": "stream",
          "text": [
            "Epoch 73/150 [Train]: 100%|██████████| 226/226 [00:30<00:00,  7.40it/s]\n"
          ]
        },
        {
          "name": "stdout",
          "output_type": "stream",
          "text": [
            "Epoch 73/150 - Train Loss: 1.0204, Train Acc: 61.82% | Val Loss: 1.0522, Val Acc: 61.75%\n"
          ]
        },
        {
          "name": "stderr",
          "output_type": "stream",
          "text": [
            "Epoch 74/150 [Train]: 100%|██████████| 226/226 [00:33<00:00,  6.72it/s]\n"
          ]
        },
        {
          "name": "stdout",
          "output_type": "stream",
          "text": [
            "Epoch 74/150 - Train Loss: 1.0203, Train Acc: 61.90% | Val Loss: 1.0607, Val Acc: 61.49%\n"
          ]
        },
        {
          "name": "stderr",
          "output_type": "stream",
          "text": [
            "Epoch 75/150 [Train]: 100%|██████████| 226/226 [00:33<00:00,  6.78it/s]\n"
          ]
        },
        {
          "name": "stdout",
          "output_type": "stream",
          "text": [
            "Epoch 75/150 - Train Loss: 1.0114, Train Acc: 62.27% | Val Loss: 1.0403, Val Acc: 61.80%\n"
          ]
        },
        {
          "name": "stderr",
          "output_type": "stream",
          "text": [
            "Epoch 76/150 [Train]: 100%|██████████| 226/226 [00:25<00:00,  8.93it/s]\n"
          ]
        },
        {
          "name": "stdout",
          "output_type": "stream",
          "text": [
            "Epoch 76/150 - Train Loss: 1.0114, Train Acc: 62.43% | Val Loss: 1.0558, Val Acc: 61.34%\n"
          ]
        },
        {
          "name": "stderr",
          "output_type": "stream",
          "text": [
            "Epoch 77/150 [Train]: 100%|██████████| 226/226 [00:28<00:00,  7.82it/s]\n"
          ]
        },
        {
          "name": "stdout",
          "output_type": "stream",
          "text": [
            "Epoch 77/150 - Train Loss: 1.0035, Train Acc: 63.01% | Val Loss: 1.0567, Val Acc: 61.32%\n"
          ]
        },
        {
          "name": "stderr",
          "output_type": "stream",
          "text": [
            "Epoch 78/150 [Train]: 100%|██████████| 226/226 [00:30<00:00,  7.30it/s]\n"
          ]
        },
        {
          "name": "stdout",
          "output_type": "stream",
          "text": [
            "Epoch 78/150 - Train Loss: 1.0068, Train Acc: 62.19% | Val Loss: 1.0523, Val Acc: 61.66%\n"
          ]
        },
        {
          "name": "stderr",
          "output_type": "stream",
          "text": [
            "Epoch 79/150 [Train]: 100%|██████████| 226/226 [00:28<00:00,  8.04it/s]\n"
          ]
        },
        {
          "name": "stdout",
          "output_type": "stream",
          "text": [
            "Epoch 79/150 - Train Loss: 1.0050, Train Acc: 63.01% | Val Loss: 1.0558, Val Acc: 61.73%\n"
          ]
        },
        {
          "name": "stderr",
          "output_type": "stream",
          "text": [
            "Epoch 80/150 [Train]: 100%|██████████| 226/226 [00:30<00:00,  7.33it/s]\n"
          ]
        },
        {
          "name": "stdout",
          "output_type": "stream",
          "text": [
            "Epoch 80/150 - Train Loss: 0.9927, Train Acc: 63.04% | Val Loss: 1.0574, Val Acc: 61.10%\n"
          ]
        },
        {
          "name": "stderr",
          "output_type": "stream",
          "text": [
            "Epoch 81/150 [Train]: 100%|██████████| 226/226 [00:30<00:00,  7.38it/s]\n"
          ]
        },
        {
          "name": "stdout",
          "output_type": "stream",
          "text": [
            "Epoch 81/150 - Train Loss: 0.9917, Train Acc: 63.21% | Val Loss: 1.0575, Val Acc: 61.89%\n"
          ]
        },
        {
          "name": "stderr",
          "output_type": "stream",
          "text": [
            "Epoch 82/150 [Train]: 100%|██████████| 226/226 [00:28<00:00,  7.86it/s]\n"
          ]
        },
        {
          "name": "stdout",
          "output_type": "stream",
          "text": [
            "Epoch 82/150 - Train Loss: 0.9965, Train Acc: 62.92% | Val Loss: 1.0333, Val Acc: 62.17%\n"
          ]
        },
        {
          "name": "stderr",
          "output_type": "stream",
          "text": [
            "Epoch 83/150 [Train]: 100%|██████████| 226/226 [00:29<00:00,  7.53it/s]\n"
          ]
        },
        {
          "name": "stdout",
          "output_type": "stream",
          "text": [
            "Epoch 83/150 - Train Loss: 0.9871, Train Acc: 63.08% | Val Loss: 1.0444, Val Acc: 62.09%\n"
          ]
        },
        {
          "name": "stderr",
          "output_type": "stream",
          "text": [
            "Epoch 84/150 [Train]: 100%|██████████| 226/226 [00:28<00:00,  7.97it/s]\n"
          ]
        },
        {
          "name": "stdout",
          "output_type": "stream",
          "text": [
            "Epoch 84/150 - Train Loss: 0.9842, Train Acc: 63.65% | Val Loss: 1.0369, Val Acc: 62.37%\n"
          ]
        },
        {
          "name": "stderr",
          "output_type": "stream",
          "text": [
            "Epoch 85/150 [Train]: 100%|██████████| 226/226 [00:30<00:00,  7.35it/s]\n"
          ]
        },
        {
          "name": "stdout",
          "output_type": "stream",
          "text": [
            "Epoch 85/150 - Train Loss: 0.9776, Train Acc: 63.57% | Val Loss: 1.0508, Val Acc: 62.28%\n"
          ]
        },
        {
          "name": "stderr",
          "output_type": "stream",
          "text": [
            "Epoch 86/150 [Train]: 100%|██████████| 226/226 [00:27<00:00,  8.27it/s]\n"
          ]
        },
        {
          "name": "stdout",
          "output_type": "stream",
          "text": [
            "Epoch 86/150 - Train Loss: 0.9749, Train Acc: 63.96% | Val Loss: 1.0467, Val Acc: 61.97%\n"
          ]
        },
        {
          "name": "stderr",
          "output_type": "stream",
          "text": [
            "Epoch 87/150 [Train]: 100%|██████████| 226/226 [00:28<00:00,  7.97it/s]\n"
          ]
        },
        {
          "name": "stdout",
          "output_type": "stream",
          "text": [
            "Epoch 87/150 - Train Loss: 0.9785, Train Acc: 63.67% | Val Loss: 1.0532, Val Acc: 62.10%\n"
          ]
        },
        {
          "name": "stderr",
          "output_type": "stream",
          "text": [
            "Epoch 88/150 [Train]: 100%|██████████| 226/226 [00:28<00:00,  7.86it/s]\n"
          ]
        },
        {
          "name": "stdout",
          "output_type": "stream",
          "text": [
            "Epoch 88/150 - Train Loss: 0.9758, Train Acc: 63.71% | Val Loss: 1.0470, Val Acc: 62.19%\n"
          ]
        },
        {
          "name": "stderr",
          "output_type": "stream",
          "text": [
            "Epoch 89/150 [Train]: 100%|██████████| 226/226 [00:29<00:00,  7.77it/s]\n"
          ]
        },
        {
          "name": "stdout",
          "output_type": "stream",
          "text": [
            "Epoch 89/150 - Train Loss: 0.9664, Train Acc: 63.98% | Val Loss: 1.0479, Val Acc: 62.28%\n"
          ]
        },
        {
          "name": "stderr",
          "output_type": "stream",
          "text": [
            "Epoch 90/150 [Train]: 100%|██████████| 226/226 [00:27<00:00,  8.30it/s]\n"
          ]
        },
        {
          "name": "stdout",
          "output_type": "stream",
          "text": [
            "Epoch 90/150 - Train Loss: 0.9667, Train Acc: 64.45% | Val Loss: 1.0345, Val Acc: 62.62%\n"
          ]
        },
        {
          "name": "stderr",
          "output_type": "stream",
          "text": [
            "Epoch 91/150 [Train]: 100%|██████████| 226/226 [00:24<00:00,  9.29it/s]\n"
          ]
        },
        {
          "name": "stdout",
          "output_type": "stream",
          "text": [
            "Epoch 91/150 - Train Loss: 0.9563, Train Acc: 64.42% | Val Loss: 1.0329, Val Acc: 62.85%\n"
          ]
        },
        {
          "name": "stderr",
          "output_type": "stream",
          "text": [
            "Epoch 92/150 [Train]: 100%|██████████| 226/226 [00:27<00:00,  8.16it/s]\n"
          ]
        },
        {
          "name": "stdout",
          "output_type": "stream",
          "text": [
            "Epoch 92/150 - Train Loss: 0.9560, Train Acc: 64.59% | Val Loss: 1.0205, Val Acc: 62.91%\n"
          ]
        },
        {
          "name": "stderr",
          "output_type": "stream",
          "text": [
            "Epoch 93/150 [Train]: 100%|██████████| 226/226 [00:26<00:00,  8.40it/s]\n"
          ]
        },
        {
          "name": "stdout",
          "output_type": "stream",
          "text": [
            "Epoch 93/150 - Train Loss: 0.9523, Train Acc: 64.73% | Val Loss: 1.0443, Val Acc: 63.08%\n"
          ]
        },
        {
          "name": "stderr",
          "output_type": "stream",
          "text": [
            "Epoch 94/150 [Train]: 100%|██████████| 226/226 [00:29<00:00,  7.67it/s]\n"
          ]
        },
        {
          "name": "stdout",
          "output_type": "stream",
          "text": [
            "Epoch 94/150 - Train Loss: 0.9502, Train Acc: 64.48% | Val Loss: 1.0229, Val Acc: 62.95%\n"
          ]
        },
        {
          "name": "stderr",
          "output_type": "stream",
          "text": [
            "Epoch 95/150 [Train]: 100%|██████████| 226/226 [00:29<00:00,  7.72it/s]\n"
          ]
        },
        {
          "name": "stdout",
          "output_type": "stream",
          "text": [
            "Epoch 95/150 - Train Loss: 0.9405, Train Acc: 65.04% | Val Loss: 1.0484, Val Acc: 63.03%\n"
          ]
        },
        {
          "name": "stderr",
          "output_type": "stream",
          "text": [
            "Epoch 96/150 [Train]: 100%|██████████| 226/226 [00:28<00:00,  7.94it/s]\n"
          ]
        },
        {
          "name": "stdout",
          "output_type": "stream",
          "text": [
            "Epoch 96/150 - Train Loss: 0.9471, Train Acc: 64.95% | Val Loss: 1.0307, Val Acc: 62.81%\n"
          ]
        },
        {
          "name": "stderr",
          "output_type": "stream",
          "text": [
            "Epoch 97/150 [Train]: 100%|██████████| 226/226 [00:26<00:00,  8.44it/s]\n"
          ]
        },
        {
          "name": "stdout",
          "output_type": "stream",
          "text": [
            "Epoch 97/150 - Train Loss: 0.9330, Train Acc: 65.05% | Val Loss: 1.0403, Val Acc: 63.16%\n"
          ]
        },
        {
          "name": "stderr",
          "output_type": "stream",
          "text": [
            "Epoch 98/150 [Train]: 100%|██████████| 226/226 [00:26<00:00,  8.58it/s]\n"
          ]
        },
        {
          "name": "stdout",
          "output_type": "stream",
          "text": [
            "Epoch 98/150 - Train Loss: 0.9359, Train Acc: 64.86% | Val Loss: 1.0301, Val Acc: 63.29%\n"
          ]
        },
        {
          "name": "stderr",
          "output_type": "stream",
          "text": [
            "Epoch 99/150 [Train]: 100%|██████████| 226/226 [00:28<00:00,  7.90it/s]\n"
          ]
        },
        {
          "name": "stdout",
          "output_type": "stream",
          "text": [
            "Epoch 99/150 - Train Loss: 0.9295, Train Acc: 65.59% | Val Loss: 1.0330, Val Acc: 63.03%\n"
          ]
        },
        {
          "name": "stderr",
          "output_type": "stream",
          "text": [
            "Epoch 100/150 [Train]: 100%|██████████| 226/226 [00:28<00:00,  7.85it/s]\n"
          ]
        },
        {
          "name": "stdout",
          "output_type": "stream",
          "text": [
            "Epoch 100/150 - Train Loss: 0.9305, Train Acc: 65.50% | Val Loss: 1.0357, Val Acc: 63.22%\n"
          ]
        },
        {
          "name": "stderr",
          "output_type": "stream",
          "text": [
            "Epoch 101/150 [Train]: 100%|██████████| 226/226 [00:28<00:00,  7.94it/s]\n"
          ]
        },
        {
          "name": "stdout",
          "output_type": "stream",
          "text": [
            "Epoch 101/150 - Train Loss: 0.9322, Train Acc: 65.29% | Val Loss: 1.0213, Val Acc: 63.59%\n"
          ]
        },
        {
          "name": "stderr",
          "output_type": "stream",
          "text": [
            "Epoch 102/150 [Train]: 100%|██████████| 226/226 [00:27<00:00,  8.23it/s]\n"
          ]
        },
        {
          "name": "stdout",
          "output_type": "stream",
          "text": [
            "Epoch 102/150 - Train Loss: 0.9269, Train Acc: 65.57% | Val Loss: 1.0372, Val Acc: 63.39%\n"
          ]
        },
        {
          "name": "stderr",
          "output_type": "stream",
          "text": [
            "Epoch 103/150 [Train]: 100%|██████████| 226/226 [00:26<00:00,  8.56it/s]\n"
          ]
        },
        {
          "name": "stdout",
          "output_type": "stream",
          "text": [
            "Epoch 103/150 - Train Loss: 0.9219, Train Acc: 65.83% | Val Loss: 1.0441, Val Acc: 63.15%\n"
          ]
        },
        {
          "name": "stderr",
          "output_type": "stream",
          "text": [
            "Epoch 104/150 [Train]: 100%|██████████| 226/226 [00:25<00:00,  8.93it/s]\n"
          ]
        },
        {
          "name": "stdout",
          "output_type": "stream",
          "text": [
            "Epoch 104/150 - Train Loss: 0.9178, Train Acc: 65.96% | Val Loss: 1.0152, Val Acc: 63.84%\n"
          ]
        },
        {
          "name": "stderr",
          "output_type": "stream",
          "text": [
            "Epoch 105/150 [Train]: 100%|██████████| 226/226 [00:29<00:00,  7.61it/s]\n"
          ]
        },
        {
          "name": "stdout",
          "output_type": "stream",
          "text": [
            "Epoch 105/150 - Train Loss: 0.9107, Train Acc: 66.15% | Val Loss: 1.0471, Val Acc: 63.18%\n"
          ]
        },
        {
          "name": "stderr",
          "output_type": "stream",
          "text": [
            "Epoch 106/150 [Train]: 100%|██████████| 226/226 [00:29<00:00,  7.79it/s]\n"
          ]
        },
        {
          "name": "stdout",
          "output_type": "stream",
          "text": [
            "Epoch 106/150 - Train Loss: 0.9132, Train Acc: 66.18% | Val Loss: 1.0218, Val Acc: 63.60%\n"
          ]
        },
        {
          "name": "stderr",
          "output_type": "stream",
          "text": [
            "Epoch 107/150 [Train]: 100%|██████████| 226/226 [00:29<00:00,  7.70it/s]\n"
          ]
        },
        {
          "name": "stdout",
          "output_type": "stream",
          "text": [
            "Epoch 107/150 - Train Loss: 0.9112, Train Acc: 66.11% | Val Loss: 1.0256, Val Acc: 63.93%\n"
          ]
        },
        {
          "name": "stderr",
          "output_type": "stream",
          "text": [
            "Epoch 108/150 [Train]: 100%|██████████| 226/226 [00:30<00:00,  7.45it/s]\n"
          ]
        },
        {
          "name": "stdout",
          "output_type": "stream",
          "text": [
            "Epoch 108/150 - Train Loss: 0.9099, Train Acc: 66.48% | Val Loss: 1.0161, Val Acc: 64.04%\n"
          ]
        },
        {
          "name": "stderr",
          "output_type": "stream",
          "text": [
            "Epoch 109/150 [Train]: 100%|██████████| 226/226 [00:31<00:00,  7.14it/s]\n"
          ]
        },
        {
          "name": "stdout",
          "output_type": "stream",
          "text": [
            "Epoch 109/150 - Train Loss: 0.9009, Train Acc: 66.65% | Val Loss: 1.0325, Val Acc: 64.17%\n"
          ]
        },
        {
          "name": "stderr",
          "output_type": "stream",
          "text": [
            "Epoch 110/150 [Train]: 100%|██████████| 226/226 [00:27<00:00,  8.24it/s]\n"
          ]
        },
        {
          "name": "stdout",
          "output_type": "stream",
          "text": [
            "Epoch 110/150 - Train Loss: 0.8956, Train Acc: 67.34% | Val Loss: 1.0245, Val Acc: 63.95%\n"
          ]
        },
        {
          "name": "stderr",
          "output_type": "stream",
          "text": [
            "Epoch 111/150 [Train]: 100%|██████████| 226/226 [00:28<00:00,  7.89it/s]\n"
          ]
        },
        {
          "name": "stdout",
          "output_type": "stream",
          "text": [
            "Epoch 111/150 - Train Loss: 0.9002, Train Acc: 66.53% | Val Loss: 1.0385, Val Acc: 63.22%\n"
          ]
        },
        {
          "name": "stderr",
          "output_type": "stream",
          "text": [
            "Epoch 112/150 [Train]: 100%|██████████| 226/226 [00:31<00:00,  7.16it/s]\n"
          ]
        },
        {
          "name": "stdout",
          "output_type": "stream",
          "text": [
            "Epoch 112/150 - Train Loss: 0.8985, Train Acc: 66.74% | Val Loss: 1.0271, Val Acc: 63.70%\n"
          ]
        },
        {
          "name": "stderr",
          "output_type": "stream",
          "text": [
            "Epoch 113/150 [Train]: 100%|██████████| 226/226 [00:34<00:00,  6.52it/s]\n"
          ]
        },
        {
          "name": "stdout",
          "output_type": "stream",
          "text": [
            "Epoch 113/150 - Train Loss: 0.8889, Train Acc: 66.82% | Val Loss: 1.0351, Val Acc: 63.49%\n"
          ]
        },
        {
          "name": "stderr",
          "output_type": "stream",
          "text": [
            "Epoch 114/150 [Train]: 100%|██████████| 226/226 [00:31<00:00,  7.16it/s]\n"
          ]
        },
        {
          "name": "stdout",
          "output_type": "stream",
          "text": [
            "Epoch 114/150 - Train Loss: 0.8914, Train Acc: 67.36% | Val Loss: 1.0483, Val Acc: 63.90%\n"
          ]
        },
        {
          "name": "stderr",
          "output_type": "stream",
          "text": [
            "Epoch 115/150 [Train]: 100%|██████████| 226/226 [00:30<00:00,  7.43it/s]\n"
          ]
        },
        {
          "name": "stdout",
          "output_type": "stream",
          "text": [
            "Epoch 115/150 - Train Loss: 0.8823, Train Acc: 67.11% | Val Loss: 1.0407, Val Acc: 63.47%\n"
          ]
        },
        {
          "name": "stderr",
          "output_type": "stream",
          "text": [
            "Epoch 116/150 [Train]: 100%|██████████| 226/226 [00:26<00:00,  8.48it/s]\n"
          ]
        },
        {
          "name": "stdout",
          "output_type": "stream",
          "text": [
            "Epoch 116/150 - Train Loss: 0.8789, Train Acc: 67.49% | Val Loss: 1.0763, Val Acc: 63.29%\n"
          ]
        },
        {
          "name": "stderr",
          "output_type": "stream",
          "text": [
            "Epoch 117/150 [Train]: 100%|██████████| 226/226 [00:32<00:00,  7.01it/s]\n"
          ]
        },
        {
          "name": "stdout",
          "output_type": "stream",
          "text": [
            "Epoch 117/150 - Train Loss: 0.8785, Train Acc: 67.44% | Val Loss: 1.0450, Val Acc: 63.44%\n"
          ]
        },
        {
          "name": "stderr",
          "output_type": "stream",
          "text": [
            "Epoch 118/150 [Train]: 100%|██████████| 226/226 [00:32<00:00,  7.01it/s]\n"
          ]
        },
        {
          "name": "stdout",
          "output_type": "stream",
          "text": [
            "Epoch 118/150 - Train Loss: 0.8769, Train Acc: 67.48% | Val Loss: 1.0317, Val Acc: 64.10%\n"
          ]
        },
        {
          "name": "stderr",
          "output_type": "stream",
          "text": [
            "Epoch 119/150 [Train]: 100%|██████████| 226/226 [00:32<00:00,  6.94it/s]\n"
          ]
        },
        {
          "name": "stdout",
          "output_type": "stream",
          "text": [
            "Epoch 119/150 - Train Loss: 0.8710, Train Acc: 67.66% | Val Loss: 1.0354, Val Acc: 64.08%\n"
          ]
        },
        {
          "name": "stderr",
          "output_type": "stream",
          "text": [
            "Epoch 120/150 [Train]: 100%|██████████| 226/226 [00:27<00:00,  8.28it/s]\n"
          ]
        },
        {
          "name": "stdout",
          "output_type": "stream",
          "text": [
            "Epoch 120/150 - Train Loss: 0.8722, Train Acc: 68.09% | Val Loss: 1.0305, Val Acc: 63.52%\n"
          ]
        },
        {
          "name": "stderr",
          "output_type": "stream",
          "text": [
            "Epoch 121/150 [Train]: 100%|██████████| 226/226 [00:30<00:00,  7.45it/s]\n"
          ]
        },
        {
          "name": "stdout",
          "output_type": "stream",
          "text": [
            "Epoch 121/150 - Train Loss: 0.8624, Train Acc: 68.31% | Val Loss: 1.0241, Val Acc: 64.21%\n"
          ]
        },
        {
          "name": "stderr",
          "output_type": "stream",
          "text": [
            "Epoch 122/150 [Train]: 100%|██████████| 226/226 [00:34<00:00,  6.55it/s]\n"
          ]
        },
        {
          "name": "stdout",
          "output_type": "stream",
          "text": [
            "Epoch 122/150 - Train Loss: 0.8638, Train Acc: 68.25% | Val Loss: 1.0545, Val Acc: 63.32%\n"
          ]
        },
        {
          "name": "stderr",
          "output_type": "stream",
          "text": [
            "Epoch 123/150 [Train]: 100%|██████████| 226/226 [00:26<00:00,  8.43it/s]\n"
          ]
        },
        {
          "name": "stdout",
          "output_type": "stream",
          "text": [
            "Epoch 123/150 - Train Loss: 0.8592, Train Acc: 68.37% | Val Loss: 1.0325, Val Acc: 64.08%\n"
          ]
        },
        {
          "name": "stderr",
          "output_type": "stream",
          "text": [
            "Epoch 124/150 [Train]: 100%|██████████| 226/226 [00:30<00:00,  7.46it/s]\n"
          ]
        },
        {
          "name": "stdout",
          "output_type": "stream",
          "text": [
            "Epoch 124/150 - Train Loss: 0.8636, Train Acc: 68.20% | Val Loss: 1.0217, Val Acc: 64.44%\n"
          ]
        },
        {
          "name": "stderr",
          "output_type": "stream",
          "text": [
            "Epoch 125/150 [Train]: 100%|██████████| 226/226 [00:33<00:00,  6.70it/s]\n"
          ]
        },
        {
          "name": "stdout",
          "output_type": "stream",
          "text": [
            "Epoch 125/150 - Train Loss: 0.8588, Train Acc: 68.34% | Val Loss: 1.0151, Val Acc: 63.77%\n"
          ]
        },
        {
          "name": "stderr",
          "output_type": "stream",
          "text": [
            "Epoch 126/150 [Train]: 100%|██████████| 226/226 [00:30<00:00,  7.41it/s]\n"
          ]
        },
        {
          "name": "stdout",
          "output_type": "stream",
          "text": [
            "Epoch 126/150 - Train Loss: 0.8536, Train Acc: 68.40% | Val Loss: 1.0308, Val Acc: 63.97%\n"
          ]
        },
        {
          "name": "stderr",
          "output_type": "stream",
          "text": [
            "Epoch 127/150 [Train]: 100%|██████████| 226/226 [00:33<00:00,  6.68it/s]\n"
          ]
        },
        {
          "name": "stdout",
          "output_type": "stream",
          "text": [
            "Epoch 127/150 - Train Loss: 0.8541, Train Acc: 68.43% | Val Loss: 1.0389, Val Acc: 64.14%\n"
          ]
        },
        {
          "name": "stderr",
          "output_type": "stream",
          "text": [
            "Epoch 128/150 [Train]: 100%|██████████| 226/226 [00:31<00:00,  7.14it/s]\n"
          ]
        },
        {
          "name": "stdout",
          "output_type": "stream",
          "text": [
            "Epoch 128/150 - Train Loss: 0.8469, Train Acc: 68.86% | Val Loss: 1.0087, Val Acc: 64.63%\n"
          ]
        },
        {
          "name": "stderr",
          "output_type": "stream",
          "text": [
            "Epoch 129/150 [Train]: 100%|██████████| 226/226 [00:31<00:00,  7.07it/s]\n"
          ]
        },
        {
          "name": "stdout",
          "output_type": "stream",
          "text": [
            "Epoch 129/150 - Train Loss: 0.8404, Train Acc: 69.07% | Val Loss: 1.0209, Val Acc: 64.38%\n"
          ]
        },
        {
          "name": "stderr",
          "output_type": "stream",
          "text": [
            "Epoch 130/150 [Train]: 100%|██████████| 226/226 [00:27<00:00,  8.11it/s]\n"
          ]
        },
        {
          "name": "stdout",
          "output_type": "stream",
          "text": [
            "Epoch 130/150 - Train Loss: 0.8364, Train Acc: 69.29% | Val Loss: 1.0231, Val Acc: 64.19%\n"
          ]
        },
        {
          "name": "stderr",
          "output_type": "stream",
          "text": [
            "Epoch 131/150 [Train]: 100%|██████████| 226/226 [00:33<00:00,  6.82it/s]\n"
          ]
        },
        {
          "name": "stdout",
          "output_type": "stream",
          "text": [
            "Epoch 131/150 - Train Loss: 0.8352, Train Acc: 69.45% | Val Loss: 1.0222, Val Acc: 64.42%\n"
          ]
        },
        {
          "name": "stderr",
          "output_type": "stream",
          "text": [
            "Epoch 132/150 [Train]: 100%|██████████| 226/226 [00:35<00:00,  6.33it/s]\n"
          ]
        },
        {
          "name": "stdout",
          "output_type": "stream",
          "text": [
            "Epoch 132/150 - Train Loss: 0.8384, Train Acc: 69.36% | Val Loss: 1.0168, Val Acc: 64.17%\n"
          ]
        },
        {
          "name": "stderr",
          "output_type": "stream",
          "text": [
            "Epoch 133/150 [Train]: 100%|██████████| 226/226 [00:23<00:00,  9.66it/s]\n"
          ]
        },
        {
          "name": "stdout",
          "output_type": "stream",
          "text": [
            "Epoch 133/150 - Train Loss: 0.8378, Train Acc: 69.22% | Val Loss: 1.0166, Val Acc: 64.62%\n"
          ]
        },
        {
          "name": "stderr",
          "output_type": "stream",
          "text": [
            "Epoch 134/150 [Train]: 100%|██████████| 226/226 [00:15<00:00, 14.72it/s]\n"
          ]
        },
        {
          "name": "stdout",
          "output_type": "stream",
          "text": [
            "Epoch 134/150 - Train Loss: 0.8280, Train Acc: 69.66% | Val Loss: 1.0117, Val Acc: 64.85%\n"
          ]
        },
        {
          "name": "stderr",
          "output_type": "stream",
          "text": [
            "Epoch 135/150 [Train]: 100%|██████████| 226/226 [00:15<00:00, 15.00it/s]\n"
          ]
        },
        {
          "name": "stdout",
          "output_type": "stream",
          "text": [
            "Epoch 135/150 - Train Loss: 0.8243, Train Acc: 69.67% | Val Loss: 1.0246, Val Acc: 64.70%\n"
          ]
        },
        {
          "name": "stderr",
          "output_type": "stream",
          "text": [
            "Epoch 136/150 [Train]: 100%|██████████| 226/226 [00:14<00:00, 15.25it/s]\n"
          ]
        },
        {
          "name": "stdout",
          "output_type": "stream",
          "text": [
            "Epoch 136/150 - Train Loss: 0.8256, Train Acc: 69.78% | Val Loss: 1.0494, Val Acc: 64.55%\n"
          ]
        },
        {
          "name": "stderr",
          "output_type": "stream",
          "text": [
            "Epoch 137/150 [Train]: 100%|██████████| 226/226 [00:14<00:00, 15.18it/s]\n"
          ]
        },
        {
          "name": "stdout",
          "output_type": "stream",
          "text": [
            "Epoch 137/150 - Train Loss: 0.8208, Train Acc: 69.98% | Val Loss: 1.0272, Val Acc: 64.65%\n"
          ]
        },
        {
          "name": "stderr",
          "output_type": "stream",
          "text": [
            "Epoch 138/150 [Train]: 100%|██████████| 226/226 [00:16<00:00, 13.76it/s]\n"
          ]
        },
        {
          "name": "stdout",
          "output_type": "stream",
          "text": [
            "Epoch 138/150 - Train Loss: 0.8225, Train Acc: 69.91% | Val Loss: 1.0276, Val Acc: 64.94%\n"
          ]
        },
        {
          "name": "stderr",
          "output_type": "stream",
          "text": [
            "Epoch 139/150 [Train]: 100%|██████████| 226/226 [00:16<00:00, 14.09it/s]\n"
          ]
        },
        {
          "name": "stdout",
          "output_type": "stream",
          "text": [
            "Epoch 139/150 - Train Loss: 0.8113, Train Acc: 70.32% | Val Loss: 1.0211, Val Acc: 64.39%\n"
          ]
        },
        {
          "name": "stderr",
          "output_type": "stream",
          "text": [
            "Epoch 140/150 [Train]: 100%|██████████| 226/226 [00:15<00:00, 14.40it/s]\n"
          ]
        },
        {
          "name": "stdout",
          "output_type": "stream",
          "text": [
            "Epoch 140/150 - Train Loss: 0.8153, Train Acc: 70.16% | Val Loss: 1.0300, Val Acc: 64.38%\n"
          ]
        },
        {
          "name": "stderr",
          "output_type": "stream",
          "text": [
            "Epoch 141/150 [Train]: 100%|██████████| 226/226 [00:15<00:00, 14.46it/s]\n"
          ]
        },
        {
          "name": "stdout",
          "output_type": "stream",
          "text": [
            "Epoch 141/150 - Train Loss: 0.8156, Train Acc: 70.14% | Val Loss: 1.0447, Val Acc: 64.14%\n"
          ]
        },
        {
          "name": "stderr",
          "output_type": "stream",
          "text": [
            "Epoch 142/150 [Train]: 100%|██████████| 226/226 [00:15<00:00, 14.50it/s]\n"
          ]
        },
        {
          "name": "stdout",
          "output_type": "stream",
          "text": [
            "Epoch 142/150 - Train Loss: 0.8166, Train Acc: 69.89% | Val Loss: 1.0389, Val Acc: 64.55%\n"
          ]
        },
        {
          "name": "stderr",
          "output_type": "stream",
          "text": [
            "Epoch 143/150 [Train]: 100%|██████████| 226/226 [00:15<00:00, 14.55it/s]\n"
          ]
        },
        {
          "name": "stdout",
          "output_type": "stream",
          "text": [
            "Epoch 143/150 - Train Loss: 0.8001, Train Acc: 70.55% | Val Loss: 1.0366, Val Acc: 64.85%\n"
          ]
        },
        {
          "name": "stderr",
          "output_type": "stream",
          "text": [
            "Epoch 144/150 [Train]: 100%|██████████| 226/226 [00:15<00:00, 14.57it/s]\n"
          ]
        },
        {
          "name": "stdout",
          "output_type": "stream",
          "text": [
            "Epoch 144/150 - Train Loss: 0.8070, Train Acc: 70.58% | Val Loss: 1.0253, Val Acc: 64.82%\n"
          ]
        },
        {
          "name": "stderr",
          "output_type": "stream",
          "text": [
            "Epoch 145/150 [Train]: 100%|██████████| 226/226 [00:15<00:00, 14.63it/s]\n"
          ]
        },
        {
          "name": "stdout",
          "output_type": "stream",
          "text": [
            "Epoch 145/150 - Train Loss: 0.8032, Train Acc: 70.78% | Val Loss: 1.0306, Val Acc: 64.97%\n"
          ]
        },
        {
          "name": "stderr",
          "output_type": "stream",
          "text": [
            "Epoch 146/150 [Train]: 100%|██████████| 226/226 [00:15<00:00, 14.67it/s]\n"
          ]
        },
        {
          "name": "stdout",
          "output_type": "stream",
          "text": [
            "Epoch 146/150 - Train Loss: 0.8005, Train Acc: 70.85% | Val Loss: 1.0211, Val Acc: 65.03%\n"
          ]
        },
        {
          "name": "stderr",
          "output_type": "stream",
          "text": [
            "Epoch 147/150 [Train]: 100%|██████████| 226/226 [00:15<00:00, 14.66it/s]\n"
          ]
        },
        {
          "name": "stdout",
          "output_type": "stream",
          "text": [
            "Epoch 147/150 - Train Loss: 0.7996, Train Acc: 70.46% | Val Loss: 1.0270, Val Acc: 64.69%\n"
          ]
        },
        {
          "name": "stderr",
          "output_type": "stream",
          "text": [
            "Epoch 148/150 [Train]: 100%|██████████| 226/226 [00:15<00:00, 14.64it/s]\n"
          ]
        },
        {
          "name": "stdout",
          "output_type": "stream",
          "text": [
            "Epoch 148/150 - Train Loss: 0.7926, Train Acc: 71.28% | Val Loss: 1.0251, Val Acc: 64.90%\n"
          ]
        },
        {
          "name": "stderr",
          "output_type": "stream",
          "text": [
            "Epoch 149/150 [Train]: 100%|██████████| 226/226 [00:15<00:00, 14.69it/s]\n"
          ]
        },
        {
          "name": "stdout",
          "output_type": "stream",
          "text": [
            "Epoch 149/150 - Train Loss: 0.7857, Train Acc: 71.39% | Val Loss: 1.0247, Val Acc: 65.48%\n"
          ]
        },
        {
          "name": "stderr",
          "output_type": "stream",
          "text": [
            "Epoch 150/150 [Train]: 100%|██████████| 226/226 [00:15<00:00, 14.40it/s]\n"
          ]
        },
        {
          "name": "stdout",
          "output_type": "stream",
          "text": [
            "Epoch 150/150 - Train Loss: 0.7914, Train Acc: 70.98% | Val Loss: 1.0239, Val Acc: 65.00%\n"
          ]
        }
      ],
      "source": [
        "# Training loop with validation\n",
        "for epoch in range(150):\n",
        "    # Training phase\n",
        "    model.train()\n",
        "    running_loss = 0.0\n",
        "    correct = 0\n",
        "    total = 0\n",
        "    for inputs, labels in tqdm(train_loader, desc=f\"Epoch {epoch+1}/150 [Train]\"):\n",
        "        inputs, labels = inputs.to(device), labels.to(device).long()\n",
        "        optimizer.zero_grad()\n",
        "        outputs = model(inputs)\n",
        "        loss = criterion(outputs, labels)\n",
        "        loss.backward()\n",
        "        optimizer.step()\n",
        "\n",
        "        running_loss += loss.item()\n",
        "        _, predicted = torch.max(outputs, 1)\n",
        "        total += labels.size(0)\n",
        "        correct += (predicted == labels).sum().item()\n",
        "\n",
        "    train_loss = running_loss / len(train_loader)\n",
        "    train_accuracy = 100 * correct / total\n",
        "\n",
        "    # Validation phase\n",
        "    model.eval()\n",
        "    val_loss = 0.0\n",
        "    val_correct = 0\n",
        "    val_total = 0\n",
        "    with torch.no_grad():\n",
        "        for inputs, labels in test_loader:\n",
        "            inputs, labels = inputs.to(device), labels.to(device).long()\n",
        "            outputs = model(inputs)\n",
        "            loss = criterion(outputs, labels)\n",
        "\n",
        "            val_loss += loss.item()\n",
        "            _, predicted = torch.max(outputs, 1)\n",
        "            val_total += labels.size(0)\n",
        "            val_correct += (predicted == labels).sum().item()\n",
        "\n",
        "    val_loss /= len(test_loader)\n",
        "    val_accuracy = 100 * val_correct / val_total\n",
        "\n",
        "    print(f\"Epoch {epoch+1}/150 - \"\n",
        "          f\"Train Loss: {train_loss:.4f}, Train Acc: {train_accuracy:.2f}% | \"\n",
        "          f\"Val Loss: {val_loss:.4f}, Val Acc: {val_accuracy:.2f}%\")\n"
      ]
    },
    {
      "cell_type": "code",
      "execution_count": 44,
      "id": "6abKxg6j8-p3",
      "metadata": {
        "id": "6abKxg6j8-p3"
      },
      "outputs": [
        {
          "name": "stdout",
          "output_type": "stream",
          "text": [
            "Model saved successfully.\n"
          ]
        }
      ],
      "source": [
        "# Save model\n",
        "torch.save(model.state_dict(), \"emotionDetector.pth\")\n",
        "print(\"Model saved successfully.\")"
      ]
    },
    {
      "cell_type": "code",
      "execution_count": null,
      "id": "APlN0DwF9KwL",
      "metadata": {
        "id": "APlN0DwF9KwL"
      },
      "outputs": [],
      "source": [
        "# For Collab\n",
        "# Download the JSON file\n",
        "# files.download(\"emotionDetector.json\")\n",
        "\n",
        "# Download the HDF5 file\n",
        "# files.download(\"emotionDetector.h5\")"
      ]
    }
  ],
  "metadata": {
    "accelerator": "TPU",
    "colab": {
      "gpuType": "V28",
      "provenance": []
    },
    "kernelspec": {
      "display_name": "tf_env",
      "language": "python",
      "name": "python3"
    },
    "language_info": {
      "codemirror_mode": {
        "name": "ipython",
        "version": 3
      },
      "file_extension": ".py",
      "mimetype": "text/x-python",
      "name": "python",
      "nbconvert_exporter": "python",
      "pygments_lexer": "ipython3",
      "version": "3.9.21"
    }
  },
  "nbformat": 4,
  "nbformat_minor": 5
}
