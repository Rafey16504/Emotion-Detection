{
  "cells": [
    {
      "cell_type": "markdown",
      "id": "666e8736",
      "metadata": {
        "id": "666e8736"
      },
      "source": [
        "# **EMOTION DETECTION**"
      ]
    },
    {
      "cell_type": "code",
      "execution_count": 1,
      "id": "fa970d2a",
      "metadata": {
        "id": "fa970d2a"
      },
      "outputs": [],
      "source": [
        "# Getting all dependencies\n",
        "\n",
        "import os\n",
        "import torch\n",
        "import torch.nn as nn\n",
        "import torch.nn.functional as F\n",
        "import torch.optim as optim\n",
        "from torch.utils.data import Dataset, DataLoader\n",
        "from torchvision import transforms\n",
        "from PIL import Image\n",
        "import pandas as pd\n",
        "import numpy as np\n",
        "from tqdm import tqdm\n",
        "from sklearn.preprocessing import LabelEncoder\n",
        "import pickle\n"
      ]
    },
    {
      "cell_type": "code",
      "execution_count": null,
      "id": "45vtVWh15Ve-",
      "metadata": {
        "id": "45vtVWh15Ve-"
      },
      "outputs": [
        {
          "name": "stdout",
          "output_type": "stream",
          "text": [
            "Using device: cuda\n"
          ]
        }
      ],
      "source": [
        "device = torch.device(\"cuda\" if torch.cuda.is_available() else \"cpu\")\n",
        "print(f\"Using device: {device}\")"
      ]
    },
    {
      "cell_type": "code",
      "execution_count": 4,
      "id": "a1a72c52",
      "metadata": {
        "id": "a1a72c52"
      },
      "outputs": [],
      "source": [
        "# Setting up the directories\n",
        "\n",
        "TRAINING_DIR = './images/train'\n",
        "TEST_DIR = './images/validation'"
      ]
    },
    {
      "cell_type": "code",
      "execution_count": 5,
      "id": "cc2387b7",
      "metadata": {
        "id": "cc2387b7"
      },
      "outputs": [],
      "source": [
        "# Making dataframes for the training and test data (with images and labels)\n",
        "\n",
        "def create_dataframe(directory):\n",
        "    image_paths = []\n",
        "    labels = []\n",
        "\n",
        "    for label in os.listdir(directory):\n",
        "        label_dir = os.path.join(directory, label)\n",
        "        if os.path.isdir(label_dir):\n",
        "            for image_name in os.listdir(label_dir):\n",
        "                image_path = os.path.join(label_dir, image_name)\n",
        "                image_paths.append(image_path)\n",
        "                labels.append(label)\n",
        "            print(f\"Completed {label_dir}\")\n",
        "    return image_paths, labels"
      ]
    },
    {
      "cell_type": "code",
      "execution_count": null,
      "id": "d8177bec",
      "metadata": {
        "colab": {
          "base_uri": "https://localhost:8080/"
        },
        "id": "d8177bec",
        "outputId": "1becedef-d30a-4d32-a771-5244639d797d"
      },
      "outputs": [
        {
          "name": "stdout",
          "output_type": "stream",
          "text": [
            "Completed ./images/train\\angry\n",
            "Completed ./images/train\\disgust\n",
            "Completed ./images/train\\fear\n",
            "Completed ./images/train\\happy\n",
            "Completed ./images/train\\neutral\n",
            "Completed ./images/train\\sad\n",
            "Completed ./images/train\\surprise\n",
            "Completed ./images/validation\\angry\n",
            "Completed ./images/validation\\disgust\n",
            "Completed ./images/validation\\fear\n",
            "Completed ./images/validation\\happy\n",
            "Completed ./images/validation\\neutral\n",
            "Completed ./images/validation\\sad\n",
            "Completed ./images/validation\\surprise\n",
            "Train and test dataframes created successfully.\n",
            "                             image_path     label\n",
            "0            ./images/train\\angry\\0.jpg     angry\n",
            "1            ./images/train\\angry\\1.jpg     angry\n",
            "2           ./images/train\\angry\\10.jpg     angry\n",
            "3        ./images/train\\angry\\10002.jpg     angry\n",
            "4        ./images/train\\angry\\10016.jpg     angry\n",
            "...                                 ...       ...\n",
            "29208  ./images/train\\surprise\\9969.jpg  surprise\n",
            "29209  ./images/train\\surprise\\9985.jpg  surprise\n",
            "29210  ./images/train\\surprise\\9990.jpg  surprise\n",
            "29211  ./images/train\\surprise\\9992.jpg  surprise\n",
            "29212  ./images/train\\surprise\\9996.jpg  surprise\n",
            "\n",
            "[29213 rows x 2 columns]\n",
            "                                 image_path     label\n",
            "0       ./images/validation\\angry\\10052.jpg     angry\n",
            "1       ./images/validation\\angry\\10065.jpg     angry\n",
            "2       ./images/validation\\angry\\10079.jpg     angry\n",
            "3       ./images/validation\\angry\\10095.jpg     angry\n",
            "4       ./images/validation\\angry\\10121.jpg     angry\n",
            "...                                     ...       ...\n",
            "7061  ./images/validation\\surprise\\9806.jpg  surprise\n",
            "7062  ./images/validation\\surprise\\9830.jpg  surprise\n",
            "7063  ./images/validation\\surprise\\9853.jpg  surprise\n",
            "7064  ./images/validation\\surprise\\9878.jpg  surprise\n",
            "7065   ./images/validation\\surprise\\993.jpg  surprise\n",
            "\n",
            "[7066 rows x 2 columns]\n"
          ]
        }
      ],
      "source": [
        "# Making Train and Test dataframes\n",
        "\n",
        "train_df = pd.DataFrame()\n",
        "train_df['image_path'], train_df['label'] = create_dataframe(TRAINING_DIR)\n",
        "\n",
        "test_df = pd.DataFrame()\n",
        "test_df['image_path'], test_df['label'] = create_dataframe(TEST_DIR)\n",
        "print(\"Train and test dataframes created successfully.\")\n",
        "\n",
        "print(train_df)\n",
        "print(test_df)"
      ]
    },
    {
      "cell_type": "code",
      "execution_count": 7,
      "id": "f1155e68",
      "metadata": {
        "colab": {
          "base_uri": "https://localhost:8080/"
        },
        "id": "f1155e68",
        "outputId": "32e91557-1720-4a84-f9dc-9d97169ee9ca"
      },
      "outputs": [],
      "source": [
        "# Label Encoding\n",
        "\n",
        "label_encoder = LabelEncoder()\n",
        "label_encoder.fit(train_df['label'])\n",
        "y_train = label_encoder.transform(train_df['label'])\n",
        "y_test = label_encoder.transform(test_df['label'])"
      ]
    },
    {
      "cell_type": "code",
      "execution_count": null,
      "id": "3182202d",
      "metadata": {
        "id": "3182202d"
      },
      "outputs": [],
      "source": [
        "# Transformations\n",
        "\n",
        "train_transform = transforms.Compose([\n",
        "    transforms.Resize((48, 48)),\n",
        "    transforms.ToTensor(),\n",
        "])\n",
        "\n",
        "test_transform = transforms.Compose([\n",
        "    transforms.Resize((48, 48)),\n",
        "    transforms.ToTensor(),\n",
        "])"
      ]
    },
    {
      "cell_type": "code",
      "execution_count": 9,
      "id": "9c7391e9",
      "metadata": {
        "colab": {
          "base_uri": "https://localhost:8080/",
          "height": 80
        },
        "id": "9c7391e9",
        "outputId": "7667316b-4f4b-4a5b-bd21-f0b2e60fe857"
      },
      "outputs": [],
      "source": [
        "# Custom Dataset class\n",
        "\n",
        "class EmotionDataset(Dataset):\n",
        "    def __init__(self, image_paths, labels, transform=None):\n",
        "        self.image_paths = image_paths\n",
        "        self.labels = labels\n",
        "        self.transform = transform\n",
        "\n",
        "    def __len__(self):\n",
        "        return len(self.image_paths)\n",
        "\n",
        "    def __getitem__(self, idx):\n",
        "        img = Image.open(self.image_paths[idx]).convert('L')\n",
        "        if self.transform:\n",
        "            img = self.transform(img)\n",
        "        label = self.labels[idx]\n",
        "        return img, label"
      ]
    },
    {
      "cell_type": "code",
      "execution_count": 10,
      "id": "20305965",
      "metadata": {
        "id": "20305965"
      },
      "outputs": [],
      "source": [
        "# Create datasets and dataloaders\n",
        "\n",
        "train_dataset = EmotionDataset(train_df['image_path'].tolist(), y_train, transform=train_transform)\n",
        "test_dataset = EmotionDataset(test_df['image_path'].tolist(), y_test, transform=test_transform)\n",
        "\n",
        "train_loader = DataLoader(train_dataset, batch_size=128, shuffle=True)\n",
        "test_loader = DataLoader(test_dataset, batch_size=128, shuffle=False)"
      ]
    },
    {
      "cell_type": "code",
      "execution_count": null,
      "id": "2ffdf88d",
      "metadata": {
        "id": "2ffdf88d"
      },
      "outputs": [],
      "source": [
        "# Convolutional Neural Network (CNN) model\n",
        "# The model is a sequential model with convolutional layers, max pooling layers, and dropout layers\n",
        "# The model is designed to classify images into 7 different classes (emotions)\n",
        "\n",
        "class EmotionCNN(nn.Module):\n",
        "    def __init__(self):\n",
        "        super(EmotionCNN, self).__init__()\n",
        "        self.conv_layers = nn.Sequential(\n",
        "            nn.Conv2d(1, 64, kernel_size=3, padding=1),\n",
        "            nn.BatchNorm2d(64),\n",
        "            nn.ReLU(),\n",
        "            nn.MaxPool2d(kernel_size=2),\n",
        "            nn.Dropout(0.3),\n",
        "\n",
        "            nn.Conv2d(64, 128, kernel_size=3, padding=1),\n",
        "            nn.BatchNorm2d(128),\n",
        "            nn.ReLU(),\n",
        "            nn.MaxPool2d(kernel_size=2),\n",
        "            nn.Dropout(0.3),\n",
        "\n",
        "            nn.Conv2d(128, 256, kernel_size=3, padding=1),\n",
        "            nn.BatchNorm2d(256),\n",
        "            nn.ReLU(),\n",
        "            nn.MaxPool2d(kernel_size=2),\n",
        "            nn.Dropout(0.3),\n",
        "\n",
        "            nn.Conv2d(256, 512, kernel_size=3, padding=1),\n",
        "            nn.BatchNorm2d(512),\n",
        "            nn.ReLU(),\n",
        "            nn.MaxPool2d(kernel_size=2),\n",
        "            nn.Dropout(0.3)\n",
        "        )\n",
        "\n",
        "        self.fc_layers = nn.Sequential(\n",
        "            nn.Flatten(),\n",
        "            nn.Linear(512 * 3 * 3, 256),\n",
        "            nn.BatchNorm1d(256),\n",
        "            nn.ReLU(),\n",
        "            nn.Dropout(0.3),\n",
        "\n",
        "            nn.Linear(256, 128),\n",
        "            nn.BatchNorm1d(128),\n",
        "            nn.ReLU(),\n",
        "            nn.Dropout(0.3),\n",
        "\n",
        "            nn.Linear(128, 7)\n",
        "        )\n",
        "\n",
        "    def forward(self, x):\n",
        "        x = self.conv_layers(x)\n",
        "        x = self.fc_layers(x)\n",
        "        return x\n"
      ]
    },
    {
      "cell_type": "code",
      "execution_count": null,
      "id": "0360b37e",
      "metadata": {
        "colab": {
          "base_uri": "https://localhost:8080/"
        },
        "id": "0360b37e",
        "outputId": "c8b1d8ae-eb30-4dfb-ab1b-78757bee1809"
      },
      "outputs": [
        {
          "name": "stderr",
          "output_type": "stream",
          "text": [
            "C:\\Users\\abdul\\AppData\\Local\\Temp\\ipykernel_5316\\2558207038.py:15: FutureWarning: You are using `torch.load` with `weights_only=False` (the current default value), which uses the default pickle module implicitly. It is possible to construct malicious pickle data which will execute arbitrary code during unpickling (See https://github.com/pytorch/pytorch/blob/main/SECURITY.md#untrusted-models for more details). In a future release, the default value for `weights_only` will be flipped to `True`. This limits the functions that could be executed during unpickling. Arbitrary objects will no longer be allowed to be loaded via this mode unless they are explicitly allowlisted by the user via `torch.serialization.add_safe_globals`. We recommend you start setting `weights_only=True` for any use case where you don't have full control of the loaded file. Please open an issue on GitHub for any issues related to this experimental feature.\n",
            "  model.load_state_dict(torch.load(\"emotionDetector_ClassChange256_dropoutTweak5_noNormalization.pth\", map_location=device))\n"
          ]
        }
      ],
      "source": [
        "model = EmotionCNN().to(device)\n",
        "criterion = nn.CrossEntropyLoss()\n",
        "optimizer = optim.Adam(model.parameters(), lr=0.001)\n"
      ]
    },
    {
      "cell_type": "code",
      "execution_count": null,
      "id": "8bcb01f7",
      "metadata": {},
      "outputs": [
        {
          "name": "stderr",
          "output_type": "stream",
          "text": [
            "100%|██████████| 229/229 [00:16<00:00, 13.72it/s]\n"
          ]
        },
        {
          "name": "stdout",
          "output_type": "stream",
          "text": [
            "Epoch [1/150], Train Loss: 0.4611, Train Accuracy: 83.19%\n",
            "Validation Loss: 1.0317, Validation Accuracy: 68.41%\n",
            "✅ New best model saved with val acc: 68.41%\n"
          ]
        },
        {
          "name": "stderr",
          "output_type": "stream",
          "text": [
            "100%|██████████| 229/229 [00:16<00:00, 13.85it/s]\n"
          ]
        },
        {
          "name": "stdout",
          "output_type": "stream",
          "text": [
            "Epoch [2/150], Train Loss: 0.4335, Train Accuracy: 84.19%\n",
            "Validation Loss: 1.0630, Validation Accuracy: 68.68%\n",
            "✅ New best model saved with val acc: 68.68%\n"
          ]
        },
        {
          "name": "stderr",
          "output_type": "stream",
          "text": [
            "100%|██████████| 229/229 [00:16<00:00, 13.49it/s]\n"
          ]
        },
        {
          "name": "stdout",
          "output_type": "stream",
          "text": [
            "Epoch [3/150], Train Loss: 0.4138, Train Accuracy: 85.20%\n",
            "Validation Loss: 1.0586, Validation Accuracy: 68.48%\n"
          ]
        },
        {
          "name": "stderr",
          "output_type": "stream",
          "text": [
            "100%|██████████| 229/229 [00:17<00:00, 13.45it/s]\n"
          ]
        },
        {
          "name": "stdout",
          "output_type": "stream",
          "text": [
            "Epoch [4/150], Train Loss: 0.4097, Train Accuracy: 85.04%\n",
            "Validation Loss: 1.0585, Validation Accuracy: 68.98%\n",
            "✅ New best model saved with val acc: 68.98%\n"
          ]
        },
        {
          "name": "stderr",
          "output_type": "stream",
          "text": [
            "100%|██████████| 229/229 [00:23<00:00,  9.84it/s]\n"
          ]
        },
        {
          "name": "stdout",
          "output_type": "stream",
          "text": [
            "Epoch [5/150], Train Loss: 0.3965, Train Accuracy: 85.74%\n",
            "Validation Loss: 1.0782, Validation Accuracy: 68.20%\n"
          ]
        },
        {
          "name": "stderr",
          "output_type": "stream",
          "text": [
            "100%|██████████| 229/229 [00:22<00:00, 10.12it/s]\n"
          ]
        },
        {
          "name": "stdout",
          "output_type": "stream",
          "text": [
            "Epoch [6/150], Train Loss: 0.3760, Train Accuracy: 86.47%\n",
            "Validation Loss: 1.1152, Validation Accuracy: 68.30%\n"
          ]
        },
        {
          "name": "stderr",
          "output_type": "stream",
          "text": [
            "100%|██████████| 229/229 [00:22<00:00,  9.98it/s]\n"
          ]
        },
        {
          "name": "stdout",
          "output_type": "stream",
          "text": [
            "Epoch [7/150], Train Loss: 0.3791, Train Accuracy: 86.29%\n",
            "Validation Loss: 1.0682, Validation Accuracy: 68.26%\n"
          ]
        },
        {
          "name": "stderr",
          "output_type": "stream",
          "text": [
            "100%|██████████| 229/229 [00:23<00:00,  9.83it/s]\n"
          ]
        },
        {
          "name": "stdout",
          "output_type": "stream",
          "text": [
            "Epoch [8/150], Train Loss: 0.3670, Train Accuracy: 86.65%\n",
            "Validation Loss: 1.1321, Validation Accuracy: 68.40%\n"
          ]
        },
        {
          "name": "stderr",
          "output_type": "stream",
          "text": [
            "100%|██████████| 229/229 [00:25<00:00,  8.87it/s]\n"
          ]
        },
        {
          "name": "stdout",
          "output_type": "stream",
          "text": [
            "Epoch [9/150], Train Loss: 0.3499, Train Accuracy: 87.47%\n",
            "Validation Loss: 1.1301, Validation Accuracy: 68.57%\n"
          ]
        },
        {
          "name": "stderr",
          "output_type": "stream",
          "text": [
            "100%|██████████| 229/229 [00:36<00:00,  6.30it/s]\n"
          ]
        },
        {
          "name": "stdout",
          "output_type": "stream",
          "text": [
            "Epoch [10/150], Train Loss: 0.3507, Train Accuracy: 87.12%\n",
            "Validation Loss: 1.0987, Validation Accuracy: 68.55%\n"
          ]
        },
        {
          "name": "stderr",
          "output_type": "stream",
          "text": [
            "100%|██████████| 229/229 [00:26<00:00,  8.56it/s]\n"
          ]
        },
        {
          "name": "stdout",
          "output_type": "stream",
          "text": [
            "Epoch [11/150], Train Loss: 0.3390, Train Accuracy: 87.73%\n",
            "Validation Loss: 1.1295, Validation Accuracy: 68.30%\n"
          ]
        },
        {
          "name": "stderr",
          "output_type": "stream",
          "text": [
            "100%|██████████| 229/229 [00:31<00:00,  7.37it/s]\n"
          ]
        },
        {
          "name": "stdout",
          "output_type": "stream",
          "text": [
            "Epoch [12/150], Train Loss: 0.3330, Train Accuracy: 88.09%\n",
            "Validation Loss: 1.1646, Validation Accuracy: 68.24%\n"
          ]
        },
        {
          "name": "stderr",
          "output_type": "stream",
          "text": [
            "100%|██████████| 229/229 [00:27<00:00,  8.28it/s]\n"
          ]
        },
        {
          "name": "stdout",
          "output_type": "stream",
          "text": [
            "Epoch [13/150], Train Loss: 0.3293, Train Accuracy: 88.24%\n",
            "Validation Loss: 1.1497, Validation Accuracy: 68.38%\n"
          ]
        },
        {
          "name": "stderr",
          "output_type": "stream",
          "text": [
            "100%|██████████| 229/229 [00:29<00:00,  7.74it/s]\n"
          ]
        },
        {
          "name": "stdout",
          "output_type": "stream",
          "text": [
            "Epoch [14/150], Train Loss: 0.3193, Train Accuracy: 88.64%\n",
            "Validation Loss: 1.1894, Validation Accuracy: 67.62%\n"
          ]
        },
        {
          "name": "stderr",
          "output_type": "stream",
          "text": [
            "100%|██████████| 229/229 [00:26<00:00,  8.66it/s]\n"
          ]
        },
        {
          "name": "stdout",
          "output_type": "stream",
          "text": [
            "Epoch [15/150], Train Loss: 0.3132, Train Accuracy: 89.02%\n",
            "Validation Loss: 1.1544, Validation Accuracy: 68.04%\n"
          ]
        },
        {
          "name": "stderr",
          "output_type": "stream",
          "text": [
            "100%|██████████| 229/229 [00:26<00:00,  8.72it/s]\n"
          ]
        },
        {
          "name": "stdout",
          "output_type": "stream",
          "text": [
            "Epoch [16/150], Train Loss: 0.2975, Train Accuracy: 89.54%\n",
            "Validation Loss: 1.1684, Validation Accuracy: 68.41%\n"
          ]
        },
        {
          "name": "stderr",
          "output_type": "stream",
          "text": [
            "100%|██████████| 229/229 [00:25<00:00,  9.14it/s]\n"
          ]
        },
        {
          "name": "stdout",
          "output_type": "stream",
          "text": [
            "Epoch [17/150], Train Loss: 0.3021, Train Accuracy: 89.37%\n",
            "Validation Loss: 1.2149, Validation Accuracy: 68.89%\n"
          ]
        },
        {
          "name": "stderr",
          "output_type": "stream",
          "text": [
            "100%|██████████| 229/229 [00:25<00:00,  9.04it/s]\n"
          ]
        },
        {
          "name": "stdout",
          "output_type": "stream",
          "text": [
            "Epoch [18/150], Train Loss: 0.2947, Train Accuracy: 89.37%\n",
            "Validation Loss: 1.1595, Validation Accuracy: 68.40%\n"
          ]
        },
        {
          "name": "stderr",
          "output_type": "stream",
          "text": [
            "100%|██████████| 229/229 [00:25<00:00,  9.09it/s]\n"
          ]
        },
        {
          "name": "stdout",
          "output_type": "stream",
          "text": [
            "Epoch [19/150], Train Loss: 0.2905, Train Accuracy: 89.73%\n",
            "Validation Loss: 1.1789, Validation Accuracy: 68.31%\n"
          ]
        },
        {
          "name": "stderr",
          "output_type": "stream",
          "text": [
            "100%|██████████| 229/229 [00:25<00:00,  8.85it/s]\n"
          ]
        },
        {
          "name": "stdout",
          "output_type": "stream",
          "text": [
            "Epoch [20/150], Train Loss: 0.2734, Train Accuracy: 90.23%\n",
            "Validation Loss: 1.2363, Validation Accuracy: 68.19%\n"
          ]
        },
        {
          "name": "stderr",
          "output_type": "stream",
          "text": [
            "100%|██████████| 229/229 [00:25<00:00,  8.89it/s]\n"
          ]
        },
        {
          "name": "stdout",
          "output_type": "stream",
          "text": [
            "Epoch [21/150], Train Loss: 0.2807, Train Accuracy: 89.97%\n",
            "Validation Loss: 1.2188, Validation Accuracy: 67.85%\n"
          ]
        },
        {
          "name": "stderr",
          "output_type": "stream",
          "text": [
            "100%|██████████| 229/229 [00:25<00:00,  9.15it/s]\n"
          ]
        },
        {
          "name": "stdout",
          "output_type": "stream",
          "text": [
            "Epoch [22/150], Train Loss: 0.2720, Train Accuracy: 90.34%\n",
            "Validation Loss: 1.2145, Validation Accuracy: 68.36%\n"
          ]
        },
        {
          "name": "stderr",
          "output_type": "stream",
          "text": [
            "100%|██████████| 229/229 [00:25<00:00,  8.90it/s]\n"
          ]
        },
        {
          "name": "stdout",
          "output_type": "stream",
          "text": [
            "Epoch [23/150], Train Loss: 0.2687, Train Accuracy: 90.59%\n",
            "Validation Loss: 1.2360, Validation Accuracy: 68.41%\n"
          ]
        },
        {
          "name": "stderr",
          "output_type": "stream",
          "text": [
            "100%|██████████| 229/229 [00:26<00:00,  8.63it/s]\n"
          ]
        },
        {
          "name": "stdout",
          "output_type": "stream",
          "text": [
            "Epoch [24/150], Train Loss: 0.2621, Train Accuracy: 90.73%\n",
            "Validation Loss: 1.2464, Validation Accuracy: 68.24%\n"
          ]
        },
        {
          "name": "stderr",
          "output_type": "stream",
          "text": [
            "100%|██████████| 229/229 [00:26<00:00,  8.56it/s]\n"
          ]
        },
        {
          "name": "stdout",
          "output_type": "stream",
          "text": [
            "Epoch [25/150], Train Loss: 0.2588, Train Accuracy: 90.84%\n",
            "Validation Loss: 1.2364, Validation Accuracy: 68.37%\n"
          ]
        },
        {
          "name": "stderr",
          "output_type": "stream",
          "text": [
            "100%|██████████| 229/229 [00:25<00:00,  8.82it/s]\n"
          ]
        },
        {
          "name": "stdout",
          "output_type": "stream",
          "text": [
            "Epoch [26/150], Train Loss: 0.2563, Train Accuracy: 90.68%\n",
            "Validation Loss: 1.2549, Validation Accuracy: 68.88%\n"
          ]
        },
        {
          "name": "stderr",
          "output_type": "stream",
          "text": [
            "100%|██████████| 229/229 [00:25<00:00,  9.08it/s]\n"
          ]
        },
        {
          "name": "stdout",
          "output_type": "stream",
          "text": [
            "Epoch [27/150], Train Loss: 0.2537, Train Accuracy: 91.02%\n",
            "Validation Loss: 1.2480, Validation Accuracy: 69.05%\n",
            "✅ New best model saved with val acc: 69.05%\n"
          ]
        },
        {
          "name": "stderr",
          "output_type": "stream",
          "text": [
            "100%|██████████| 229/229 [00:26<00:00,  8.75it/s]\n"
          ]
        },
        {
          "name": "stdout",
          "output_type": "stream",
          "text": [
            "Epoch [28/150], Train Loss: 0.2489, Train Accuracy: 91.11%\n",
            "Validation Loss: 1.2521, Validation Accuracy: 68.60%\n"
          ]
        },
        {
          "name": "stderr",
          "output_type": "stream",
          "text": [
            "100%|██████████| 229/229 [00:28<00:00,  8.06it/s]\n"
          ]
        },
        {
          "name": "stdout",
          "output_type": "stream",
          "text": [
            "Epoch [29/150], Train Loss: 0.2422, Train Accuracy: 91.40%\n",
            "Validation Loss: 1.2674, Validation Accuracy: 67.82%\n"
          ]
        },
        {
          "name": "stderr",
          "output_type": "stream",
          "text": [
            "100%|██████████| 229/229 [00:26<00:00,  8.77it/s]\n"
          ]
        },
        {
          "name": "stdout",
          "output_type": "stream",
          "text": [
            "Epoch [30/150], Train Loss: 0.2379, Train Accuracy: 91.68%\n",
            "Validation Loss: 1.2545, Validation Accuracy: 68.28%\n"
          ]
        },
        {
          "name": "stderr",
          "output_type": "stream",
          "text": [
            "100%|██████████| 229/229 [00:25<00:00,  8.91it/s]\n"
          ]
        },
        {
          "name": "stdout",
          "output_type": "stream",
          "text": [
            "Epoch [31/150], Train Loss: 0.2384, Train Accuracy: 91.48%\n",
            "Validation Loss: 1.3183, Validation Accuracy: 67.01%\n"
          ]
        },
        {
          "name": "stderr",
          "output_type": "stream",
          "text": [
            "100%|██████████| 229/229 [00:27<00:00,  8.40it/s]\n"
          ]
        },
        {
          "name": "stdout",
          "output_type": "stream",
          "text": [
            "Epoch [32/150], Train Loss: 0.2331, Train Accuracy: 91.64%\n",
            "Validation Loss: 1.2956, Validation Accuracy: 69.02%\n"
          ]
        },
        {
          "name": "stderr",
          "output_type": "stream",
          "text": [
            "100%|██████████| 229/229 [00:29<00:00,  7.83it/s]\n"
          ]
        },
        {
          "name": "stdout",
          "output_type": "stream",
          "text": [
            "Epoch [33/150], Train Loss: 0.2324, Train Accuracy: 91.82%\n",
            "Validation Loss: 1.2970, Validation Accuracy: 68.58%\n"
          ]
        },
        {
          "name": "stderr",
          "output_type": "stream",
          "text": [
            "100%|██████████| 229/229 [00:26<00:00,  8.73it/s]\n"
          ]
        },
        {
          "name": "stdout",
          "output_type": "stream",
          "text": [
            "Epoch [34/150], Train Loss: 0.2292, Train Accuracy: 91.84%\n",
            "Validation Loss: 1.2708, Validation Accuracy: 68.07%\n"
          ]
        },
        {
          "name": "stderr",
          "output_type": "stream",
          "text": [
            "100%|██████████| 229/229 [00:28<00:00,  7.96it/s]\n"
          ]
        },
        {
          "name": "stdout",
          "output_type": "stream",
          "text": [
            "Epoch [35/150], Train Loss: 0.2268, Train Accuracy: 92.07%\n",
            "Validation Loss: 1.3054, Validation Accuracy: 67.95%\n"
          ]
        },
        {
          "name": "stderr",
          "output_type": "stream",
          "text": [
            "100%|██████████| 229/229 [00:29<00:00,  7.76it/s]\n"
          ]
        },
        {
          "name": "stdout",
          "output_type": "stream",
          "text": [
            "Epoch [36/150], Train Loss: 0.2228, Train Accuracy: 92.13%\n",
            "Validation Loss: 1.3471, Validation Accuracy: 67.72%\n"
          ]
        },
        {
          "name": "stderr",
          "output_type": "stream",
          "text": [
            "100%|██████████| 229/229 [00:28<00:00,  7.92it/s]\n"
          ]
        },
        {
          "name": "stdout",
          "output_type": "stream",
          "text": [
            "Epoch [37/150], Train Loss: 0.2165, Train Accuracy: 92.28%\n",
            "Validation Loss: 1.3051, Validation Accuracy: 68.64%\n"
          ]
        },
        {
          "name": "stderr",
          "output_type": "stream",
          "text": [
            "100%|██████████| 229/229 [00:28<00:00,  7.91it/s]\n"
          ]
        },
        {
          "name": "stdout",
          "output_type": "stream",
          "text": [
            "Epoch [38/150], Train Loss: 0.2151, Train Accuracy: 92.38%\n",
            "Validation Loss: 1.3230, Validation Accuracy: 68.48%\n"
          ]
        },
        {
          "name": "stderr",
          "output_type": "stream",
          "text": [
            "100%|██████████| 229/229 [00:26<00:00,  8.61it/s]\n"
          ]
        },
        {
          "name": "stdout",
          "output_type": "stream",
          "text": [
            "Epoch [39/150], Train Loss: 0.2146, Train Accuracy: 92.39%\n",
            "Validation Loss: 1.2986, Validation Accuracy: 68.37%\n"
          ]
        },
        {
          "name": "stderr",
          "output_type": "stream",
          "text": [
            "100%|██████████| 229/229 [00:25<00:00,  9.13it/s]\n"
          ]
        },
        {
          "name": "stdout",
          "output_type": "stream",
          "text": [
            "Epoch [40/150], Train Loss: 0.2111, Train Accuracy: 92.60%\n",
            "Validation Loss: 1.3260, Validation Accuracy: 68.84%\n"
          ]
        },
        {
          "name": "stderr",
          "output_type": "stream",
          "text": [
            "100%|██████████| 229/229 [00:26<00:00,  8.75it/s]\n"
          ]
        },
        {
          "name": "stdout",
          "output_type": "stream",
          "text": [
            "Epoch [41/150], Train Loss: 0.2115, Train Accuracy: 92.47%\n",
            "Validation Loss: 1.3300, Validation Accuracy: 68.58%\n"
          ]
        },
        {
          "name": "stderr",
          "output_type": "stream",
          "text": [
            "100%|██████████| 229/229 [00:25<00:00,  9.07it/s]\n"
          ]
        },
        {
          "name": "stdout",
          "output_type": "stream",
          "text": [
            "Epoch [42/150], Train Loss: 0.2006, Train Accuracy: 92.81%\n",
            "Validation Loss: 1.3019, Validation Accuracy: 69.22%\n",
            "✅ New best model saved with val acc: 69.22%\n"
          ]
        },
        {
          "name": "stderr",
          "output_type": "stream",
          "text": [
            "100%|██████████| 229/229 [00:25<00:00,  8.96it/s]\n"
          ]
        },
        {
          "name": "stdout",
          "output_type": "stream",
          "text": [
            "Epoch [43/150], Train Loss: 0.2001, Train Accuracy: 93.11%\n",
            "Validation Loss: 1.3472, Validation Accuracy: 68.67%\n"
          ]
        },
        {
          "name": "stderr",
          "output_type": "stream",
          "text": [
            "100%|██████████| 229/229 [00:25<00:00,  9.03it/s]\n"
          ]
        },
        {
          "name": "stdout",
          "output_type": "stream",
          "text": [
            "Epoch [44/150], Train Loss: 0.2065, Train Accuracy: 92.80%\n",
            "Validation Loss: 1.3096, Validation Accuracy: 68.88%\n"
          ]
        },
        {
          "name": "stderr",
          "output_type": "stream",
          "text": [
            "100%|██████████| 229/229 [00:25<00:00,  8.85it/s]\n"
          ]
        },
        {
          "name": "stdout",
          "output_type": "stream",
          "text": [
            "Epoch [45/150], Train Loss: 0.2013, Train Accuracy: 93.00%\n",
            "Validation Loss: 1.3311, Validation Accuracy: 69.02%\n"
          ]
        },
        {
          "name": "stderr",
          "output_type": "stream",
          "text": [
            "100%|██████████| 229/229 [00:26<00:00,  8.60it/s]\n"
          ]
        },
        {
          "name": "stdout",
          "output_type": "stream",
          "text": [
            "Epoch [46/150], Train Loss: 0.1981, Train Accuracy: 93.02%\n",
            "Validation Loss: 1.3398, Validation Accuracy: 68.67%\n"
          ]
        },
        {
          "name": "stderr",
          "output_type": "stream",
          "text": [
            "100%|██████████| 229/229 [00:26<00:00,  8.75it/s]\n"
          ]
        },
        {
          "name": "stdout",
          "output_type": "stream",
          "text": [
            "Epoch [47/150], Train Loss: 0.1962, Train Accuracy: 93.08%\n",
            "Validation Loss: 1.3677, Validation Accuracy: 68.23%\n"
          ]
        },
        {
          "name": "stderr",
          "output_type": "stream",
          "text": [
            "100%|██████████| 229/229 [00:26<00:00,  8.65it/s]\n"
          ]
        },
        {
          "name": "stdout",
          "output_type": "stream",
          "text": [
            "Epoch [48/150], Train Loss: 0.2026, Train Accuracy: 92.91%\n",
            "Validation Loss: 1.3618, Validation Accuracy: 68.62%\n"
          ]
        },
        {
          "name": "stderr",
          "output_type": "stream",
          "text": [
            "100%|██████████| 229/229 [00:26<00:00,  8.80it/s]\n"
          ]
        },
        {
          "name": "stdout",
          "output_type": "stream",
          "text": [
            "Epoch [49/150], Train Loss: 0.1971, Train Accuracy: 93.26%\n",
            "Validation Loss: 1.3451, Validation Accuracy: 68.24%\n"
          ]
        },
        {
          "name": "stderr",
          "output_type": "stream",
          "text": [
            "100%|██████████| 229/229 [00:26<00:00,  8.68it/s]\n"
          ]
        },
        {
          "name": "stdout",
          "output_type": "stream",
          "text": [
            "Epoch [50/150], Train Loss: 0.1945, Train Accuracy: 93.09%\n",
            "Validation Loss: 1.3541, Validation Accuracy: 68.91%\n"
          ]
        },
        {
          "name": "stderr",
          "output_type": "stream",
          "text": [
            "100%|██████████| 229/229 [00:26<00:00,  8.56it/s]\n"
          ]
        },
        {
          "name": "stdout",
          "output_type": "stream",
          "text": [
            "Epoch [51/150], Train Loss: 0.1879, Train Accuracy: 93.38%\n",
            "Validation Loss: 1.3986, Validation Accuracy: 68.13%\n"
          ]
        },
        {
          "name": "stderr",
          "output_type": "stream",
          "text": [
            "100%|██████████| 229/229 [00:26<00:00,  8.60it/s]\n"
          ]
        },
        {
          "name": "stdout",
          "output_type": "stream",
          "text": [
            "Epoch [52/150], Train Loss: 0.1871, Train Accuracy: 93.47%\n",
            "Validation Loss: 1.4161, Validation Accuracy: 68.27%\n"
          ]
        },
        {
          "name": "stderr",
          "output_type": "stream",
          "text": [
            "100%|██████████| 229/229 [00:27<00:00,  8.36it/s]\n"
          ]
        },
        {
          "name": "stdout",
          "output_type": "stream",
          "text": [
            "Epoch [53/150], Train Loss: 0.1813, Train Accuracy: 93.69%\n",
            "Validation Loss: 1.3962, Validation Accuracy: 68.89%\n"
          ]
        },
        {
          "name": "stderr",
          "output_type": "stream",
          "text": [
            "100%|██████████| 229/229 [00:27<00:00,  8.28it/s]\n"
          ]
        },
        {
          "name": "stdout",
          "output_type": "stream",
          "text": [
            "Epoch [54/150], Train Loss: 0.1799, Train Accuracy: 93.82%\n",
            "Validation Loss: 1.4193, Validation Accuracy: 68.40%\n"
          ]
        },
        {
          "name": "stderr",
          "output_type": "stream",
          "text": [
            "100%|██████████| 229/229 [00:27<00:00,  8.19it/s]\n"
          ]
        },
        {
          "name": "stdout",
          "output_type": "stream",
          "text": [
            "Epoch [55/150], Train Loss: 0.1772, Train Accuracy: 93.83%\n",
            "Validation Loss: 1.4258, Validation Accuracy: 68.45%\n"
          ]
        },
        {
          "name": "stderr",
          "output_type": "stream",
          "text": [
            "100%|██████████| 229/229 [00:28<00:00,  8.00it/s]\n"
          ]
        },
        {
          "name": "stdout",
          "output_type": "stream",
          "text": [
            "Epoch [56/150], Train Loss: 0.1826, Train Accuracy: 93.72%\n",
            "Validation Loss: 1.4201, Validation Accuracy: 67.79%\n"
          ]
        },
        {
          "name": "stderr",
          "output_type": "stream",
          "text": [
            "100%|██████████| 229/229 [00:28<00:00,  8.00it/s]\n"
          ]
        },
        {
          "name": "stdout",
          "output_type": "stream",
          "text": [
            "Epoch [57/150], Train Loss: 0.1819, Train Accuracy: 93.64%\n",
            "Validation Loss: 1.4542, Validation Accuracy: 67.18%\n"
          ]
        },
        {
          "name": "stderr",
          "output_type": "stream",
          "text": [
            "100%|██████████| 229/229 [00:28<00:00,  8.16it/s]\n"
          ]
        },
        {
          "name": "stdout",
          "output_type": "stream",
          "text": [
            "Epoch [58/150], Train Loss: 0.1787, Train Accuracy: 93.57%\n",
            "Validation Loss: 1.4290, Validation Accuracy: 68.51%\n"
          ]
        },
        {
          "name": "stderr",
          "output_type": "stream",
          "text": [
            "100%|██████████| 229/229 [00:28<00:00,  8.15it/s]\n"
          ]
        },
        {
          "name": "stdout",
          "output_type": "stream",
          "text": [
            "Epoch [59/150], Train Loss: 0.1822, Train Accuracy: 93.54%\n",
            "Validation Loss: 1.4112, Validation Accuracy: 67.79%\n"
          ]
        },
        {
          "name": "stderr",
          "output_type": "stream",
          "text": [
            "100%|██████████| 229/229 [00:28<00:00,  8.11it/s]\n"
          ]
        },
        {
          "name": "stdout",
          "output_type": "stream",
          "text": [
            "Epoch [60/150], Train Loss: 0.1821, Train Accuracy: 93.62%\n",
            "Validation Loss: 1.3827, Validation Accuracy: 68.37%\n"
          ]
        },
        {
          "name": "stderr",
          "output_type": "stream",
          "text": [
            "100%|██████████| 229/229 [00:28<00:00,  7.95it/s]\n"
          ]
        },
        {
          "name": "stdout",
          "output_type": "stream",
          "text": [
            "Epoch [61/150], Train Loss: 0.1734, Train Accuracy: 93.98%\n",
            "Validation Loss: 1.4341, Validation Accuracy: 68.02%\n"
          ]
        },
        {
          "name": "stderr",
          "output_type": "stream",
          "text": [
            "100%|██████████| 229/229 [00:28<00:00,  7.95it/s]\n"
          ]
        },
        {
          "name": "stdout",
          "output_type": "stream",
          "text": [
            "Epoch [62/150], Train Loss: 0.1788, Train Accuracy: 93.84%\n",
            "Validation Loss: 1.3920, Validation Accuracy: 68.45%\n"
          ]
        },
        {
          "name": "stderr",
          "output_type": "stream",
          "text": [
            "100%|██████████| 229/229 [00:28<00:00,  8.09it/s]\n"
          ]
        },
        {
          "name": "stdout",
          "output_type": "stream",
          "text": [
            "Epoch [63/150], Train Loss: 0.1721, Train Accuracy: 93.90%\n",
            "Validation Loss: 1.4263, Validation Accuracy: 68.33%\n"
          ]
        },
        {
          "name": "stderr",
          "output_type": "stream",
          "text": [
            "100%|██████████| 229/229 [00:28<00:00,  8.08it/s]\n"
          ]
        },
        {
          "name": "stdout",
          "output_type": "stream",
          "text": [
            "Epoch [64/150], Train Loss: 0.1723, Train Accuracy: 94.00%\n",
            "Validation Loss: 1.3848, Validation Accuracy: 68.64%\n"
          ]
        },
        {
          "name": "stderr",
          "output_type": "stream",
          "text": [
            "100%|██████████| 229/229 [00:28<00:00,  8.18it/s]\n"
          ]
        },
        {
          "name": "stdout",
          "output_type": "stream",
          "text": [
            "Epoch [65/150], Train Loss: 0.1707, Train Accuracy: 93.97%\n",
            "Validation Loss: 1.3907, Validation Accuracy: 68.57%\n"
          ]
        },
        {
          "name": "stderr",
          "output_type": "stream",
          "text": [
            "100%|██████████| 229/229 [00:28<00:00,  7.98it/s]\n"
          ]
        },
        {
          "name": "stdout",
          "output_type": "stream",
          "text": [
            "Epoch [66/150], Train Loss: 0.1669, Train Accuracy: 94.15%\n",
            "Validation Loss: 1.3919, Validation Accuracy: 68.64%\n"
          ]
        },
        {
          "name": "stderr",
          "output_type": "stream",
          "text": [
            "100%|██████████| 229/229 [00:28<00:00,  7.91it/s]\n"
          ]
        },
        {
          "name": "stdout",
          "output_type": "stream",
          "text": [
            "Epoch [67/150], Train Loss: 0.1624, Train Accuracy: 94.28%\n",
            "Validation Loss: 1.4543, Validation Accuracy: 67.87%\n"
          ]
        },
        {
          "name": "stderr",
          "output_type": "stream",
          "text": [
            "100%|██████████| 229/229 [00:28<00:00,  8.18it/s]\n"
          ]
        },
        {
          "name": "stdout",
          "output_type": "stream",
          "text": [
            "Epoch [68/150], Train Loss: 0.1602, Train Accuracy: 94.42%\n",
            "Validation Loss: 1.4564, Validation Accuracy: 68.51%\n"
          ]
        },
        {
          "name": "stderr",
          "output_type": "stream",
          "text": [
            "100%|██████████| 229/229 [00:27<00:00,  8.21it/s]\n"
          ]
        },
        {
          "name": "stdout",
          "output_type": "stream",
          "text": [
            "Epoch [69/150], Train Loss: 0.1649, Train Accuracy: 94.21%\n",
            "Validation Loss: 1.4259, Validation Accuracy: 68.68%\n"
          ]
        },
        {
          "name": "stderr",
          "output_type": "stream",
          "text": [
            "100%|██████████| 229/229 [00:28<00:00,  8.14it/s]\n"
          ]
        },
        {
          "name": "stdout",
          "output_type": "stream",
          "text": [
            "Epoch [70/150], Train Loss: 0.1697, Train Accuracy: 94.03%\n",
            "Validation Loss: 1.4329, Validation Accuracy: 68.51%\n"
          ]
        },
        {
          "name": "stderr",
          "output_type": "stream",
          "text": [
            "100%|██████████| 229/229 [00:28<00:00,  8.17it/s]\n"
          ]
        },
        {
          "name": "stdout",
          "output_type": "stream",
          "text": [
            "Epoch [71/150], Train Loss: 0.1573, Train Accuracy: 94.52%\n",
            "Validation Loss: 1.4589, Validation Accuracy: 67.87%\n"
          ]
        },
        {
          "name": "stderr",
          "output_type": "stream",
          "text": [
            "100%|██████████| 229/229 [00:26<00:00,  8.55it/s]\n"
          ]
        },
        {
          "name": "stdout",
          "output_type": "stream",
          "text": [
            "Epoch [72/150], Train Loss: 0.1653, Train Accuracy: 94.12%\n",
            "Validation Loss: 1.4950, Validation Accuracy: 67.78%\n"
          ]
        },
        {
          "name": "stderr",
          "output_type": "stream",
          "text": [
            "100%|██████████| 229/229 [00:26<00:00,  8.72it/s]\n"
          ]
        },
        {
          "name": "stdout",
          "output_type": "stream",
          "text": [
            "Epoch [73/150], Train Loss: 0.1602, Train Accuracy: 94.43%\n",
            "Validation Loss: 1.4329, Validation Accuracy: 68.36%\n"
          ]
        },
        {
          "name": "stderr",
          "output_type": "stream",
          "text": [
            "100%|██████████| 229/229 [00:26<00:00,  8.79it/s]\n"
          ]
        },
        {
          "name": "stdout",
          "output_type": "stream",
          "text": [
            "Epoch [74/150], Train Loss: 0.1616, Train Accuracy: 94.36%\n",
            "Validation Loss: 1.4614, Validation Accuracy: 68.50%\n"
          ]
        },
        {
          "name": "stderr",
          "output_type": "stream",
          "text": [
            "100%|██████████| 229/229 [00:25<00:00,  8.81it/s]\n"
          ]
        },
        {
          "name": "stdout",
          "output_type": "stream",
          "text": [
            "Epoch [75/150], Train Loss: 0.1569, Train Accuracy: 94.55%\n",
            "Validation Loss: 1.4312, Validation Accuracy: 68.57%\n"
          ]
        },
        {
          "name": "stderr",
          "output_type": "stream",
          "text": [
            "100%|██████████| 229/229 [00:26<00:00,  8.68it/s]\n"
          ]
        },
        {
          "name": "stdout",
          "output_type": "stream",
          "text": [
            "Epoch [76/150], Train Loss: 0.1516, Train Accuracy: 94.70%\n",
            "Validation Loss: 1.4479, Validation Accuracy: 68.82%\n"
          ]
        },
        {
          "name": "stderr",
          "output_type": "stream",
          "text": [
            "100%|██████████| 229/229 [00:26<00:00,  8.60it/s]\n"
          ]
        },
        {
          "name": "stdout",
          "output_type": "stream",
          "text": [
            "Epoch [77/150], Train Loss: 0.1641, Train Accuracy: 94.44%\n",
            "Validation Loss: 1.4465, Validation Accuracy: 68.34%\n"
          ]
        },
        {
          "name": "stderr",
          "output_type": "stream",
          "text": [
            "100%|██████████| 229/229 [00:26<00:00,  8.73it/s]\n"
          ]
        },
        {
          "name": "stdout",
          "output_type": "stream",
          "text": [
            "Epoch [78/150], Train Loss: 0.1541, Train Accuracy: 94.60%\n",
            "Validation Loss: 1.4523, Validation Accuracy: 68.67%\n"
          ]
        },
        {
          "name": "stderr",
          "output_type": "stream",
          "text": [
            "100%|██████████| 229/229 [00:26<00:00,  8.80it/s]\n"
          ]
        },
        {
          "name": "stdout",
          "output_type": "stream",
          "text": [
            "Epoch [79/150], Train Loss: 0.1517, Train Accuracy: 94.75%\n",
            "Validation Loss: 1.4491, Validation Accuracy: 68.19%\n"
          ]
        },
        {
          "name": "stderr",
          "output_type": "stream",
          "text": [
            "100%|██████████| 229/229 [00:26<00:00,  8.75it/s]\n"
          ]
        },
        {
          "name": "stdout",
          "output_type": "stream",
          "text": [
            "Epoch [80/150], Train Loss: 0.1469, Train Accuracy: 94.78%\n",
            "Validation Loss: 1.4577, Validation Accuracy: 68.26%\n"
          ]
        },
        {
          "name": "stderr",
          "output_type": "stream",
          "text": [
            "100%|██████████| 229/229 [00:26<00:00,  8.75it/s]\n"
          ]
        },
        {
          "name": "stdout",
          "output_type": "stream",
          "text": [
            "Epoch [81/150], Train Loss: 0.1570, Train Accuracy: 94.59%\n",
            "Validation Loss: 1.4609, Validation Accuracy: 68.41%\n"
          ]
        },
        {
          "name": "stderr",
          "output_type": "stream",
          "text": [
            "100%|██████████| 229/229 [00:26<00:00,  8.62it/s]\n"
          ]
        },
        {
          "name": "stdout",
          "output_type": "stream",
          "text": [
            "Epoch [82/150], Train Loss: 0.1487, Train Accuracy: 94.75%\n",
            "Validation Loss: 1.4664, Validation Accuracy: 68.60%\n"
          ]
        },
        {
          "name": "stderr",
          "output_type": "stream",
          "text": [
            "100%|██████████| 229/229 [00:26<00:00,  8.60it/s]\n"
          ]
        },
        {
          "name": "stdout",
          "output_type": "stream",
          "text": [
            "Epoch [83/150], Train Loss: 0.1435, Train Accuracy: 94.96%\n",
            "Validation Loss: 1.4805, Validation Accuracy: 68.21%\n"
          ]
        },
        {
          "name": "stderr",
          "output_type": "stream",
          "text": [
            "100%|██████████| 229/229 [00:26<00:00,  8.74it/s]\n"
          ]
        },
        {
          "name": "stdout",
          "output_type": "stream",
          "text": [
            "Epoch [84/150], Train Loss: 0.1519, Train Accuracy: 94.67%\n",
            "Validation Loss: 1.5075, Validation Accuracy: 68.16%\n"
          ]
        },
        {
          "name": "stderr",
          "output_type": "stream",
          "text": [
            "100%|██████████| 229/229 [00:26<00:00,  8.75it/s]\n"
          ]
        },
        {
          "name": "stdout",
          "output_type": "stream",
          "text": [
            "Epoch [85/150], Train Loss: 0.1522, Train Accuracy: 94.72%\n",
            "Validation Loss: 1.5259, Validation Accuracy: 66.54%\n"
          ]
        },
        {
          "name": "stderr",
          "output_type": "stream",
          "text": [
            "100%|██████████| 229/229 [00:26<00:00,  8.79it/s]\n"
          ]
        },
        {
          "name": "stdout",
          "output_type": "stream",
          "text": [
            "Epoch [86/150], Train Loss: 0.1477, Train Accuracy: 94.83%\n",
            "Validation Loss: 1.4948, Validation Accuracy: 67.93%\n"
          ]
        },
        {
          "name": "stderr",
          "output_type": "stream",
          "text": [
            "100%|██████████| 229/229 [00:26<00:00,  8.63it/s]\n"
          ]
        },
        {
          "name": "stdout",
          "output_type": "stream",
          "text": [
            "Epoch [87/150], Train Loss: 0.1452, Train Accuracy: 95.02%\n",
            "Validation Loss: 1.5207, Validation Accuracy: 68.28%\n"
          ]
        },
        {
          "name": "stderr",
          "output_type": "stream",
          "text": [
            "100%|██████████| 229/229 [00:26<00:00,  8.61it/s]\n"
          ]
        },
        {
          "name": "stdout",
          "output_type": "stream",
          "text": [
            "Epoch [88/150], Train Loss: 0.1409, Train Accuracy: 95.02%\n",
            "Validation Loss: 1.5286, Validation Accuracy: 68.11%\n"
          ]
        },
        {
          "name": "stderr",
          "output_type": "stream",
          "text": [
            "100%|██████████| 229/229 [00:26<00:00,  8.71it/s]\n"
          ]
        },
        {
          "name": "stdout",
          "output_type": "stream",
          "text": [
            "Epoch [89/150], Train Loss: 0.1424, Train Accuracy: 95.02%\n",
            "Validation Loss: 1.5166, Validation Accuracy: 68.44%\n"
          ]
        },
        {
          "name": "stderr",
          "output_type": "stream",
          "text": [
            "100%|██████████| 229/229 [00:26<00:00,  8.71it/s]\n"
          ]
        },
        {
          "name": "stdout",
          "output_type": "stream",
          "text": [
            "Epoch [90/150], Train Loss: 0.1413, Train Accuracy: 95.06%\n",
            "Validation Loss: 1.4879, Validation Accuracy: 68.14%\n"
          ]
        },
        {
          "name": "stderr",
          "output_type": "stream",
          "text": [
            "100%|██████████| 229/229 [00:28<00:00,  8.16it/s]\n"
          ]
        },
        {
          "name": "stdout",
          "output_type": "stream",
          "text": [
            "Epoch [91/150], Train Loss: 0.1422, Train Accuracy: 95.08%\n",
            "Validation Loss: 1.4806, Validation Accuracy: 68.64%\n"
          ]
        },
        {
          "name": "stderr",
          "output_type": "stream",
          "text": [
            "100%|██████████| 229/229 [00:27<00:00,  8.19it/s]\n"
          ]
        },
        {
          "name": "stdout",
          "output_type": "stream",
          "text": [
            "Epoch [92/150], Train Loss: 0.1366, Train Accuracy: 95.28%\n",
            "Validation Loss: 1.5025, Validation Accuracy: 67.89%\n"
          ]
        },
        {
          "name": "stderr",
          "output_type": "stream",
          "text": [
            "100%|██████████| 229/229 [00:28<00:00,  8.00it/s]\n"
          ]
        },
        {
          "name": "stdout",
          "output_type": "stream",
          "text": [
            "Epoch [93/150], Train Loss: 0.1402, Train Accuracy: 95.09%\n",
            "Validation Loss: 1.4680, Validation Accuracy: 67.97%\n"
          ]
        },
        {
          "name": "stderr",
          "output_type": "stream",
          "text": [
            "100%|██████████| 229/229 [00:28<00:00,  8.02it/s]\n"
          ]
        },
        {
          "name": "stdout",
          "output_type": "stream",
          "text": [
            "Epoch [94/150], Train Loss: 0.1360, Train Accuracy: 95.28%\n",
            "Validation Loss: 1.4800, Validation Accuracy: 68.47%\n"
          ]
        },
        {
          "name": "stderr",
          "output_type": "stream",
          "text": [
            "100%|██████████| 229/229 [00:28<00:00,  8.12it/s]\n"
          ]
        },
        {
          "name": "stdout",
          "output_type": "stream",
          "text": [
            "Epoch [95/150], Train Loss: 0.1417, Train Accuracy: 95.04%\n",
            "Validation Loss: 1.4990, Validation Accuracy: 68.43%\n"
          ]
        },
        {
          "name": "stderr",
          "output_type": "stream",
          "text": [
            "100%|██████████| 229/229 [00:28<00:00,  8.11it/s]\n"
          ]
        },
        {
          "name": "stdout",
          "output_type": "stream",
          "text": [
            "Epoch [96/150], Train Loss: 0.1378, Train Accuracy: 95.22%\n",
            "Validation Loss: 1.4746, Validation Accuracy: 68.54%\n"
          ]
        },
        {
          "name": "stderr",
          "output_type": "stream",
          "text": [
            "100%|██████████| 229/229 [00:28<00:00,  8.02it/s]\n"
          ]
        },
        {
          "name": "stdout",
          "output_type": "stream",
          "text": [
            "Epoch [97/150], Train Loss: 0.1376, Train Accuracy: 95.19%\n",
            "Validation Loss: 1.5240, Validation Accuracy: 68.89%\n"
          ]
        },
        {
          "name": "stderr",
          "output_type": "stream",
          "text": [
            "100%|██████████| 229/229 [00:28<00:00,  7.98it/s]\n"
          ]
        },
        {
          "name": "stdout",
          "output_type": "stream",
          "text": [
            "Epoch [98/150], Train Loss: 0.1405, Train Accuracy: 95.15%\n",
            "Validation Loss: 1.4707, Validation Accuracy: 68.09%\n"
          ]
        },
        {
          "name": "stderr",
          "output_type": "stream",
          "text": [
            "100%|██████████| 229/229 [00:28<00:00,  8.10it/s]\n"
          ]
        },
        {
          "name": "stdout",
          "output_type": "stream",
          "text": [
            "Epoch [99/150], Train Loss: 0.1332, Train Accuracy: 95.41%\n",
            "Validation Loss: 1.5055, Validation Accuracy: 68.38%\n"
          ]
        },
        {
          "name": "stderr",
          "output_type": "stream",
          "text": [
            "100%|██████████| 229/229 [00:28<00:00,  8.16it/s]\n"
          ]
        },
        {
          "name": "stdout",
          "output_type": "stream",
          "text": [
            "Epoch [100/150], Train Loss: 0.1365, Train Accuracy: 95.13%\n",
            "Validation Loss: 1.5308, Validation Accuracy: 67.86%\n"
          ]
        },
        {
          "name": "stderr",
          "output_type": "stream",
          "text": [
            "100%|██████████| 229/229 [00:28<00:00,  8.13it/s]\n"
          ]
        },
        {
          "name": "stdout",
          "output_type": "stream",
          "text": [
            "Epoch [101/150], Train Loss: 0.1383, Train Accuracy: 95.19%\n",
            "Validation Loss: 1.4975, Validation Accuracy: 68.20%\n"
          ]
        },
        {
          "name": "stderr",
          "output_type": "stream",
          "text": [
            "100%|██████████| 229/229 [00:28<00:00,  8.07it/s]\n"
          ]
        },
        {
          "name": "stdout",
          "output_type": "stream",
          "text": [
            "Epoch [102/150], Train Loss: 0.1330, Train Accuracy: 95.36%\n",
            "Validation Loss: 1.5438, Validation Accuracy: 68.06%\n"
          ]
        },
        {
          "name": "stderr",
          "output_type": "stream",
          "text": [
            "100%|██████████| 229/229 [00:28<00:00,  7.96it/s]\n"
          ]
        },
        {
          "name": "stdout",
          "output_type": "stream",
          "text": [
            "Epoch [103/150], Train Loss: 0.1291, Train Accuracy: 95.47%\n",
            "Validation Loss: 1.5101, Validation Accuracy: 68.61%\n"
          ]
        },
        {
          "name": "stderr",
          "output_type": "stream",
          "text": [
            "100%|██████████| 229/229 [00:28<00:00,  8.00it/s]\n"
          ]
        },
        {
          "name": "stdout",
          "output_type": "stream",
          "text": [
            "Epoch [104/150], Train Loss: 0.1306, Train Accuracy: 95.29%\n",
            "Validation Loss: 1.5264, Validation Accuracy: 68.11%\n"
          ]
        },
        {
          "name": "stderr",
          "output_type": "stream",
          "text": [
            "100%|██████████| 229/229 [00:28<00:00,  8.03it/s]\n"
          ]
        },
        {
          "name": "stdout",
          "output_type": "stream",
          "text": [
            "Epoch [105/150], Train Loss: 0.1292, Train Accuracy: 95.43%\n",
            "Validation Loss: 1.5126, Validation Accuracy: 68.64%\n"
          ]
        },
        {
          "name": "stderr",
          "output_type": "stream",
          "text": [
            "100%|██████████| 229/229 [00:28<00:00,  8.05it/s]\n"
          ]
        },
        {
          "name": "stdout",
          "output_type": "stream",
          "text": [
            "Epoch [106/150], Train Loss: 0.1273, Train Accuracy: 95.55%\n",
            "Validation Loss: 1.5262, Validation Accuracy: 68.57%\n"
          ]
        },
        {
          "name": "stderr",
          "output_type": "stream",
          "text": [
            "100%|██████████| 229/229 [00:28<00:00,  8.12it/s]\n"
          ]
        },
        {
          "name": "stdout",
          "output_type": "stream",
          "text": [
            "Epoch [107/150], Train Loss: 0.1346, Train Accuracy: 95.35%\n",
            "Validation Loss: 1.4862, Validation Accuracy: 68.28%\n"
          ]
        },
        {
          "name": "stderr",
          "output_type": "stream",
          "text": [
            "100%|██████████| 229/229 [00:28<00:00,  7.93it/s]\n"
          ]
        },
        {
          "name": "stdout",
          "output_type": "stream",
          "text": [
            "Epoch [108/150], Train Loss: 0.1298, Train Accuracy: 95.41%\n",
            "Validation Loss: 1.5215, Validation Accuracy: 68.88%\n"
          ]
        },
        {
          "name": "stderr",
          "output_type": "stream",
          "text": [
            "100%|██████████| 229/229 [00:26<00:00,  8.61it/s]\n"
          ]
        },
        {
          "name": "stdout",
          "output_type": "stream",
          "text": [
            "Epoch [109/150], Train Loss: 0.1308, Train Accuracy: 95.49%\n",
            "Validation Loss: 1.5459, Validation Accuracy: 68.72%\n"
          ]
        },
        {
          "name": "stderr",
          "output_type": "stream",
          "text": [
            "100%|██████████| 229/229 [00:26<00:00,  8.71it/s]\n"
          ]
        },
        {
          "name": "stdout",
          "output_type": "stream",
          "text": [
            "Epoch [110/150], Train Loss: 0.1256, Train Accuracy: 95.73%\n",
            "Validation Loss: 1.5246, Validation Accuracy: 68.24%\n"
          ]
        },
        {
          "name": "stderr",
          "output_type": "stream",
          "text": [
            "100%|██████████| 229/229 [00:26<00:00,  8.78it/s]\n"
          ]
        },
        {
          "name": "stdout",
          "output_type": "stream",
          "text": [
            "Epoch [111/150], Train Loss: 0.1278, Train Accuracy: 95.66%\n",
            "Validation Loss: 1.5244, Validation Accuracy: 68.34%\n"
          ]
        },
        {
          "name": "stderr",
          "output_type": "stream",
          "text": [
            "100%|██████████| 229/229 [00:26<00:00,  8.79it/s]\n"
          ]
        },
        {
          "name": "stdout",
          "output_type": "stream",
          "text": [
            "Epoch [112/150], Train Loss: 0.1231, Train Accuracy: 95.70%\n",
            "Validation Loss: 1.5080, Validation Accuracy: 68.86%\n"
          ]
        },
        {
          "name": "stderr",
          "output_type": "stream",
          "text": [
            "100%|██████████| 229/229 [00:26<00:00,  8.57it/s]\n"
          ]
        },
        {
          "name": "stdout",
          "output_type": "stream",
          "text": [
            "Epoch [113/150], Train Loss: 0.1187, Train Accuracy: 95.80%\n",
            "Validation Loss: 1.5788, Validation Accuracy: 67.66%\n"
          ]
        },
        {
          "name": "stderr",
          "output_type": "stream",
          "text": [
            "100%|██████████| 229/229 [00:26<00:00,  8.63it/s]\n"
          ]
        },
        {
          "name": "stdout",
          "output_type": "stream",
          "text": [
            "Epoch [114/150], Train Loss: 0.1247, Train Accuracy: 95.74%\n",
            "Validation Loss: 1.5406, Validation Accuracy: 68.55%\n"
          ]
        },
        {
          "name": "stderr",
          "output_type": "stream",
          "text": [
            "100%|██████████| 229/229 [00:26<00:00,  8.80it/s]\n"
          ]
        },
        {
          "name": "stdout",
          "output_type": "stream",
          "text": [
            "Epoch [115/150], Train Loss: 0.1280, Train Accuracy: 95.52%\n",
            "Validation Loss: 1.5490, Validation Accuracy: 68.06%\n"
          ]
        },
        {
          "name": "stderr",
          "output_type": "stream",
          "text": [
            "100%|██████████| 229/229 [00:26<00:00,  8.78it/s]\n"
          ]
        },
        {
          "name": "stdout",
          "output_type": "stream",
          "text": [
            "Epoch [116/150], Train Loss: 0.1238, Train Accuracy: 95.61%\n",
            "Validation Loss: 1.5020, Validation Accuracy: 68.37%\n"
          ]
        },
        {
          "name": "stderr",
          "output_type": "stream",
          "text": [
            "100%|██████████| 229/229 [00:26<00:00,  8.68it/s]\n"
          ]
        },
        {
          "name": "stdout",
          "output_type": "stream",
          "text": [
            "Epoch [117/150], Train Loss: 0.1233, Train Accuracy: 95.75%\n",
            "Validation Loss: 1.5107, Validation Accuracy: 68.47%\n"
          ]
        },
        {
          "name": "stderr",
          "output_type": "stream",
          "text": [
            "100%|██████████| 229/229 [00:26<00:00,  8.64it/s]\n"
          ]
        },
        {
          "name": "stdout",
          "output_type": "stream",
          "text": [
            "Epoch [118/150], Train Loss: 0.1260, Train Accuracy: 95.71%\n",
            "Validation Loss: 1.5510, Validation Accuracy: 68.37%\n"
          ]
        },
        {
          "name": "stderr",
          "output_type": "stream",
          "text": [
            "100%|██████████| 229/229 [00:26<00:00,  8.62it/s]\n"
          ]
        },
        {
          "name": "stdout",
          "output_type": "stream",
          "text": [
            "Epoch [119/150], Train Loss: 0.1251, Train Accuracy: 95.70%\n",
            "Validation Loss: 1.5487, Validation Accuracy: 68.67%\n"
          ]
        },
        {
          "name": "stderr",
          "output_type": "stream",
          "text": [
            "100%|██████████| 229/229 [00:26<00:00,  8.69it/s]\n"
          ]
        },
        {
          "name": "stdout",
          "output_type": "stream",
          "text": [
            "Epoch [120/150], Train Loss: 0.1204, Train Accuracy: 95.86%\n",
            "Validation Loss: 1.5537, Validation Accuracy: 68.68%\n"
          ]
        },
        {
          "name": "stderr",
          "output_type": "stream",
          "text": [
            "100%|██████████| 229/229 [00:26<00:00,  8.76it/s]\n"
          ]
        },
        {
          "name": "stdout",
          "output_type": "stream",
          "text": [
            "Epoch [121/150], Train Loss: 0.1242, Train Accuracy: 95.68%\n",
            "Validation Loss: 1.5530, Validation Accuracy: 68.23%\n"
          ]
        },
        {
          "name": "stderr",
          "output_type": "stream",
          "text": [
            "100%|██████████| 229/229 [00:25<00:00,  8.81it/s]\n"
          ]
        },
        {
          "name": "stdout",
          "output_type": "stream",
          "text": [
            "Epoch [122/150], Train Loss: 0.1201, Train Accuracy: 95.79%\n",
            "Validation Loss: 1.5577, Validation Accuracy: 69.05%\n"
          ]
        },
        {
          "name": "stderr",
          "output_type": "stream",
          "text": [
            "100%|██████████| 229/229 [00:26<00:00,  8.77it/s]\n"
          ]
        },
        {
          "name": "stdout",
          "output_type": "stream",
          "text": [
            "Epoch [123/150], Train Loss: 0.1193, Train Accuracy: 95.86%\n",
            "Validation Loss: 1.5505, Validation Accuracy: 68.33%\n"
          ]
        },
        {
          "name": "stderr",
          "output_type": "stream",
          "text": [
            "100%|██████████| 229/229 [00:26<00:00,  8.55it/s]\n"
          ]
        },
        {
          "name": "stdout",
          "output_type": "stream",
          "text": [
            "Epoch [124/150], Train Loss: 0.1226, Train Accuracy: 95.73%\n",
            "Validation Loss: 1.5018, Validation Accuracy: 68.61%\n"
          ]
        },
        {
          "name": "stderr",
          "output_type": "stream",
          "text": [
            "100%|██████████| 229/229 [00:26<00:00,  8.69it/s]\n"
          ]
        },
        {
          "name": "stdout",
          "output_type": "stream",
          "text": [
            "Epoch [125/150], Train Loss: 0.1187, Train Accuracy: 95.92%\n",
            "Validation Loss: 1.5690, Validation Accuracy: 68.72%\n"
          ]
        },
        {
          "name": "stderr",
          "output_type": "stream",
          "text": [
            "100%|██████████| 229/229 [00:26<00:00,  8.77it/s]\n"
          ]
        },
        {
          "name": "stdout",
          "output_type": "stream",
          "text": [
            "Epoch [126/150], Train Loss: 0.1161, Train Accuracy: 95.84%\n",
            "Validation Loss: 1.5586, Validation Accuracy: 68.99%\n"
          ]
        },
        {
          "name": "stderr",
          "output_type": "stream",
          "text": [
            "100%|██████████| 229/229 [00:26<00:00,  8.78it/s]\n"
          ]
        },
        {
          "name": "stdout",
          "output_type": "stream",
          "text": [
            "Epoch [127/150], Train Loss: 0.1222, Train Accuracy: 95.94%\n",
            "Validation Loss: 1.5573, Validation Accuracy: 68.85%\n"
          ]
        },
        {
          "name": "stderr",
          "output_type": "stream",
          "text": [
            "100%|██████████| 229/229 [00:27<00:00,  8.45it/s]\n"
          ]
        },
        {
          "name": "stdout",
          "output_type": "stream",
          "text": [
            "Epoch [128/150], Train Loss: 0.1246, Train Accuracy: 95.70%\n",
            "Validation Loss: 1.5856, Validation Accuracy: 68.02%\n"
          ]
        },
        {
          "name": "stderr",
          "output_type": "stream",
          "text": [
            "100%|██████████| 229/229 [00:28<00:00,  8.01it/s]\n"
          ]
        },
        {
          "name": "stdout",
          "output_type": "stream",
          "text": [
            "Epoch [129/150], Train Loss: 0.1135, Train Accuracy: 95.99%\n",
            "Validation Loss: 1.5952, Validation Accuracy: 68.30%\n"
          ]
        },
        {
          "name": "stderr",
          "output_type": "stream",
          "text": [
            "100%|██████████| 229/229 [00:28<00:00,  7.95it/s]\n"
          ]
        },
        {
          "name": "stdout",
          "output_type": "stream",
          "text": [
            "Epoch [130/150], Train Loss: 0.1146, Train Accuracy: 95.91%\n",
            "Validation Loss: 1.5709, Validation Accuracy: 68.43%\n"
          ]
        },
        {
          "name": "stderr",
          "output_type": "stream",
          "text": [
            "100%|██████████| 229/229 [00:28<00:00,  8.16it/s]\n"
          ]
        },
        {
          "name": "stdout",
          "output_type": "stream",
          "text": [
            "Epoch [131/150], Train Loss: 0.1174, Train Accuracy: 96.00%\n",
            "Validation Loss: 1.5844, Validation Accuracy: 68.27%\n"
          ]
        },
        {
          "name": "stderr",
          "output_type": "stream",
          "text": [
            "100%|██████████| 229/229 [00:28<00:00,  8.13it/s]\n"
          ]
        },
        {
          "name": "stdout",
          "output_type": "stream",
          "text": [
            "Epoch [132/150], Train Loss: 0.1150, Train Accuracy: 96.08%\n",
            "Validation Loss: 1.5818, Validation Accuracy: 68.95%\n"
          ]
        },
        {
          "name": "stderr",
          "output_type": "stream",
          "text": [
            "100%|██████████| 229/229 [00:28<00:00,  8.14it/s]\n"
          ]
        },
        {
          "name": "stdout",
          "output_type": "stream",
          "text": [
            "Epoch [133/150], Train Loss: 0.1148, Train Accuracy: 95.99%\n",
            "Validation Loss: 1.5644, Validation Accuracy: 68.75%\n"
          ]
        },
        {
          "name": "stderr",
          "output_type": "stream",
          "text": [
            "100%|██████████| 229/229 [00:28<00:00,  8.05it/s]\n"
          ]
        },
        {
          "name": "stdout",
          "output_type": "stream",
          "text": [
            "Epoch [134/150], Train Loss: 0.1165, Train Accuracy: 96.00%\n",
            "Validation Loss: 1.5853, Validation Accuracy: 68.79%\n"
          ]
        },
        {
          "name": "stderr",
          "output_type": "stream",
          "text": [
            "100%|██████████| 229/229 [00:29<00:00,  7.87it/s]\n"
          ]
        },
        {
          "name": "stdout",
          "output_type": "stream",
          "text": [
            "Epoch [135/150], Train Loss: 0.1135, Train Accuracy: 95.91%\n",
            "Validation Loss: 1.6077, Validation Accuracy: 69.19%\n"
          ]
        },
        {
          "name": "stderr",
          "output_type": "stream",
          "text": [
            "100%|██████████| 229/229 [00:27<00:00,  8.19it/s]\n"
          ]
        },
        {
          "name": "stdout",
          "output_type": "stream",
          "text": [
            "Epoch [136/150], Train Loss: 0.1116, Train Accuracy: 96.08%\n",
            "Validation Loss: 1.5792, Validation Accuracy: 68.91%\n"
          ]
        },
        {
          "name": "stderr",
          "output_type": "stream",
          "text": [
            "100%|██████████| 229/229 [00:28<00:00,  8.12it/s]\n"
          ]
        },
        {
          "name": "stdout",
          "output_type": "stream",
          "text": [
            "Epoch [137/150], Train Loss: 0.1092, Train Accuracy: 96.19%\n",
            "Validation Loss: 1.5846, Validation Accuracy: 68.88%\n"
          ]
        },
        {
          "name": "stderr",
          "output_type": "stream",
          "text": [
            "100%|██████████| 229/229 [00:28<00:00,  8.12it/s]\n"
          ]
        },
        {
          "name": "stdout",
          "output_type": "stream",
          "text": [
            "Epoch [138/150], Train Loss: 0.1090, Train Accuracy: 96.19%\n",
            "Validation Loss: 1.5958, Validation Accuracy: 68.84%\n"
          ]
        },
        {
          "name": "stderr",
          "output_type": "stream",
          "text": [
            "100%|██████████| 229/229 [00:28<00:00,  8.02it/s]\n"
          ]
        },
        {
          "name": "stdout",
          "output_type": "stream",
          "text": [
            "Epoch [139/150], Train Loss: 0.1084, Train Accuracy: 96.10%\n",
            "Validation Loss: 1.6192, Validation Accuracy: 68.00%\n"
          ]
        },
        {
          "name": "stderr",
          "output_type": "stream",
          "text": [
            "100%|██████████| 229/229 [00:28<00:00,  7.99it/s]\n"
          ]
        },
        {
          "name": "stdout",
          "output_type": "stream",
          "text": [
            "Epoch [140/150], Train Loss: 0.1120, Train Accuracy: 96.08%\n",
            "Validation Loss: 1.5907, Validation Accuracy: 69.16%\n"
          ]
        },
        {
          "name": "stderr",
          "output_type": "stream",
          "text": [
            "100%|██████████| 229/229 [00:28<00:00,  8.06it/s]\n"
          ]
        },
        {
          "name": "stdout",
          "output_type": "stream",
          "text": [
            "Epoch [141/150], Train Loss: 0.1159, Train Accuracy: 96.04%\n",
            "Validation Loss: 1.6334, Validation Accuracy: 68.82%\n"
          ]
        },
        {
          "name": "stderr",
          "output_type": "stream",
          "text": [
            "100%|██████████| 229/229 [00:28<00:00,  8.08it/s]\n"
          ]
        },
        {
          "name": "stdout",
          "output_type": "stream",
          "text": [
            "Epoch [142/150], Train Loss: 0.1113, Train Accuracy: 96.10%\n",
            "Validation Loss: 1.5956, Validation Accuracy: 68.85%\n"
          ]
        },
        {
          "name": "stderr",
          "output_type": "stream",
          "text": [
            "100%|██████████| 229/229 [00:28<00:00,  8.18it/s]\n"
          ]
        },
        {
          "name": "stdout",
          "output_type": "stream",
          "text": [
            "Epoch [143/150], Train Loss: 0.1082, Train Accuracy: 96.13%\n",
            "Validation Loss: 1.5861, Validation Accuracy: 68.77%\n"
          ]
        },
        {
          "name": "stderr",
          "output_type": "stream",
          "text": [
            "100%|██████████| 229/229 [00:28<00:00,  8.05it/s]\n"
          ]
        },
        {
          "name": "stdout",
          "output_type": "stream",
          "text": [
            "Epoch [144/150], Train Loss: 0.1149, Train Accuracy: 95.97%\n",
            "Validation Loss: 1.5665, Validation Accuracy: 68.79%\n"
          ]
        },
        {
          "name": "stderr",
          "output_type": "stream",
          "text": [
            "100%|██████████| 229/229 [00:29<00:00,  7.90it/s]\n"
          ]
        },
        {
          "name": "stdout",
          "output_type": "stream",
          "text": [
            "Epoch [145/150], Train Loss: 0.1090, Train Accuracy: 96.25%\n",
            "Validation Loss: 1.5792, Validation Accuracy: 68.68%\n"
          ]
        },
        {
          "name": "stderr",
          "output_type": "stream",
          "text": [
            "100%|██████████| 229/229 [00:27<00:00,  8.34it/s]\n"
          ]
        },
        {
          "name": "stdout",
          "output_type": "stream",
          "text": [
            "Epoch [146/150], Train Loss: 0.1052, Train Accuracy: 96.29%\n",
            "Validation Loss: 1.6066, Validation Accuracy: 68.88%\n"
          ]
        },
        {
          "name": "stderr",
          "output_type": "stream",
          "text": [
            "100%|██████████| 229/229 [00:26<00:00,  8.73it/s]\n"
          ]
        },
        {
          "name": "stdout",
          "output_type": "stream",
          "text": [
            "Epoch [147/150], Train Loss: 0.1009, Train Accuracy: 96.51%\n",
            "Validation Loss: 1.6216, Validation Accuracy: 69.09%\n"
          ]
        },
        {
          "name": "stderr",
          "output_type": "stream",
          "text": [
            "100%|██████████| 229/229 [00:26<00:00,  8.70it/s]\n"
          ]
        },
        {
          "name": "stdout",
          "output_type": "stream",
          "text": [
            "Epoch [148/150], Train Loss: 0.1044, Train Accuracy: 96.32%\n",
            "Validation Loss: 1.6371, Validation Accuracy: 68.95%\n"
          ]
        },
        {
          "name": "stderr",
          "output_type": "stream",
          "text": [
            "100%|██████████| 229/229 [00:26<00:00,  8.76it/s]\n"
          ]
        },
        {
          "name": "stdout",
          "output_type": "stream",
          "text": [
            "Epoch [149/150], Train Loss: 0.1105, Train Accuracy: 96.37%\n",
            "Validation Loss: 1.5636, Validation Accuracy: 69.01%\n"
          ]
        },
        {
          "name": "stderr",
          "output_type": "stream",
          "text": [
            "100%|██████████| 229/229 [00:26<00:00,  8.65it/s]\n"
          ]
        },
        {
          "name": "stdout",
          "output_type": "stream",
          "text": [
            "Epoch [150/150], Train Loss: 0.1094, Train Accuracy: 96.25%\n",
            "Validation Loss: 1.5856, Validation Accuracy: 68.57%\n"
          ]
        }
      ],
      "source": [
        "# Training Model\n",
        "\n",
        "def train_model(model, train_loader, test_loader, criterion, optimizer, num_epochs=150, save_path='best_model.pth'):\n",
        "    best_val_acc = 0.0\n",
        "\n",
        "    for epoch in range(num_epochs):\n",
        "        \n",
        "        # Training phase\n",
        "        \n",
        "        model.train()\n",
        "        train_loss, train_correct, train_total = 0.0, 0, 0\n",
        "        \n",
        "        for images, labels in tqdm(train_loader):\n",
        "            images, labels = images.to(device), labels.to(device).long()\n",
        "            optimizer.zero_grad()\n",
        "            outputs = model(images)\n",
        "            loss = criterion(outputs, labels)\n",
        "            loss.backward()\n",
        "            optimizer.step()\n",
        "            \n",
        "            train_loss += loss.item()\n",
        "            _, predicted = torch.max(outputs.data, 1)\n",
        "            train_total += labels.size(0)\n",
        "            train_correct += (predicted == labels).sum().item()\n",
        "        \n",
        "        train_acc = 100 * train_correct / train_total\n",
        "        print(f\"Epoch [{epoch+1}/{num_epochs}], Train Loss: {train_loss/len(train_loader):.4f}, Train Accuracy: {train_acc:.2f}%\")\n",
        "        \n",
        "        # Validation phase\n",
        "        \n",
        "        model.eval()\n",
        "        val_loss, val_correct, val_total = 0.0, 0, 0\n",
        "        \n",
        "        with torch.no_grad():\n",
        "            for images, labels in test_loader:\n",
        "                images, labels = images.to(device), labels.to(device).long()\n",
        "                outputs = model(images)\n",
        "                loss = criterion(outputs, labels)\n",
        "                val_loss += loss.item()\n",
        "                _, predicted = torch.max(outputs.data, 1)\n",
        "                val_total += labels.size(0)\n",
        "                val_correct += (predicted == labels).sum().item()\n",
        "        \n",
        "        val_acc = 100 * val_correct / val_total\n",
        "        val_loss_avg = val_loss / len(test_loader)\n",
        "        print(f\"Validation Loss: {val_loss_avg:.4f}, Validation Accuracy: {val_acc:.2f}%\")\n",
        "        \n",
        "        # Save model if it has the best validation accuracy so far\n",
        "        if val_acc > best_val_acc:\n",
        "            best_val_acc = val_acc\n",
        "            torch.save(model.state_dict(), save_path)\n",
        "            print(f\"✅ New best model saved with val acc: {val_acc:.2f}%\")\n",
        "\n",
        "train_model(\n",
        "    model=model,\n",
        "    train_loader=train_loader,\n",
        "    test_loader=test_loader,\n",
        "    criterion=criterion,\n",
        "    optimizer=optimizer,\n",
        "    num_epochs=150,\n",
        "    save_path='emotionDetector_2.pth'\n",
        ")"
      ]
    }
  ],
  "metadata": {
    "accelerator": "TPU",
    "colab": {
      "gpuType": "V28",
      "provenance": []
    },
    "kernelspec": {
      "display_name": "tf_env",
      "language": "python",
      "name": "python3"
    },
    "language_info": {
      "codemirror_mode": {
        "name": "ipython",
        "version": 3
      },
      "file_extension": ".py",
      "mimetype": "text/x-python",
      "name": "python",
      "nbconvert_exporter": "python",
      "pygments_lexer": "ipython3",
      "version": "3.9.21"
    }
  },
  "nbformat": 4,
  "nbformat_minor": 5
}
