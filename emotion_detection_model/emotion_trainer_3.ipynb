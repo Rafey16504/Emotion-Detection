{
  "cells": [
    {
      "cell_type": "markdown",
      "id": "666e8736",
      "metadata": {
        "id": "666e8736"
      },
      "source": [
        "# **EMOTION DETECTION**"
      ]
    },
    {
      "cell_type": "code",
      "execution_count": 63,
      "id": "fa970d2a",
      "metadata": {
        "id": "fa970d2a"
      },
      "outputs": [],
      "source": [
        "# Getting all dependencies\n",
        "\n",
        "import os\n",
        "import torch\n",
        "import torch.nn as nn\n",
        "import torch.nn.functional as F\n",
        "import torch.optim as optim\n",
        "from torch.utils.data import Dataset, DataLoader\n",
        "from torchvision import transforms\n",
        "from PIL import Image\n",
        "import pandas as pd\n",
        "import numpy as np\n",
        "from tqdm import tqdm\n",
        "from sklearn.preprocessing import LabelEncoder\n",
        "import pickle\n"
      ]
    },
    {
      "cell_type": "code",
      "execution_count": 64,
      "id": "45vtVWh15Ve-",
      "metadata": {
        "id": "45vtVWh15Ve-"
      },
      "outputs": [
        {
          "name": "stdout",
          "output_type": "stream",
          "text": [
            "Using device: cuda\n"
          ]
        }
      ],
      "source": [
        "# Getting files on Collab\n",
        "# uploaded = files.upload()\n",
        "\n",
        "device = torch.device(\"cuda\" if torch.cuda.is_available() else \"cpu\")\n",
        "print(f\"Using device: {device}\")"
      ]
    },
    {
      "cell_type": "code",
      "execution_count": 65,
      "id": "utB-ndbV5Y4y",
      "metadata": {
        "id": "utB-ndbV5Y4y"
      },
      "outputs": [],
      "source": [
        "# Specify the name of the uploaded zip file\n",
        "# zip_file_name = 'images.zip'\n",
        "\n",
        "# Unzip the file\n",
        "# with zipfile.ZipFile(zip_file_name, 'r') as zip_ref:\n",
        "    # zip_ref.extractall('')\n",
        "\n",
        "# Verify the contents\n",
        "# print(os.listdir('images'))"
      ]
    },
    {
      "cell_type": "code",
      "execution_count": 66,
      "id": "a1a72c52",
      "metadata": {
        "id": "a1a72c52"
      },
      "outputs": [],
      "source": [
        "# Setting up the directories\n",
        "\n",
        "TRAINING_DIR = './images/train'\n",
        "TEST_DIR = './images/validation'"
      ]
    },
    {
      "cell_type": "code",
      "execution_count": 67,
      "id": "cc2387b7",
      "metadata": {
        "id": "cc2387b7"
      },
      "outputs": [],
      "source": [
        "# Making dataframes for the training and test data (with images and labels)\n",
        "\n",
        "def create_dataframe(directory):\n",
        "    image_paths = []\n",
        "    labels = []\n",
        "\n",
        "    for label in os.listdir(directory):\n",
        "        label_dir = os.path.join(directory, label)\n",
        "        if os.path.isdir(label_dir):\n",
        "            for image_name in os.listdir(label_dir):\n",
        "                image_path = os.path.join(label_dir, image_name)\n",
        "                image_paths.append(image_path)\n",
        "                labels.append(label)\n",
        "            print(f\"Completed {label_dir}\")\n",
        "    return image_paths, labels"
      ]
    },
    {
      "cell_type": "code",
      "execution_count": 68,
      "id": "d8177bec",
      "metadata": {
        "colab": {
          "base_uri": "https://localhost:8080/"
        },
        "id": "d8177bec",
        "outputId": "1becedef-d30a-4d32-a771-5244639d797d"
      },
      "outputs": [
        {
          "name": "stdout",
          "output_type": "stream",
          "text": [
            "Completed ./images/train\\angry\n",
            "Completed ./images/train\\disgust\n",
            "Completed ./images/train\\fear\n",
            "Completed ./images/train\\happy\n",
            "Completed ./images/train\\neutral\n",
            "Completed ./images/train\\sad\n",
            "Completed ./images/train\\surprise\n",
            "Completed ./images/validation\\angry\n",
            "Completed ./images/validation\\disgust\n",
            "Completed ./images/validation\\fear\n",
            "Completed ./images/validation\\happy\n",
            "Completed ./images/validation\\neutral\n",
            "Completed ./images/validation\\sad\n",
            "Completed ./images/validation\\surprise\n",
            "Train and test dataframes created successfully.\n",
            "                             image_path     label\n",
            "0            ./images/train\\angry\\0.jpg     angry\n",
            "1            ./images/train\\angry\\1.jpg     angry\n",
            "2           ./images/train\\angry\\10.jpg     angry\n",
            "3        ./images/train\\angry\\10002.jpg     angry\n",
            "4        ./images/train\\angry\\10016.jpg     angry\n",
            "...                                 ...       ...\n",
            "29208  ./images/train\\surprise\\9969.jpg  surprise\n",
            "29209  ./images/train\\surprise\\9985.jpg  surprise\n",
            "29210  ./images/train\\surprise\\9990.jpg  surprise\n",
            "29211  ./images/train\\surprise\\9992.jpg  surprise\n",
            "29212  ./images/train\\surprise\\9996.jpg  surprise\n",
            "\n",
            "[29213 rows x 2 columns]\n",
            "                                 image_path     label\n",
            "0       ./images/validation\\angry\\10052.jpg     angry\n",
            "1       ./images/validation\\angry\\10065.jpg     angry\n",
            "2       ./images/validation\\angry\\10079.jpg     angry\n",
            "3       ./images/validation\\angry\\10095.jpg     angry\n",
            "4       ./images/validation\\angry\\10121.jpg     angry\n",
            "...                                     ...       ...\n",
            "7061  ./images/validation\\surprise\\9806.jpg  surprise\n",
            "7062  ./images/validation\\surprise\\9830.jpg  surprise\n",
            "7063  ./images/validation\\surprise\\9853.jpg  surprise\n",
            "7064  ./images/validation\\surprise\\9878.jpg  surprise\n",
            "7065   ./images/validation\\surprise\\993.jpg  surprise\n",
            "\n",
            "[7066 rows x 2 columns]\n"
          ]
        }
      ],
      "source": [
        "# Making Train and Test dataframes\n",
        "train_df = pd.DataFrame()\n",
        "train_df['image_path'], train_df['label'] = create_dataframe(TRAINING_DIR)\n",
        "\n",
        "test_df = pd.DataFrame()\n",
        "test_df['image_path'], test_df['label'] = create_dataframe(TEST_DIR)\n",
        "print(\"Train and test dataframes created successfully.\")\n",
        "\n",
        "print(train_df)\n",
        "print(test_df)"
      ]
    },
    {
      "cell_type": "code",
      "execution_count": 69,
      "id": "f1155e68",
      "metadata": {
        "colab": {
          "base_uri": "https://localhost:8080/"
        },
        "id": "f1155e68",
        "outputId": "32e91557-1720-4a84-f9dc-9d97169ee9ca"
      },
      "outputs": [],
      "source": [
        "# Label Encoding\n",
        "\n",
        "label_encoder = LabelEncoder()\n",
        "label_encoder.fit(train_df['label'])\n",
        "y_train = label_encoder.transform(train_df['label'])\n",
        "y_test = label_encoder.transform(test_df['label'])"
      ]
    },
    {
      "cell_type": "code",
      "execution_count": 70,
      "id": "3182202d",
      "metadata": {
        "id": "3182202d"
      },
      "outputs": [],
      "source": [
        "# Training Transform (with augmentation)\n",
        "train_transform = transforms.Compose([\n",
        "    transforms.Resize((48, 48)),\n",
        "    transforms.RandomHorizontalFlip(p=0.5),\n",
        "    transforms.RandomRotation(degrees=10),\n",
        "    transforms.ColorJitter(brightness=0.2, contrast=0.2),\n",
        "    transforms.RandomAffine(degrees=0, translate=(0.1, 0.1)),\n",
        "    transforms.ToTensor(),\n",
        "    transforms.Normalize(mean=[0.5], std=[0.5])\n",
        "])\n",
        "# Test Transform (no augmentation)\n",
        "test_transform = transforms.Compose([\n",
        "    transforms.Resize((48, 48)),  # Resize to 48x48\n",
        "    transforms.ToTensor(),  # Convert to tensor\n",
        "    transforms.Normalize(mean=[0.5], std=[0.5])  # Normalize to [-1, 1]\n",
        "])"
      ]
    },
    {
      "cell_type": "code",
      "execution_count": 71,
      "id": "9c7391e9",
      "metadata": {
        "colab": {
          "base_uri": "https://localhost:8080/",
          "height": 80
        },
        "id": "9c7391e9",
        "outputId": "7667316b-4f4b-4a5b-bd21-f0b2e60fe857"
      },
      "outputs": [],
      "source": [
        "# Custom Dataset class\n",
        "\n",
        "class EmotionDataset(Dataset):\n",
        "    def __init__(self, image_paths, labels, transform=None):\n",
        "        self.image_paths = image_paths\n",
        "        self.labels = labels\n",
        "        self.transform = transform\n",
        "\n",
        "    def __len__(self):\n",
        "        return len(self.image_paths)\n",
        "\n",
        "    def __getitem__(self, idx):\n",
        "        img = Image.open(self.image_paths[idx]).convert('L')\n",
        "        if self.transform:\n",
        "            img = self.transform(img)\n",
        "        label = self.labels[idx]\n",
        "        return img, label"
      ]
    },
    {
      "cell_type": "code",
      "execution_count": 72,
      "id": "20305965",
      "metadata": {
        "id": "20305965"
      },
      "outputs": [],
      "source": [
        "# Create datasets and dataloaders\n",
        "\n",
        "train_dataset = EmotionDataset(train_df['image_path'].tolist(), y_train, transform=train_transform)\n",
        "test_dataset = EmotionDataset(test_df['image_path'].tolist(), y_test, transform=test_transform)\n",
        "\n",
        "train_loader = DataLoader(train_dataset, batch_size=128, shuffle=True)\n",
        "test_loader = DataLoader(test_dataset, batch_size=128, shuffle=False)"
      ]
    },
    {
      "cell_type": "code",
      "execution_count": 73,
      "id": "2ffdf88d",
      "metadata": {
        "id": "2ffdf88d"
      },
      "outputs": [],
      "source": [
        "# Convolutional Neural Network (CNN) model\n",
        "# The model is a sequential model with convolutional layers, max pooling layers, and dropout layers\n",
        "# The model is designed to classify images into 7 different classes (emotions)\n",
        "\n",
        "class EmotionCNN(nn.Module):\n",
        "    def __init__(self):\n",
        "        super(EmotionCNN, self).__init__()\n",
        "        self.conv_layers = nn.Sequential(\n",
        "            nn.Conv2d(1, 32, kernel_size=3, padding=1),\n",
        "            nn.BatchNorm2d(32),\n",
        "            nn.ReLU(),\n",
        "            nn.MaxPool2d(kernel_size=2),\n",
        "            nn.Dropout(0.1),\n",
        "\n",
        "            nn.Conv2d(32, 64, kernel_size=3, padding=1),\n",
        "            nn.BatchNorm2d(64),\n",
        "            nn.ReLU(),\n",
        "            nn.MaxPool2d(kernel_size=2),\n",
        "            nn.Dropout(0.1),\n",
        "\n",
        "            nn.Conv2d(64, 128, kernel_size=3, padding=1),\n",
        "            nn.BatchNorm2d(128),\n",
        "            nn.ReLU(),\n",
        "            nn.MaxPool2d(kernel_size=2),\n",
        "            nn.Dropout(0.1),\n",
        "\n",
        "            nn.Conv2d(128, 256, kernel_size=3, padding=1),\n",
        "            nn.BatchNorm2d(256),\n",
        "            nn.ReLU(),\n",
        "            nn.MaxPool2d(kernel_size=2),\n",
        "            nn.Dropout(0.1),\n",
        "\n",
        "            # ✅ Added Conv layer: 256 → 512\n",
        "            nn.Conv2d(256, 512, kernel_size=3, padding=1),\n",
        "            nn.BatchNorm2d(512),\n",
        "            nn.ReLU(),\n",
        "            nn.MaxPool2d(kernel_size=2),\n",
        "            nn.Dropout(0.1)\n",
        "        )\n",
        "\n",
        "        # Output feature map size is now (512, 1, 1) assuming input is 48x48 (FER dataset)\n",
        "        self.fc_layers = nn.Sequential(\n",
        "            nn.Flatten(),\n",
        "            nn.Linear(512 * 1 * 1, 256),\n",
        "            nn.BatchNorm1d(256),\n",
        "            nn.ReLU(),\n",
        "            nn.Dropout(0.3),\n",
        "\n",
        "            nn.Linear(256, 128),\n",
        "            nn.BatchNorm1d(128),\n",
        "            nn.ReLU(),\n",
        "            nn.Dropout(0.3),\n",
        "\n",
        "            nn.Linear(128, 7)  # Directly output 7 classes\n",
        "        )\n",
        "\n",
        "    def forward(self, x):\n",
        "        x = self.conv_layers(x)\n",
        "        x = self.fc_layers(x)\n",
        "        return x\n"
      ]
    },
    {
      "cell_type": "code",
      "execution_count": 74,
      "id": "0360b37e",
      "metadata": {
        "colab": {
          "base_uri": "https://localhost:8080/"
        },
        "id": "0360b37e",
        "outputId": "c8b1d8ae-eb30-4dfb-ab1b-78757bee1809"
      },
      "outputs": [],
      "source": [
        "# Configuring the model\n",
        "# from sklearn.utils.class_weight import compute_class_weight\n",
        "\n",
        "# # Compute class weights\n",
        "# class_weights = compute_class_weight(\n",
        "#     class_weight='balanced',\n",
        "#     classes=np.unique(train_df['label']),\n",
        "#     y=train_df['label']\n",
        "# )\n",
        "# class_weights = torch.tensor(class_weights, dtype=torch.float).to(device)\n",
        "\n",
        "# # Use weights in loss function\n",
        "# criterion = nn.CrossEntropyLoss(weight=class_weights)\n",
        "model = EmotionCNN().to(device)\n",
        "# model.load_state_dict(torch.load(\"emotionDetector.pth\", map_location=device))\n",
        "criterion = nn.CrossEntropyLoss()\n",
        "optimizer = optim.Adam(model.parameters(), lr=0.001)\n"
      ]
    },
    {
      "cell_type": "code",
      "execution_count": 75,
      "id": "8bcb01f7",
      "metadata": {},
      "outputs": [
        {
          "name": "stderr",
          "output_type": "stream",
          "text": [
            "100%|██████████| 229/229 [00:24<00:00,  9.40it/s]\n"
          ]
        },
        {
          "name": "stdout",
          "output_type": "stream",
          "text": [
            "Epoch [1/150], Train Loss: 1.7075, Train Accuracy: 30.85%\n",
            "Validation Loss: 1.4415, Validation Accuracy: 44.23%\n",
            "✅ New best model saved with val acc: 44.23%\n"
          ]
        },
        {
          "name": "stderr",
          "output_type": "stream",
          "text": [
            "100%|██████████| 229/229 [00:25<00:00,  8.84it/s]\n"
          ]
        },
        {
          "name": "stdout",
          "output_type": "stream",
          "text": [
            "Epoch [2/150], Train Loss: 1.4423, Train Accuracy: 44.28%\n",
            "Validation Loss: 1.3619, Validation Accuracy: 48.26%\n",
            "✅ New best model saved with val acc: 48.26%\n"
          ]
        },
        {
          "name": "stderr",
          "output_type": "stream",
          "text": [
            "100%|██████████| 229/229 [00:26<00:00,  8.60it/s]\n"
          ]
        },
        {
          "name": "stdout",
          "output_type": "stream",
          "text": [
            "Epoch [3/150], Train Loss: 1.3419, Train Accuracy: 48.56%\n",
            "Validation Loss: 1.2421, Validation Accuracy: 52.14%\n",
            "✅ New best model saved with val acc: 52.14%\n"
          ]
        },
        {
          "name": "stderr",
          "output_type": "stream",
          "text": [
            "100%|██████████| 229/229 [00:33<00:00,  6.86it/s]\n"
          ]
        },
        {
          "name": "stdout",
          "output_type": "stream",
          "text": [
            "Epoch [4/150], Train Loss: 1.2928, Train Accuracy: 50.28%\n",
            "Validation Loss: 1.1859, Validation Accuracy: 54.73%\n",
            "✅ New best model saved with val acc: 54.73%\n"
          ]
        },
        {
          "name": "stderr",
          "output_type": "stream",
          "text": [
            "100%|██████████| 229/229 [00:28<00:00,  8.17it/s]\n"
          ]
        },
        {
          "name": "stdout",
          "output_type": "stream",
          "text": [
            "Epoch [5/150], Train Loss: 1.2616, Train Accuracy: 51.73%\n",
            "Validation Loss: 1.2317, Validation Accuracy: 52.93%\n"
          ]
        },
        {
          "name": "stderr",
          "output_type": "stream",
          "text": [
            "100%|██████████| 229/229 [00:27<00:00,  8.38it/s]\n"
          ]
        },
        {
          "name": "stdout",
          "output_type": "stream",
          "text": [
            "Epoch [6/150], Train Loss: 1.2283, Train Accuracy: 53.15%\n",
            "Validation Loss: 1.1617, Validation Accuracy: 55.17%\n",
            "✅ New best model saved with val acc: 55.17%\n"
          ]
        },
        {
          "name": "stderr",
          "output_type": "stream",
          "text": [
            "100%|██████████| 229/229 [00:35<00:00,  6.37it/s]\n"
          ]
        },
        {
          "name": "stdout",
          "output_type": "stream",
          "text": [
            "Epoch [7/150], Train Loss: 1.2027, Train Accuracy: 54.22%\n",
            "Validation Loss: 1.0964, Validation Accuracy: 58.21%\n",
            "✅ New best model saved with val acc: 58.21%\n"
          ]
        },
        {
          "name": "stderr",
          "output_type": "stream",
          "text": [
            "100%|██████████| 229/229 [00:28<00:00,  8.06it/s]\n"
          ]
        },
        {
          "name": "stdout",
          "output_type": "stream",
          "text": [
            "Epoch [8/150], Train Loss: 1.1805, Train Accuracy: 55.31%\n",
            "Validation Loss: 1.1133, Validation Accuracy: 57.64%\n"
          ]
        },
        {
          "name": "stderr",
          "output_type": "stream",
          "text": [
            "100%|██████████| 229/229 [00:27<00:00,  8.24it/s]\n"
          ]
        },
        {
          "name": "stdout",
          "output_type": "stream",
          "text": [
            "Epoch [9/150], Train Loss: 1.1595, Train Accuracy: 55.72%\n",
            "Validation Loss: 1.0610, Validation Accuracy: 59.71%\n",
            "✅ New best model saved with val acc: 59.71%\n"
          ]
        },
        {
          "name": "stderr",
          "output_type": "stream",
          "text": [
            "100%|██████████| 229/229 [00:25<00:00,  8.98it/s]\n"
          ]
        },
        {
          "name": "stdout",
          "output_type": "stream",
          "text": [
            "Epoch [10/150], Train Loss: 1.1422, Train Accuracy: 56.65%\n",
            "Validation Loss: 1.0458, Validation Accuracy: 60.71%\n",
            "✅ New best model saved with val acc: 60.71%\n"
          ]
        },
        {
          "name": "stderr",
          "output_type": "stream",
          "text": [
            "100%|██████████| 229/229 [00:42<00:00,  5.41it/s]\n"
          ]
        },
        {
          "name": "stdout",
          "output_type": "stream",
          "text": [
            "Epoch [11/150], Train Loss: 1.1357, Train Accuracy: 56.79%\n",
            "Validation Loss: 1.0403, Validation Accuracy: 60.37%\n"
          ]
        },
        {
          "name": "stderr",
          "output_type": "stream",
          "text": [
            "100%|██████████| 229/229 [00:28<00:00,  8.14it/s]\n"
          ]
        },
        {
          "name": "stdout",
          "output_type": "stream",
          "text": [
            "Epoch [12/150], Train Loss: 1.1206, Train Accuracy: 57.40%\n",
            "Validation Loss: 1.0391, Validation Accuracy: 60.50%\n"
          ]
        },
        {
          "name": "stderr",
          "output_type": "stream",
          "text": [
            "100%|██████████| 229/229 [00:25<00:00,  8.98it/s]\n"
          ]
        },
        {
          "name": "stdout",
          "output_type": "stream",
          "text": [
            "Epoch [13/150], Train Loss: 1.1103, Train Accuracy: 57.83%\n",
            "Validation Loss: 1.0280, Validation Accuracy: 60.87%\n",
            "✅ New best model saved with val acc: 60.87%\n"
          ]
        },
        {
          "name": "stderr",
          "output_type": "stream",
          "text": [
            "100%|██████████| 229/229 [00:24<00:00,  9.33it/s]\n"
          ]
        },
        {
          "name": "stdout",
          "output_type": "stream",
          "text": [
            "Epoch [14/150], Train Loss: 1.0928, Train Accuracy: 58.43%\n",
            "Validation Loss: 1.0180, Validation Accuracy: 61.04%\n",
            "✅ New best model saved with val acc: 61.04%\n"
          ]
        },
        {
          "name": "stderr",
          "output_type": "stream",
          "text": [
            "100%|██████████| 229/229 [00:24<00:00,  9.22it/s]\n"
          ]
        },
        {
          "name": "stdout",
          "output_type": "stream",
          "text": [
            "Epoch [15/150], Train Loss: 1.0794, Train Accuracy: 59.28%\n",
            "Validation Loss: 0.9988, Validation Accuracy: 62.27%\n",
            "✅ New best model saved with val acc: 62.27%\n"
          ]
        },
        {
          "name": "stderr",
          "output_type": "stream",
          "text": [
            "100%|██████████| 229/229 [00:25<00:00,  9.12it/s]\n"
          ]
        },
        {
          "name": "stdout",
          "output_type": "stream",
          "text": [
            "Epoch [16/150], Train Loss: 1.0756, Train Accuracy: 59.38%\n",
            "Validation Loss: 1.0003, Validation Accuracy: 62.04%\n"
          ]
        },
        {
          "name": "stderr",
          "output_type": "stream",
          "text": [
            "100%|██████████| 229/229 [00:26<00:00,  8.79it/s]\n"
          ]
        },
        {
          "name": "stdout",
          "output_type": "stream",
          "text": [
            "Epoch [17/150], Train Loss: 1.0583, Train Accuracy: 60.14%\n",
            "Validation Loss: 0.9743, Validation Accuracy: 62.99%\n",
            "✅ New best model saved with val acc: 62.99%\n"
          ]
        },
        {
          "name": "stderr",
          "output_type": "stream",
          "text": [
            "100%|██████████| 229/229 [00:27<00:00,  8.40it/s]\n"
          ]
        },
        {
          "name": "stdout",
          "output_type": "stream",
          "text": [
            "Epoch [18/150], Train Loss: 1.0580, Train Accuracy: 60.07%\n",
            "Validation Loss: 1.0364, Validation Accuracy: 61.72%\n"
          ]
        },
        {
          "name": "stderr",
          "output_type": "stream",
          "text": [
            "100%|██████████| 229/229 [00:30<00:00,  7.45it/s]\n"
          ]
        },
        {
          "name": "stdout",
          "output_type": "stream",
          "text": [
            "Epoch [19/150], Train Loss: 1.0445, Train Accuracy: 60.46%\n",
            "Validation Loss: 0.9803, Validation Accuracy: 63.13%\n",
            "✅ New best model saved with val acc: 63.13%\n"
          ]
        },
        {
          "name": "stderr",
          "output_type": "stream",
          "text": [
            "100%|██████████| 229/229 [00:30<00:00,  7.56it/s]\n"
          ]
        },
        {
          "name": "stdout",
          "output_type": "stream",
          "text": [
            "Epoch [20/150], Train Loss: 1.0360, Train Accuracy: 60.99%\n",
            "Validation Loss: 0.9545, Validation Accuracy: 64.41%\n",
            "✅ New best model saved with val acc: 64.41%\n"
          ]
        },
        {
          "name": "stderr",
          "output_type": "stream",
          "text": [
            "100%|██████████| 229/229 [00:27<00:00,  8.19it/s]\n"
          ]
        },
        {
          "name": "stdout",
          "output_type": "stream",
          "text": [
            "Epoch [21/150], Train Loss: 1.0282, Train Accuracy: 60.95%\n",
            "Validation Loss: 0.9661, Validation Accuracy: 63.90%\n"
          ]
        },
        {
          "name": "stderr",
          "output_type": "stream",
          "text": [
            "100%|██████████| 229/229 [00:37<00:00,  6.12it/s]\n"
          ]
        },
        {
          "name": "stdout",
          "output_type": "stream",
          "text": [
            "Epoch [22/150], Train Loss: 1.0124, Train Accuracy: 61.57%\n",
            "Validation Loss: 0.9485, Validation Accuracy: 64.55%\n",
            "✅ New best model saved with val acc: 64.55%\n"
          ]
        },
        {
          "name": "stderr",
          "output_type": "stream",
          "text": [
            "100%|██████████| 229/229 [00:40<00:00,  5.72it/s]\n"
          ]
        },
        {
          "name": "stdout",
          "output_type": "stream",
          "text": [
            "Epoch [23/150], Train Loss: 1.0071, Train Accuracy: 61.99%\n",
            "Validation Loss: 0.9635, Validation Accuracy: 64.36%\n"
          ]
        },
        {
          "name": "stderr",
          "output_type": "stream",
          "text": [
            "100%|██████████| 229/229 [00:26<00:00,  8.60it/s]\n"
          ]
        },
        {
          "name": "stdout",
          "output_type": "stream",
          "text": [
            "Epoch [24/150], Train Loss: 1.0039, Train Accuracy: 62.42%\n",
            "Validation Loss: 0.9405, Validation Accuracy: 64.32%\n"
          ]
        },
        {
          "name": "stderr",
          "output_type": "stream",
          "text": [
            "100%|██████████| 229/229 [00:26<00:00,  8.60it/s]\n"
          ]
        },
        {
          "name": "stdout",
          "output_type": "stream",
          "text": [
            "Epoch [25/150], Train Loss: 0.9927, Train Accuracy: 62.63%\n",
            "Validation Loss: 0.9474, Validation Accuracy: 64.77%\n",
            "✅ New best model saved with val acc: 64.77%\n"
          ]
        },
        {
          "name": "stderr",
          "output_type": "stream",
          "text": [
            "100%|██████████| 229/229 [00:27<00:00,  8.32it/s]\n"
          ]
        },
        {
          "name": "stdout",
          "output_type": "stream",
          "text": [
            "Epoch [26/150], Train Loss: 0.9878, Train Accuracy: 62.76%\n",
            "Validation Loss: 0.9413, Validation Accuracy: 64.77%\n"
          ]
        },
        {
          "name": "stderr",
          "output_type": "stream",
          "text": [
            "100%|██████████| 229/229 [00:27<00:00,  8.46it/s]\n"
          ]
        },
        {
          "name": "stdout",
          "output_type": "stream",
          "text": [
            "Epoch [27/150], Train Loss: 0.9822, Train Accuracy: 62.92%\n",
            "Validation Loss: 0.9391, Validation Accuracy: 64.48%\n"
          ]
        },
        {
          "name": "stderr",
          "output_type": "stream",
          "text": [
            "100%|██████████| 229/229 [00:27<00:00,  8.38it/s]\n"
          ]
        },
        {
          "name": "stdout",
          "output_type": "stream",
          "text": [
            "Epoch [28/150], Train Loss: 0.9753, Train Accuracy: 63.22%\n",
            "Validation Loss: 0.9371, Validation Accuracy: 64.92%\n",
            "✅ New best model saved with val acc: 64.92%\n"
          ]
        },
        {
          "name": "stderr",
          "output_type": "stream",
          "text": [
            "100%|██████████| 229/229 [00:27<00:00,  8.35it/s]\n"
          ]
        },
        {
          "name": "stdout",
          "output_type": "stream",
          "text": [
            "Epoch [29/150], Train Loss: 0.9627, Train Accuracy: 63.84%\n",
            "Validation Loss: 0.9256, Validation Accuracy: 65.26%\n",
            "✅ New best model saved with val acc: 65.26%\n"
          ]
        },
        {
          "name": "stderr",
          "output_type": "stream",
          "text": [
            "100%|██████████| 229/229 [00:29<00:00,  7.88it/s]\n"
          ]
        },
        {
          "name": "stdout",
          "output_type": "stream",
          "text": [
            "Epoch [30/150], Train Loss: 0.9629, Train Accuracy: 63.68%\n",
            "Validation Loss: 0.9101, Validation Accuracy: 66.05%\n",
            "✅ New best model saved with val acc: 66.05%\n"
          ]
        },
        {
          "name": "stderr",
          "output_type": "stream",
          "text": [
            "100%|██████████| 229/229 [00:28<00:00,  8.02it/s]\n"
          ]
        },
        {
          "name": "stdout",
          "output_type": "stream",
          "text": [
            "Epoch [31/150], Train Loss: 0.9553, Train Accuracy: 63.98%\n",
            "Validation Loss: 0.9130, Validation Accuracy: 66.19%\n",
            "✅ New best model saved with val acc: 66.19%\n"
          ]
        },
        {
          "name": "stderr",
          "output_type": "stream",
          "text": [
            "100%|██████████| 229/229 [00:32<00:00,  6.99it/s]\n"
          ]
        },
        {
          "name": "stdout",
          "output_type": "stream",
          "text": [
            "Epoch [32/150], Train Loss: 0.9504, Train Accuracy: 64.15%\n",
            "Validation Loss: 0.9181, Validation Accuracy: 65.62%\n"
          ]
        },
        {
          "name": "stderr",
          "output_type": "stream",
          "text": [
            "100%|██████████| 229/229 [00:30<00:00,  7.59it/s]\n"
          ]
        },
        {
          "name": "stdout",
          "output_type": "stream",
          "text": [
            "Epoch [33/150], Train Loss: 0.9393, Train Accuracy: 64.53%\n",
            "Validation Loss: 0.9272, Validation Accuracy: 65.60%\n"
          ]
        },
        {
          "name": "stderr",
          "output_type": "stream",
          "text": [
            "100%|██████████| 229/229 [00:33<00:00,  6.78it/s]\n"
          ]
        },
        {
          "name": "stdout",
          "output_type": "stream",
          "text": [
            "Epoch [34/150], Train Loss: 0.9309, Train Accuracy: 65.00%\n",
            "Validation Loss: 0.9192, Validation Accuracy: 66.39%\n",
            "✅ New best model saved with val acc: 66.39%\n"
          ]
        },
        {
          "name": "stderr",
          "output_type": "stream",
          "text": [
            "100%|██████████| 229/229 [00:32<00:00,  7.13it/s]\n"
          ]
        },
        {
          "name": "stdout",
          "output_type": "stream",
          "text": [
            "Epoch [35/150], Train Loss: 0.9238, Train Accuracy: 65.14%\n",
            "Validation Loss: 0.9073, Validation Accuracy: 66.93%\n",
            "✅ New best model saved with val acc: 66.93%\n"
          ]
        },
        {
          "name": "stderr",
          "output_type": "stream",
          "text": [
            "100%|██████████| 229/229 [00:29<00:00,  7.89it/s]\n"
          ]
        },
        {
          "name": "stdout",
          "output_type": "stream",
          "text": [
            "Epoch [36/150], Train Loss: 0.9189, Train Accuracy: 65.18%\n",
            "Validation Loss: 0.9072, Validation Accuracy: 66.40%\n"
          ]
        },
        {
          "name": "stderr",
          "output_type": "stream",
          "text": [
            "100%|██████████| 229/229 [00:27<00:00,  8.42it/s]\n"
          ]
        },
        {
          "name": "stdout",
          "output_type": "stream",
          "text": [
            "Epoch [37/150], Train Loss: 0.9075, Train Accuracy: 65.61%\n",
            "Validation Loss: 0.9159, Validation Accuracy: 66.06%\n"
          ]
        },
        {
          "name": "stderr",
          "output_type": "stream",
          "text": [
            "100%|██████████| 229/229 [00:29<00:00,  7.90it/s]\n"
          ]
        },
        {
          "name": "stdout",
          "output_type": "stream",
          "text": [
            "Epoch [38/150], Train Loss: 0.9095, Train Accuracy: 65.99%\n",
            "Validation Loss: 0.8979, Validation Accuracy: 67.00%\n",
            "✅ New best model saved with val acc: 67.00%\n"
          ]
        },
        {
          "name": "stderr",
          "output_type": "stream",
          "text": [
            "100%|██████████| 229/229 [00:33<00:00,  6.93it/s]\n"
          ]
        },
        {
          "name": "stdout",
          "output_type": "stream",
          "text": [
            "Epoch [39/150], Train Loss: 0.9043, Train Accuracy: 65.87%\n",
            "Validation Loss: 0.9106, Validation Accuracy: 66.30%\n"
          ]
        },
        {
          "name": "stderr",
          "output_type": "stream",
          "text": [
            "100%|██████████| 229/229 [00:33<00:00,  6.79it/s]\n"
          ]
        },
        {
          "name": "stdout",
          "output_type": "stream",
          "text": [
            "Epoch [40/150], Train Loss: 0.8980, Train Accuracy: 66.36%\n",
            "Validation Loss: 0.8970, Validation Accuracy: 67.45%\n",
            "✅ New best model saved with val acc: 67.45%\n"
          ]
        },
        {
          "name": "stderr",
          "output_type": "stream",
          "text": [
            "100%|██████████| 229/229 [00:35<00:00,  6.49it/s]\n"
          ]
        },
        {
          "name": "stdout",
          "output_type": "stream",
          "text": [
            "Epoch [41/150], Train Loss: 0.8888, Train Accuracy: 66.44%\n",
            "Validation Loss: 0.8949, Validation Accuracy: 67.12%\n"
          ]
        },
        {
          "name": "stderr",
          "output_type": "stream",
          "text": [
            "100%|██████████| 229/229 [00:41<00:00,  5.55it/s]\n"
          ]
        },
        {
          "name": "stdout",
          "output_type": "stream",
          "text": [
            "Epoch [42/150], Train Loss: 0.8840, Train Accuracy: 66.59%\n",
            "Validation Loss: 0.8873, Validation Accuracy: 67.28%\n"
          ]
        },
        {
          "name": "stderr",
          "output_type": "stream",
          "text": [
            "100%|██████████| 229/229 [00:50<00:00,  4.55it/s]\n"
          ]
        },
        {
          "name": "stdout",
          "output_type": "stream",
          "text": [
            "Epoch [43/150], Train Loss: 0.8751, Train Accuracy: 67.19%\n",
            "Validation Loss: 0.9054, Validation Accuracy: 67.25%\n"
          ]
        },
        {
          "name": "stderr",
          "output_type": "stream",
          "text": [
            "100%|██████████| 229/229 [00:55<00:00,  4.11it/s]\n"
          ]
        },
        {
          "name": "stdout",
          "output_type": "stream",
          "text": [
            "Epoch [44/150], Train Loss: 0.8804, Train Accuracy: 67.07%\n",
            "Validation Loss: 0.8831, Validation Accuracy: 67.79%\n",
            "✅ New best model saved with val acc: 67.79%\n"
          ]
        },
        {
          "name": "stderr",
          "output_type": "stream",
          "text": [
            "100%|██████████| 229/229 [00:50<00:00,  4.58it/s]\n"
          ]
        },
        {
          "name": "stdout",
          "output_type": "stream",
          "text": [
            "Epoch [45/150], Train Loss: 0.8727, Train Accuracy: 67.44%\n",
            "Validation Loss: 0.8871, Validation Accuracy: 67.59%\n"
          ]
        },
        {
          "name": "stderr",
          "output_type": "stream",
          "text": [
            "100%|██████████| 229/229 [00:40<00:00,  5.61it/s]\n"
          ]
        },
        {
          "name": "stdout",
          "output_type": "stream",
          "text": [
            "Epoch [46/150], Train Loss: 0.8606, Train Accuracy: 67.63%\n",
            "Validation Loss: 0.8974, Validation Accuracy: 67.36%\n"
          ]
        },
        {
          "name": "stderr",
          "output_type": "stream",
          "text": [
            "100%|██████████| 229/229 [00:38<00:00,  5.98it/s]\n"
          ]
        },
        {
          "name": "stdout",
          "output_type": "stream",
          "text": [
            "Epoch [47/150], Train Loss: 0.8640, Train Accuracy: 67.39%\n",
            "Validation Loss: 0.8982, Validation Accuracy: 67.56%\n"
          ]
        },
        {
          "name": "stderr",
          "output_type": "stream",
          "text": [
            "100%|██████████| 229/229 [00:38<00:00,  5.95it/s]\n"
          ]
        },
        {
          "name": "stdout",
          "output_type": "stream",
          "text": [
            "Epoch [48/150], Train Loss: 0.8507, Train Accuracy: 68.44%\n",
            "Validation Loss: 0.8868, Validation Accuracy: 67.90%\n",
            "✅ New best model saved with val acc: 67.90%\n"
          ]
        },
        {
          "name": "stderr",
          "output_type": "stream",
          "text": [
            "100%|██████████| 229/229 [00:38<00:00,  5.88it/s]\n"
          ]
        },
        {
          "name": "stdout",
          "output_type": "stream",
          "text": [
            "Epoch [49/150], Train Loss: 0.8464, Train Accuracy: 68.21%\n",
            "Validation Loss: 0.8927, Validation Accuracy: 67.68%\n"
          ]
        },
        {
          "name": "stderr",
          "output_type": "stream",
          "text": [
            "100%|██████████| 229/229 [00:39<00:00,  5.76it/s]\n"
          ]
        },
        {
          "name": "stdout",
          "output_type": "stream",
          "text": [
            "Epoch [50/150], Train Loss: 0.8475, Train Accuracy: 68.38%\n",
            "Validation Loss: 0.8883, Validation Accuracy: 67.87%\n"
          ]
        },
        {
          "name": "stderr",
          "output_type": "stream",
          "text": [
            "100%|██████████| 229/229 [00:39<00:00,  5.73it/s]\n"
          ]
        },
        {
          "name": "stdout",
          "output_type": "stream",
          "text": [
            "Epoch [51/150], Train Loss: 0.8394, Train Accuracy: 68.73%\n",
            "Validation Loss: 0.8869, Validation Accuracy: 68.58%\n",
            "✅ New best model saved with val acc: 68.58%\n"
          ]
        },
        {
          "name": "stderr",
          "output_type": "stream",
          "text": [
            "100%|██████████| 229/229 [00:40<00:00,  5.70it/s]\n"
          ]
        },
        {
          "name": "stdout",
          "output_type": "stream",
          "text": [
            "Epoch [52/150], Train Loss: 0.8297, Train Accuracy: 68.75%\n",
            "Validation Loss: 0.8897, Validation Accuracy: 67.85%\n"
          ]
        },
        {
          "name": "stderr",
          "output_type": "stream",
          "text": [
            "100%|██████████| 229/229 [00:39<00:00,  5.87it/s]\n"
          ]
        },
        {
          "name": "stdout",
          "output_type": "stream",
          "text": [
            "Epoch [53/150], Train Loss: 0.8312, Train Accuracy: 68.87%\n",
            "Validation Loss: 0.8836, Validation Accuracy: 68.31%\n"
          ]
        },
        {
          "name": "stderr",
          "output_type": "stream",
          "text": [
            "100%|██████████| 229/229 [00:40<00:00,  5.71it/s]\n"
          ]
        },
        {
          "name": "stdout",
          "output_type": "stream",
          "text": [
            "Epoch [54/150], Train Loss: 0.8266, Train Accuracy: 69.10%\n",
            "Validation Loss: 0.8901, Validation Accuracy: 68.23%\n"
          ]
        },
        {
          "name": "stderr",
          "output_type": "stream",
          "text": [
            "100%|██████████| 229/229 [00:44<00:00,  5.16it/s]\n"
          ]
        },
        {
          "name": "stdout",
          "output_type": "stream",
          "text": [
            "Epoch [55/150], Train Loss: 0.8240, Train Accuracy: 69.25%\n",
            "Validation Loss: 0.9026, Validation Accuracy: 68.07%\n"
          ]
        },
        {
          "name": "stderr",
          "output_type": "stream",
          "text": [
            "100%|██████████| 229/229 [00:39<00:00,  5.79it/s]\n"
          ]
        },
        {
          "name": "stdout",
          "output_type": "stream",
          "text": [
            "Epoch [56/150], Train Loss: 0.8092, Train Accuracy: 69.74%\n",
            "Validation Loss: 0.8881, Validation Accuracy: 68.37%\n"
          ]
        },
        {
          "name": "stderr",
          "output_type": "stream",
          "text": [
            "100%|██████████| 229/229 [00:47<00:00,  4.86it/s]\n"
          ]
        },
        {
          "name": "stdout",
          "output_type": "stream",
          "text": [
            "Epoch [57/150], Train Loss: 0.8041, Train Accuracy: 69.97%\n",
            "Validation Loss: 0.8846, Validation Accuracy: 68.60%\n",
            "✅ New best model saved with val acc: 68.60%\n"
          ]
        },
        {
          "name": "stderr",
          "output_type": "stream",
          "text": [
            "100%|██████████| 229/229 [00:46<00:00,  4.97it/s]\n"
          ]
        },
        {
          "name": "stdout",
          "output_type": "stream",
          "text": [
            "Epoch [58/150], Train Loss: 0.8096, Train Accuracy: 69.78%\n",
            "Validation Loss: 0.8830, Validation Accuracy: 69.03%\n",
            "✅ New best model saved with val acc: 69.03%\n"
          ]
        },
        {
          "name": "stderr",
          "output_type": "stream",
          "text": [
            "100%|██████████| 229/229 [00:51<00:00,  4.46it/s]\n"
          ]
        },
        {
          "name": "stdout",
          "output_type": "stream",
          "text": [
            "Epoch [59/150], Train Loss: 0.8008, Train Accuracy: 69.99%\n",
            "Validation Loss: 0.8736, Validation Accuracy: 69.81%\n",
            "✅ New best model saved with val acc: 69.81%\n"
          ]
        },
        {
          "name": "stderr",
          "output_type": "stream",
          "text": [
            "100%|██████████| 229/229 [00:52<00:00,  4.39it/s]\n"
          ]
        },
        {
          "name": "stdout",
          "output_type": "stream",
          "text": [
            "Epoch [60/150], Train Loss: 0.7931, Train Accuracy: 70.19%\n",
            "Validation Loss: 0.8829, Validation Accuracy: 69.15%\n"
          ]
        },
        {
          "name": "stderr",
          "output_type": "stream",
          "text": [
            "100%|██████████| 229/229 [00:46<00:00,  4.88it/s]\n"
          ]
        },
        {
          "name": "stdout",
          "output_type": "stream",
          "text": [
            "Epoch [61/150], Train Loss: 0.7910, Train Accuracy: 70.24%\n",
            "Validation Loss: 0.8899, Validation Accuracy: 69.19%\n"
          ]
        },
        {
          "name": "stderr",
          "output_type": "stream",
          "text": [
            "100%|██████████| 229/229 [00:39<00:00,  5.78it/s]\n"
          ]
        },
        {
          "name": "stdout",
          "output_type": "stream",
          "text": [
            "Epoch [62/150], Train Loss: 0.7851, Train Accuracy: 70.77%\n",
            "Validation Loss: 0.8913, Validation Accuracy: 68.47%\n"
          ]
        },
        {
          "name": "stderr",
          "output_type": "stream",
          "text": [
            "100%|██████████| 229/229 [00:38<00:00,  5.92it/s]\n"
          ]
        },
        {
          "name": "stdout",
          "output_type": "stream",
          "text": [
            "Epoch [63/150], Train Loss: 0.7796, Train Accuracy: 71.26%\n",
            "Validation Loss: 0.8883, Validation Accuracy: 69.01%\n"
          ]
        },
        {
          "name": "stderr",
          "output_type": "stream",
          "text": [
            "100%|██████████| 229/229 [00:38<00:00,  5.87it/s]\n"
          ]
        },
        {
          "name": "stdout",
          "output_type": "stream",
          "text": [
            "Epoch [64/150], Train Loss: 0.7741, Train Accuracy: 71.05%\n",
            "Validation Loss: 0.8867, Validation Accuracy: 69.19%\n"
          ]
        },
        {
          "name": "stderr",
          "output_type": "stream",
          "text": [
            "100%|██████████| 229/229 [00:39<00:00,  5.75it/s]\n"
          ]
        },
        {
          "name": "stdout",
          "output_type": "stream",
          "text": [
            "Epoch [65/150], Train Loss: 0.7752, Train Accuracy: 71.06%\n",
            "Validation Loss: 0.8970, Validation Accuracy: 68.67%\n"
          ]
        },
        {
          "name": "stderr",
          "output_type": "stream",
          "text": [
            "100%|██████████| 229/229 [00:41<00:00,  5.52it/s]\n"
          ]
        },
        {
          "name": "stdout",
          "output_type": "stream",
          "text": [
            "Epoch [66/150], Train Loss: 0.7689, Train Accuracy: 71.34%\n",
            "Validation Loss: 0.8896, Validation Accuracy: 69.16%\n"
          ]
        },
        {
          "name": "stderr",
          "output_type": "stream",
          "text": [
            "100%|██████████| 229/229 [00:44<00:00,  5.17it/s]\n"
          ]
        },
        {
          "name": "stdout",
          "output_type": "stream",
          "text": [
            "Epoch [67/150], Train Loss: 0.7611, Train Accuracy: 71.39%\n",
            "Validation Loss: 0.9051, Validation Accuracy: 68.34%\n"
          ]
        },
        {
          "name": "stderr",
          "output_type": "stream",
          "text": [
            "100%|██████████| 229/229 [00:43<00:00,  5.22it/s]\n"
          ]
        },
        {
          "name": "stdout",
          "output_type": "stream",
          "text": [
            "Epoch [68/150], Train Loss: 0.7648, Train Accuracy: 71.72%\n",
            "Validation Loss: 0.8883, Validation Accuracy: 69.36%\n"
          ]
        },
        {
          "name": "stderr",
          "output_type": "stream",
          "text": [
            "100%|██████████| 229/229 [00:43<00:00,  5.24it/s]\n"
          ]
        },
        {
          "name": "stdout",
          "output_type": "stream",
          "text": [
            "Epoch [69/150], Train Loss: 0.7578, Train Accuracy: 71.79%\n",
            "Validation Loss: 0.8991, Validation Accuracy: 68.58%\n"
          ]
        },
        {
          "name": "stderr",
          "output_type": "stream",
          "text": [
            "100%|██████████| 229/229 [00:44<00:00,  5.18it/s]\n"
          ]
        },
        {
          "name": "stdout",
          "output_type": "stream",
          "text": [
            "Epoch [70/150], Train Loss: 0.7461, Train Accuracy: 72.20%\n",
            "Validation Loss: 0.8869, Validation Accuracy: 69.12%\n"
          ]
        },
        {
          "name": "stderr",
          "output_type": "stream",
          "text": [
            "100%|██████████| 229/229 [00:44<00:00,  5.11it/s]\n"
          ]
        },
        {
          "name": "stdout",
          "output_type": "stream",
          "text": [
            "Epoch [71/150], Train Loss: 0.7499, Train Accuracy: 71.95%\n",
            "Validation Loss: 0.8799, Validation Accuracy: 69.40%\n"
          ]
        },
        {
          "name": "stderr",
          "output_type": "stream",
          "text": [
            "100%|██████████| 229/229 [00:45<00:00,  5.09it/s]\n"
          ]
        },
        {
          "name": "stdout",
          "output_type": "stream",
          "text": [
            "Epoch [72/150], Train Loss: 0.7458, Train Accuracy: 71.95%\n",
            "Validation Loss: 0.9038, Validation Accuracy: 68.30%\n"
          ]
        },
        {
          "name": "stderr",
          "output_type": "stream",
          "text": [
            "100%|██████████| 229/229 [00:44<00:00,  5.12it/s]\n"
          ]
        },
        {
          "name": "stdout",
          "output_type": "stream",
          "text": [
            "Epoch [73/150], Train Loss: 0.7367, Train Accuracy: 72.47%\n",
            "Validation Loss: 0.8922, Validation Accuracy: 69.19%\n"
          ]
        },
        {
          "name": "stderr",
          "output_type": "stream",
          "text": [
            "100%|██████████| 229/229 [00:45<00:00,  5.07it/s]\n"
          ]
        },
        {
          "name": "stdout",
          "output_type": "stream",
          "text": [
            "Epoch [74/150], Train Loss: 0.7329, Train Accuracy: 72.91%\n",
            "Validation Loss: 0.8885, Validation Accuracy: 69.20%\n"
          ]
        },
        {
          "name": "stderr",
          "output_type": "stream",
          "text": [
            "100%|██████████| 229/229 [00:45<00:00,  5.03it/s]\n"
          ]
        },
        {
          "name": "stdout",
          "output_type": "stream",
          "text": [
            "Epoch [75/150], Train Loss: 0.7356, Train Accuracy: 72.50%\n",
            "Validation Loss: 0.8958, Validation Accuracy: 68.96%\n"
          ]
        },
        {
          "name": "stderr",
          "output_type": "stream",
          "text": [
            "100%|██████████| 229/229 [00:45<00:00,  5.03it/s]\n"
          ]
        },
        {
          "name": "stdout",
          "output_type": "stream",
          "text": [
            "Epoch [76/150], Train Loss: 0.7324, Train Accuracy: 72.71%\n",
            "Validation Loss: 0.8995, Validation Accuracy: 69.33%\n"
          ]
        },
        {
          "name": "stderr",
          "output_type": "stream",
          "text": [
            "100%|██████████| 229/229 [00:44<00:00,  5.10it/s]\n"
          ]
        },
        {
          "name": "stdout",
          "output_type": "stream",
          "text": [
            "Epoch [77/150], Train Loss: 0.7168, Train Accuracy: 73.27%\n",
            "Validation Loss: 0.8917, Validation Accuracy: 69.69%\n"
          ]
        },
        {
          "name": "stderr",
          "output_type": "stream",
          "text": [
            "100%|██████████| 229/229 [00:45<00:00,  5.07it/s]\n"
          ]
        },
        {
          "name": "stdout",
          "output_type": "stream",
          "text": [
            "Epoch [78/150], Train Loss: 0.7181, Train Accuracy: 73.08%\n",
            "Validation Loss: 0.8930, Validation Accuracy: 69.40%\n"
          ]
        },
        {
          "name": "stderr",
          "output_type": "stream",
          "text": [
            "100%|██████████| 229/229 [00:45<00:00,  5.06it/s]\n"
          ]
        },
        {
          "name": "stdout",
          "output_type": "stream",
          "text": [
            "Epoch [79/150], Train Loss: 0.7117, Train Accuracy: 73.05%\n",
            "Validation Loss: 0.8846, Validation Accuracy: 69.56%\n"
          ]
        },
        {
          "name": "stderr",
          "output_type": "stream",
          "text": [
            "100%|██████████| 229/229 [00:44<00:00,  5.10it/s]\n"
          ]
        },
        {
          "name": "stdout",
          "output_type": "stream",
          "text": [
            "Epoch [80/150], Train Loss: 0.7147, Train Accuracy: 73.58%\n",
            "Validation Loss: 0.8876, Validation Accuracy: 69.50%\n"
          ]
        },
        {
          "name": "stderr",
          "output_type": "stream",
          "text": [
            "100%|██████████| 229/229 [00:45<00:00,  5.07it/s]\n"
          ]
        },
        {
          "name": "stdout",
          "output_type": "stream",
          "text": [
            "Epoch [81/150], Train Loss: 0.7104, Train Accuracy: 73.73%\n",
            "Validation Loss: 0.8830, Validation Accuracy: 69.78%\n"
          ]
        },
        {
          "name": "stderr",
          "output_type": "stream",
          "text": [
            "100%|██████████| 229/229 [00:45<00:00,  5.08it/s]\n"
          ]
        },
        {
          "name": "stdout",
          "output_type": "stream",
          "text": [
            "Epoch [82/150], Train Loss: 0.7095, Train Accuracy: 73.64%\n",
            "Validation Loss: 0.8915, Validation Accuracy: 69.91%\n",
            "✅ New best model saved with val acc: 69.91%\n"
          ]
        },
        {
          "name": "stderr",
          "output_type": "stream",
          "text": [
            "100%|██████████| 229/229 [00:43<00:00,  5.25it/s]\n"
          ]
        },
        {
          "name": "stdout",
          "output_type": "stream",
          "text": [
            "Epoch [83/150], Train Loss: 0.6989, Train Accuracy: 73.80%\n",
            "Validation Loss: 0.8939, Validation Accuracy: 70.05%\n",
            "✅ New best model saved with val acc: 70.05%\n"
          ]
        },
        {
          "name": "stderr",
          "output_type": "stream",
          "text": [
            "100%|██████████| 229/229 [00:43<00:00,  5.28it/s]\n"
          ]
        },
        {
          "name": "stdout",
          "output_type": "stream",
          "text": [
            "Epoch [84/150], Train Loss: 0.6908, Train Accuracy: 74.08%\n",
            "Validation Loss: 0.8874, Validation Accuracy: 70.21%\n",
            "✅ New best model saved with val acc: 70.21%\n"
          ]
        },
        {
          "name": "stderr",
          "output_type": "stream",
          "text": [
            "100%|██████████| 229/229 [00:43<00:00,  5.27it/s]\n"
          ]
        },
        {
          "name": "stdout",
          "output_type": "stream",
          "text": [
            "Epoch [85/150], Train Loss: 0.6958, Train Accuracy: 74.32%\n",
            "Validation Loss: 0.8894, Validation Accuracy: 69.80%\n"
          ]
        },
        {
          "name": "stderr",
          "output_type": "stream",
          "text": [
            "100%|██████████| 229/229 [00:43<00:00,  5.28it/s]\n"
          ]
        },
        {
          "name": "stdout",
          "output_type": "stream",
          "text": [
            "Epoch [86/150], Train Loss: 0.6957, Train Accuracy: 73.67%\n",
            "Validation Loss: 0.8767, Validation Accuracy: 70.14%\n"
          ]
        },
        {
          "name": "stderr",
          "output_type": "stream",
          "text": [
            "100%|██████████| 229/229 [00:43<00:00,  5.22it/s]\n"
          ]
        },
        {
          "name": "stdout",
          "output_type": "stream",
          "text": [
            "Epoch [87/150], Train Loss: 0.6836, Train Accuracy: 74.39%\n",
            "Validation Loss: 0.8888, Validation Accuracy: 70.10%\n"
          ]
        },
        {
          "name": "stderr",
          "output_type": "stream",
          "text": [
            "100%|██████████| 229/229 [00:43<00:00,  5.30it/s]\n"
          ]
        },
        {
          "name": "stdout",
          "output_type": "stream",
          "text": [
            "Epoch [88/150], Train Loss: 0.6851, Train Accuracy: 74.44%\n",
            "Validation Loss: 0.9049, Validation Accuracy: 69.52%\n"
          ]
        },
        {
          "name": "stderr",
          "output_type": "stream",
          "text": [
            "100%|██████████| 229/229 [00:43<00:00,  5.25it/s]\n"
          ]
        },
        {
          "name": "stdout",
          "output_type": "stream",
          "text": [
            "Epoch [89/150], Train Loss: 0.6804, Train Accuracy: 74.91%\n",
            "Validation Loss: 0.8917, Validation Accuracy: 69.87%\n"
          ]
        },
        {
          "name": "stderr",
          "output_type": "stream",
          "text": [
            "100%|██████████| 229/229 [00:43<00:00,  5.30it/s]\n"
          ]
        },
        {
          "name": "stdout",
          "output_type": "stream",
          "text": [
            "Epoch [90/150], Train Loss: 0.6797, Train Accuracy: 74.72%\n",
            "Validation Loss: 0.9073, Validation Accuracy: 69.97%\n"
          ]
        },
        {
          "name": "stderr",
          "output_type": "stream",
          "text": [
            "100%|██████████| 229/229 [00:43<00:00,  5.23it/s]\n"
          ]
        },
        {
          "name": "stdout",
          "output_type": "stream",
          "text": [
            "Epoch [91/150], Train Loss: 0.6665, Train Accuracy: 75.48%\n",
            "Validation Loss: 0.9084, Validation Accuracy: 69.62%\n"
          ]
        },
        {
          "name": "stderr",
          "output_type": "stream",
          "text": [
            "100%|██████████| 229/229 [00:43<00:00,  5.25it/s]\n"
          ]
        },
        {
          "name": "stdout",
          "output_type": "stream",
          "text": [
            "Epoch [92/150], Train Loss: 0.6748, Train Accuracy: 74.87%\n",
            "Validation Loss: 0.9101, Validation Accuracy: 69.54%\n"
          ]
        },
        {
          "name": "stderr",
          "output_type": "stream",
          "text": [
            "100%|██████████| 229/229 [00:43<00:00,  5.29it/s]\n"
          ]
        },
        {
          "name": "stdout",
          "output_type": "stream",
          "text": [
            "Epoch [93/150], Train Loss: 0.6746, Train Accuracy: 75.21%\n",
            "Validation Loss: 0.8976, Validation Accuracy: 69.95%\n"
          ]
        },
        {
          "name": "stderr",
          "output_type": "stream",
          "text": [
            "100%|██████████| 229/229 [00:43<00:00,  5.27it/s]\n"
          ]
        },
        {
          "name": "stdout",
          "output_type": "stream",
          "text": [
            "Epoch [94/150], Train Loss: 0.6622, Train Accuracy: 75.34%\n",
            "Validation Loss: 0.8950, Validation Accuracy: 70.15%\n"
          ]
        },
        {
          "name": "stderr",
          "output_type": "stream",
          "text": [
            "100%|██████████| 229/229 [00:44<00:00,  5.15it/s]\n"
          ]
        },
        {
          "name": "stdout",
          "output_type": "stream",
          "text": [
            "Epoch [95/150], Train Loss: 0.6627, Train Accuracy: 75.58%\n",
            "Validation Loss: 0.9018, Validation Accuracy: 70.15%\n"
          ]
        },
        {
          "name": "stderr",
          "output_type": "stream",
          "text": [
            "100%|██████████| 229/229 [00:45<00:00,  5.06it/s]\n"
          ]
        },
        {
          "name": "stdout",
          "output_type": "stream",
          "text": [
            "Epoch [96/150], Train Loss: 0.6613, Train Accuracy: 75.36%\n",
            "Validation Loss: 0.9124, Validation Accuracy: 69.71%\n"
          ]
        },
        {
          "name": "stderr",
          "output_type": "stream",
          "text": [
            "100%|██████████| 229/229 [00:44<00:00,  5.10it/s]\n"
          ]
        },
        {
          "name": "stdout",
          "output_type": "stream",
          "text": [
            "Epoch [97/150], Train Loss: 0.6517, Train Accuracy: 75.86%\n",
            "Validation Loss: 0.9075, Validation Accuracy: 70.10%\n"
          ]
        },
        {
          "name": "stderr",
          "output_type": "stream",
          "text": [
            "100%|██████████| 229/229 [00:44<00:00,  5.09it/s]\n"
          ]
        },
        {
          "name": "stdout",
          "output_type": "stream",
          "text": [
            "Epoch [98/150], Train Loss: 0.6477, Train Accuracy: 75.90%\n",
            "Validation Loss: 0.9245, Validation Accuracy: 69.98%\n"
          ]
        },
        {
          "name": "stderr",
          "output_type": "stream",
          "text": [
            "100%|██████████| 229/229 [00:44<00:00,  5.12it/s]\n"
          ]
        },
        {
          "name": "stdout",
          "output_type": "stream",
          "text": [
            "Epoch [99/150], Train Loss: 0.6524, Train Accuracy: 75.57%\n",
            "Validation Loss: 0.9180, Validation Accuracy: 69.70%\n"
          ]
        },
        {
          "name": "stderr",
          "output_type": "stream",
          "text": [
            "100%|██████████| 229/229 [00:45<00:00,  5.09it/s]\n"
          ]
        },
        {
          "name": "stdout",
          "output_type": "stream",
          "text": [
            "Epoch [100/150], Train Loss: 0.6490, Train Accuracy: 75.89%\n",
            "Validation Loss: 0.9138, Validation Accuracy: 70.11%\n"
          ]
        },
        {
          "name": "stderr",
          "output_type": "stream",
          "text": [
            "100%|██████████| 229/229 [00:44<00:00,  5.13it/s]\n"
          ]
        },
        {
          "name": "stdout",
          "output_type": "stream",
          "text": [
            "Epoch [101/150], Train Loss: 0.6388, Train Accuracy: 76.17%\n",
            "Validation Loss: 0.9370, Validation Accuracy: 69.59%\n"
          ]
        },
        {
          "name": "stderr",
          "output_type": "stream",
          "text": [
            "100%|██████████| 229/229 [00:45<00:00,  5.08it/s]\n"
          ]
        },
        {
          "name": "stdout",
          "output_type": "stream",
          "text": [
            "Epoch [102/150], Train Loss: 0.6350, Train Accuracy: 76.73%\n",
            "Validation Loss: 0.9118, Validation Accuracy: 69.40%\n"
          ]
        },
        {
          "name": "stderr",
          "output_type": "stream",
          "text": [
            "100%|██████████| 229/229 [00:45<00:00,  5.07it/s]\n"
          ]
        },
        {
          "name": "stdout",
          "output_type": "stream",
          "text": [
            "Epoch [103/150], Train Loss: 0.6309, Train Accuracy: 76.52%\n",
            "Validation Loss: 0.9252, Validation Accuracy: 69.87%\n"
          ]
        },
        {
          "name": "stderr",
          "output_type": "stream",
          "text": [
            "100%|██████████| 229/229 [00:45<00:00,  5.02it/s]\n"
          ]
        },
        {
          "name": "stdout",
          "output_type": "stream",
          "text": [
            "Epoch [104/150], Train Loss: 0.6285, Train Accuracy: 76.49%\n",
            "Validation Loss: 0.9349, Validation Accuracy: 70.17%\n"
          ]
        },
        {
          "name": "stderr",
          "output_type": "stream",
          "text": [
            "100%|██████████| 229/229 [00:45<00:00,  5.04it/s]\n"
          ]
        },
        {
          "name": "stdout",
          "output_type": "stream",
          "text": [
            "Epoch [105/150], Train Loss: 0.6246, Train Accuracy: 76.77%\n",
            "Validation Loss: 0.9353, Validation Accuracy: 70.05%\n"
          ]
        },
        {
          "name": "stderr",
          "output_type": "stream",
          "text": [
            "100%|██████████| 229/229 [00:45<00:00,  5.04it/s]\n"
          ]
        },
        {
          "name": "stdout",
          "output_type": "stream",
          "text": [
            "Epoch [106/150], Train Loss: 0.6276, Train Accuracy: 76.43%\n",
            "Validation Loss: 0.9029, Validation Accuracy: 69.86%\n"
          ]
        },
        {
          "name": "stderr",
          "output_type": "stream",
          "text": [
            "100%|██████████| 229/229 [00:43<00:00,  5.21it/s]\n"
          ]
        },
        {
          "name": "stdout",
          "output_type": "stream",
          "text": [
            "Epoch [107/150], Train Loss: 0.6263, Train Accuracy: 76.51%\n",
            "Validation Loss: 0.9456, Validation Accuracy: 69.70%\n"
          ]
        },
        {
          "name": "stderr",
          "output_type": "stream",
          "text": [
            "100%|██████████| 229/229 [00:43<00:00,  5.22it/s]\n"
          ]
        },
        {
          "name": "stdout",
          "output_type": "stream",
          "text": [
            "Epoch [108/150], Train Loss: 0.6252, Train Accuracy: 76.61%\n",
            "Validation Loss: 0.9310, Validation Accuracy: 70.04%\n"
          ]
        },
        {
          "name": "stderr",
          "output_type": "stream",
          "text": [
            "100%|██████████| 229/229 [00:43<00:00,  5.22it/s]\n"
          ]
        },
        {
          "name": "stdout",
          "output_type": "stream",
          "text": [
            "Epoch [109/150], Train Loss: 0.6205, Train Accuracy: 76.78%\n",
            "Validation Loss: 0.9298, Validation Accuracy: 69.71%\n"
          ]
        },
        {
          "name": "stderr",
          "output_type": "stream",
          "text": [
            "100%|██████████| 229/229 [00:43<00:00,  5.29it/s]\n"
          ]
        },
        {
          "name": "stdout",
          "output_type": "stream",
          "text": [
            "Epoch [110/150], Train Loss: 0.6180, Train Accuracy: 76.93%\n",
            "Validation Loss: 0.9336, Validation Accuracy: 70.05%\n"
          ]
        },
        {
          "name": "stderr",
          "output_type": "stream",
          "text": [
            "100%|██████████| 229/229 [00:43<00:00,  5.27it/s]\n"
          ]
        },
        {
          "name": "stdout",
          "output_type": "stream",
          "text": [
            "Epoch [111/150], Train Loss: 0.6117, Train Accuracy: 77.19%\n",
            "Validation Loss: 0.9341, Validation Accuracy: 70.08%\n"
          ]
        },
        {
          "name": "stderr",
          "output_type": "stream",
          "text": [
            "100%|██████████| 229/229 [00:43<00:00,  5.22it/s]\n"
          ]
        },
        {
          "name": "stdout",
          "output_type": "stream",
          "text": [
            "Epoch [112/150], Train Loss: 0.6093, Train Accuracy: 77.70%\n",
            "Validation Loss: 0.9424, Validation Accuracy: 70.11%\n"
          ]
        },
        {
          "name": "stderr",
          "output_type": "stream",
          "text": [
            "100%|██████████| 229/229 [00:43<00:00,  5.23it/s]\n"
          ]
        },
        {
          "name": "stdout",
          "output_type": "stream",
          "text": [
            "Epoch [113/150], Train Loss: 0.6084, Train Accuracy: 77.38%\n",
            "Validation Loss: 0.9290, Validation Accuracy: 69.84%\n"
          ]
        },
        {
          "name": "stderr",
          "output_type": "stream",
          "text": [
            "100%|██████████| 229/229 [00:43<00:00,  5.28it/s]\n"
          ]
        },
        {
          "name": "stdout",
          "output_type": "stream",
          "text": [
            "Epoch [114/150], Train Loss: 0.6032, Train Accuracy: 77.46%\n",
            "Validation Loss: 0.9406, Validation Accuracy: 70.27%\n",
            "✅ New best model saved with val acc: 70.27%\n"
          ]
        },
        {
          "name": "stderr",
          "output_type": "stream",
          "text": [
            "100%|██████████| 229/229 [00:43<00:00,  5.27it/s]\n"
          ]
        },
        {
          "name": "stdout",
          "output_type": "stream",
          "text": [
            "Epoch [115/150], Train Loss: 0.5996, Train Accuracy: 77.67%\n",
            "Validation Loss: 0.9481, Validation Accuracy: 69.98%\n"
          ]
        },
        {
          "name": "stderr",
          "output_type": "stream",
          "text": [
            "100%|██████████| 229/229 [00:43<00:00,  5.23it/s]\n"
          ]
        },
        {
          "name": "stdout",
          "output_type": "stream",
          "text": [
            "Epoch [116/150], Train Loss: 0.5970, Train Accuracy: 77.72%\n",
            "Validation Loss: 0.9336, Validation Accuracy: 70.29%\n",
            "✅ New best model saved with val acc: 70.29%\n"
          ]
        },
        {
          "name": "stderr",
          "output_type": "stream",
          "text": [
            "100%|██████████| 229/229 [00:43<00:00,  5.28it/s]\n"
          ]
        },
        {
          "name": "stdout",
          "output_type": "stream",
          "text": [
            "Epoch [117/150], Train Loss: 0.6047, Train Accuracy: 77.51%\n",
            "Validation Loss: 0.9232, Validation Accuracy: 70.11%\n"
          ]
        },
        {
          "name": "stderr",
          "output_type": "stream",
          "text": [
            "100%|██████████| 229/229 [00:43<00:00,  5.25it/s]\n"
          ]
        },
        {
          "name": "stdout",
          "output_type": "stream",
          "text": [
            "Epoch [118/150], Train Loss: 0.5918, Train Accuracy: 77.90%\n",
            "Validation Loss: 0.9490, Validation Accuracy: 69.59%\n"
          ]
        },
        {
          "name": "stderr",
          "output_type": "stream",
          "text": [
            "100%|██████████| 229/229 [00:44<00:00,  5.20it/s]\n"
          ]
        },
        {
          "name": "stdout",
          "output_type": "stream",
          "text": [
            "Epoch [119/150], Train Loss: 0.5945, Train Accuracy: 77.81%\n",
            "Validation Loss: 0.9525, Validation Accuracy: 69.74%\n"
          ]
        },
        {
          "name": "stderr",
          "output_type": "stream",
          "text": [
            "100%|██████████| 229/229 [00:44<00:00,  5.13it/s]\n"
          ]
        },
        {
          "name": "stdout",
          "output_type": "stream",
          "text": [
            "Epoch [120/150], Train Loss: 0.5939, Train Accuracy: 78.07%\n",
            "Validation Loss: 0.9533, Validation Accuracy: 70.04%\n"
          ]
        },
        {
          "name": "stderr",
          "output_type": "stream",
          "text": [
            "100%|██████████| 229/229 [00:45<00:00,  5.05it/s]\n"
          ]
        },
        {
          "name": "stdout",
          "output_type": "stream",
          "text": [
            "Epoch [121/150], Train Loss: 0.5814, Train Accuracy: 78.30%\n",
            "Validation Loss: 0.9597, Validation Accuracy: 69.45%\n"
          ]
        },
        {
          "name": "stderr",
          "output_type": "stream",
          "text": [
            "100%|██████████| 229/229 [00:44<00:00,  5.10it/s]\n"
          ]
        },
        {
          "name": "stdout",
          "output_type": "stream",
          "text": [
            "Epoch [122/150], Train Loss: 0.5835, Train Accuracy: 78.29%\n",
            "Validation Loss: 0.9576, Validation Accuracy: 70.15%\n"
          ]
        },
        {
          "name": "stderr",
          "output_type": "stream",
          "text": [
            "100%|██████████| 229/229 [00:45<00:00,  5.05it/s]\n"
          ]
        },
        {
          "name": "stdout",
          "output_type": "stream",
          "text": [
            "Epoch [123/150], Train Loss: 0.5795, Train Accuracy: 78.70%\n",
            "Validation Loss: 0.9559, Validation Accuracy: 70.08%\n"
          ]
        },
        {
          "name": "stderr",
          "output_type": "stream",
          "text": [
            "100%|██████████| 229/229 [00:45<00:00,  5.06it/s]\n"
          ]
        },
        {
          "name": "stdout",
          "output_type": "stream",
          "text": [
            "Epoch [124/150], Train Loss: 0.5799, Train Accuracy: 78.39%\n",
            "Validation Loss: 0.9567, Validation Accuracy: 69.84%\n"
          ]
        },
        {
          "name": "stderr",
          "output_type": "stream",
          "text": [
            "100%|██████████| 229/229 [00:45<00:00,  5.01it/s]\n"
          ]
        },
        {
          "name": "stdout",
          "output_type": "stream",
          "text": [
            "Epoch [125/150], Train Loss: 0.5768, Train Accuracy: 78.30%\n",
            "Validation Loss: 0.9556, Validation Accuracy: 70.05%\n"
          ]
        },
        {
          "name": "stderr",
          "output_type": "stream",
          "text": [
            "100%|██████████| 229/229 [00:45<00:00,  5.08it/s]\n"
          ]
        },
        {
          "name": "stdout",
          "output_type": "stream",
          "text": [
            "Epoch [126/150], Train Loss: 0.5706, Train Accuracy: 78.75%\n",
            "Validation Loss: 0.9691, Validation Accuracy: 70.32%\n",
            "✅ New best model saved with val acc: 70.32%\n"
          ]
        },
        {
          "name": "stderr",
          "output_type": "stream",
          "text": [
            "100%|██████████| 229/229 [00:45<00:00,  5.08it/s]\n"
          ]
        },
        {
          "name": "stdout",
          "output_type": "stream",
          "text": [
            "Epoch [127/150], Train Loss: 0.5765, Train Accuracy: 78.60%\n",
            "Validation Loss: 0.9456, Validation Accuracy: 70.22%\n"
          ]
        },
        {
          "name": "stderr",
          "output_type": "stream",
          "text": [
            "100%|██████████| 229/229 [00:44<00:00,  5.13it/s]\n"
          ]
        },
        {
          "name": "stdout",
          "output_type": "stream",
          "text": [
            "Epoch [128/150], Train Loss: 0.5624, Train Accuracy: 79.08%\n",
            "Validation Loss: 0.9888, Validation Accuracy: 70.14%\n"
          ]
        },
        {
          "name": "stderr",
          "output_type": "stream",
          "text": [
            "100%|██████████| 229/229 [00:45<00:00,  5.08it/s]\n"
          ]
        },
        {
          "name": "stdout",
          "output_type": "stream",
          "text": [
            "Epoch [129/150], Train Loss: 0.5678, Train Accuracy: 78.93%\n",
            "Validation Loss: 0.9700, Validation Accuracy: 70.03%\n"
          ]
        },
        {
          "name": "stderr",
          "output_type": "stream",
          "text": [
            "100%|██████████| 229/229 [00:45<00:00,  5.07it/s]\n"
          ]
        },
        {
          "name": "stdout",
          "output_type": "stream",
          "text": [
            "Epoch [130/150], Train Loss: 0.5635, Train Accuracy: 78.94%\n",
            "Validation Loss: 0.9672, Validation Accuracy: 70.75%\n",
            "✅ New best model saved with val acc: 70.75%\n"
          ]
        },
        {
          "name": "stderr",
          "output_type": "stream",
          "text": [
            "100%|██████████| 229/229 [00:44<00:00,  5.12it/s]\n"
          ]
        },
        {
          "name": "stdout",
          "output_type": "stream",
          "text": [
            "Epoch [131/150], Train Loss: 0.5619, Train Accuracy: 79.10%\n",
            "Validation Loss: 0.9581, Validation Accuracy: 70.18%\n"
          ]
        },
        {
          "name": "stderr",
          "output_type": "stream",
          "text": [
            "100%|██████████| 229/229 [00:43<00:00,  5.26it/s]\n"
          ]
        },
        {
          "name": "stdout",
          "output_type": "stream",
          "text": [
            "Epoch [132/150], Train Loss: 0.5537, Train Accuracy: 79.62%\n",
            "Validation Loss: 0.9779, Validation Accuracy: 70.12%\n"
          ]
        },
        {
          "name": "stderr",
          "output_type": "stream",
          "text": [
            "100%|██████████| 229/229 [00:43<00:00,  5.30it/s]\n"
          ]
        },
        {
          "name": "stdout",
          "output_type": "stream",
          "text": [
            "Epoch [133/150], Train Loss: 0.5531, Train Accuracy: 79.70%\n",
            "Validation Loss: 0.9689, Validation Accuracy: 69.97%\n"
          ]
        },
        {
          "name": "stderr",
          "output_type": "stream",
          "text": [
            "100%|██████████| 229/229 [00:37<00:00,  6.09it/s]\n"
          ]
        },
        {
          "name": "stdout",
          "output_type": "stream",
          "text": [
            "Epoch [134/150], Train Loss: 0.5536, Train Accuracy: 79.69%\n",
            "Validation Loss: 0.9567, Validation Accuracy: 70.73%\n"
          ]
        },
        {
          "name": "stderr",
          "output_type": "stream",
          "text": [
            "100%|██████████| 229/229 [00:35<00:00,  6.42it/s]\n"
          ]
        },
        {
          "name": "stdout",
          "output_type": "stream",
          "text": [
            "Epoch [135/150], Train Loss: 0.5542, Train Accuracy: 79.60%\n",
            "Validation Loss: 0.9410, Validation Accuracy: 70.55%\n"
          ]
        },
        {
          "name": "stderr",
          "output_type": "stream",
          "text": [
            "100%|██████████| 229/229 [00:35<00:00,  6.51it/s]\n"
          ]
        },
        {
          "name": "stdout",
          "output_type": "stream",
          "text": [
            "Epoch [136/150], Train Loss: 0.5531, Train Accuracy: 79.60%\n",
            "Validation Loss: 0.9630, Validation Accuracy: 70.65%\n"
          ]
        },
        {
          "name": "stderr",
          "output_type": "stream",
          "text": [
            "100%|██████████| 229/229 [00:34<00:00,  6.55it/s]\n"
          ]
        },
        {
          "name": "stdout",
          "output_type": "stream",
          "text": [
            "Epoch [137/150], Train Loss: 0.5354, Train Accuracy: 80.05%\n",
            "Validation Loss: 0.9701, Validation Accuracy: 69.84%\n"
          ]
        },
        {
          "name": "stderr",
          "output_type": "stream",
          "text": [
            "100%|██████████| 229/229 [00:34<00:00,  6.66it/s]\n"
          ]
        },
        {
          "name": "stdout",
          "output_type": "stream",
          "text": [
            "Epoch [138/150], Train Loss: 0.5459, Train Accuracy: 79.80%\n",
            "Validation Loss: 0.9687, Validation Accuracy: 69.95%\n"
          ]
        },
        {
          "name": "stderr",
          "output_type": "stream",
          "text": [
            "100%|██████████| 229/229 [00:34<00:00,  6.65it/s]\n"
          ]
        },
        {
          "name": "stdout",
          "output_type": "stream",
          "text": [
            "Epoch [139/150], Train Loss: 0.5475, Train Accuracy: 79.80%\n",
            "Validation Loss: 0.9840, Validation Accuracy: 70.17%\n"
          ]
        },
        {
          "name": "stderr",
          "output_type": "stream",
          "text": [
            "100%|██████████| 229/229 [00:34<00:00,  6.69it/s]\n"
          ]
        },
        {
          "name": "stdout",
          "output_type": "stream",
          "text": [
            "Epoch [140/150], Train Loss: 0.5488, Train Accuracy: 79.57%\n",
            "Validation Loss: 0.9712, Validation Accuracy: 69.88%\n"
          ]
        },
        {
          "name": "stderr",
          "output_type": "stream",
          "text": [
            "100%|██████████| 229/229 [00:34<00:00,  6.68it/s]\n"
          ]
        },
        {
          "name": "stdout",
          "output_type": "stream",
          "text": [
            "Epoch [141/150], Train Loss: 0.5417, Train Accuracy: 80.01%\n",
            "Validation Loss: 0.9655, Validation Accuracy: 70.01%\n"
          ]
        },
        {
          "name": "stderr",
          "output_type": "stream",
          "text": [
            "100%|██████████| 229/229 [00:34<00:00,  6.72it/s]\n"
          ]
        },
        {
          "name": "stdout",
          "output_type": "stream",
          "text": [
            "Epoch [142/150], Train Loss: 0.5397, Train Accuracy: 80.02%\n",
            "Validation Loss: 0.9828, Validation Accuracy: 70.39%\n"
          ]
        },
        {
          "name": "stderr",
          "output_type": "stream",
          "text": [
            "100%|██████████| 229/229 [00:33<00:00,  6.76it/s]\n"
          ]
        },
        {
          "name": "stdout",
          "output_type": "stream",
          "text": [
            "Epoch [143/150], Train Loss: 0.5345, Train Accuracy: 79.89%\n",
            "Validation Loss: 0.9640, Validation Accuracy: 69.90%\n"
          ]
        },
        {
          "name": "stderr",
          "output_type": "stream",
          "text": [
            "100%|██████████| 229/229 [00:34<00:00,  6.73it/s]\n"
          ]
        },
        {
          "name": "stdout",
          "output_type": "stream",
          "text": [
            "Epoch [144/150], Train Loss: 0.5277, Train Accuracy: 80.47%\n",
            "Validation Loss: 0.9791, Validation Accuracy: 69.86%\n"
          ]
        },
        {
          "name": "stderr",
          "output_type": "stream",
          "text": [
            "100%|██████████| 229/229 [00:33<00:00,  6.75it/s]\n"
          ]
        },
        {
          "name": "stdout",
          "output_type": "stream",
          "text": [
            "Epoch [145/150], Train Loss: 0.5388, Train Accuracy: 80.03%\n",
            "Validation Loss: 0.9776, Validation Accuracy: 70.72%\n"
          ]
        },
        {
          "name": "stderr",
          "output_type": "stream",
          "text": [
            "100%|██████████| 229/229 [00:34<00:00,  6.59it/s]\n"
          ]
        },
        {
          "name": "stdout",
          "output_type": "stream",
          "text": [
            "Epoch [146/150], Train Loss: 0.5245, Train Accuracy: 80.52%\n",
            "Validation Loss: 0.9987, Validation Accuracy: 69.67%\n"
          ]
        },
        {
          "name": "stderr",
          "output_type": "stream",
          "text": [
            "100%|██████████| 229/229 [00:35<00:00,  6.53it/s]\n"
          ]
        },
        {
          "name": "stdout",
          "output_type": "stream",
          "text": [
            "Epoch [147/150], Train Loss: 0.5341, Train Accuracy: 80.37%\n",
            "Validation Loss: 0.9841, Validation Accuracy: 70.08%\n"
          ]
        },
        {
          "name": "stderr",
          "output_type": "stream",
          "text": [
            "100%|██████████| 229/229 [00:35<00:00,  6.39it/s]\n"
          ]
        },
        {
          "name": "stdout",
          "output_type": "stream",
          "text": [
            "Epoch [148/150], Train Loss: 0.5277, Train Accuracy: 80.69%\n",
            "Validation Loss: 0.9948, Validation Accuracy: 70.03%\n"
          ]
        },
        {
          "name": "stderr",
          "output_type": "stream",
          "text": [
            "100%|██████████| 229/229 [00:35<00:00,  6.38it/s]\n"
          ]
        },
        {
          "name": "stdout",
          "output_type": "stream",
          "text": [
            "Epoch [149/150], Train Loss: 0.5183, Train Accuracy: 80.80%\n",
            "Validation Loss: 0.9940, Validation Accuracy: 70.21%\n"
          ]
        },
        {
          "name": "stderr",
          "output_type": "stream",
          "text": [
            "100%|██████████| 229/229 [00:36<00:00,  6.31it/s]\n"
          ]
        },
        {
          "name": "stdout",
          "output_type": "stream",
          "text": [
            "Epoch [150/150], Train Loss: 0.5170, Train Accuracy: 80.96%\n",
            "Validation Loss: 1.0015, Validation Accuracy: 69.91%\n"
          ]
        }
      ],
      "source": [
        "# Training Model\n",
        "\n",
        "def train_model(model, train_loader, test_loader, criterion, optimizer, num_epochs=150, save_path='best_model.pth'):\n",
        "    best_val_acc = 0.0  # Track the best validation accuracy\n",
        "\n",
        "    for epoch in range(num_epochs):\n",
        "        # Training phase\n",
        "        model.train()\n",
        "        train_loss, train_correct, train_total = 0.0, 0, 0\n",
        "        \n",
        "        for images, labels in tqdm(train_loader):\n",
        "            images, labels = images.to(device), labels.to(device).long()\n",
        "            optimizer.zero_grad()\n",
        "            outputs = model(images)\n",
        "            loss = criterion(outputs, labels)\n",
        "            loss.backward()\n",
        "            optimizer.step()\n",
        "            \n",
        "            train_loss += loss.item()\n",
        "            _, predicted = torch.max(outputs.data, 1)\n",
        "            train_total += labels.size(0)\n",
        "            train_correct += (predicted == labels).sum().item()\n",
        "        \n",
        "        train_acc = 100 * train_correct / train_total\n",
        "        print(f\"Epoch [{epoch+1}/{num_epochs}], Train Loss: {train_loss/len(train_loader):.4f}, Train Accuracy: {train_acc:.2f}%\")\n",
        "        \n",
        "        # Validation phase\n",
        "        model.eval()\n",
        "        val_loss, val_correct, val_total = 0.0, 0, 0\n",
        "        \n",
        "        with torch.no_grad():\n",
        "            for images, labels in test_loader:\n",
        "                images, labels = images.to(device), labels.to(device).long()\n",
        "                outputs = model(images)\n",
        "                loss = criterion(outputs, labels)\n",
        "                val_loss += loss.item()\n",
        "                _, predicted = torch.max(outputs.data, 1)\n",
        "                val_total += labels.size(0)\n",
        "                val_correct += (predicted == labels).sum().item()\n",
        "        \n",
        "        val_acc = 100 * val_correct / val_total\n",
        "        val_loss_avg = val_loss / len(test_loader)\n",
        "        print(f\"Validation Loss: {val_loss_avg:.4f}, Validation Accuracy: {val_acc:.2f}%\")\n",
        "        \n",
        "        # Save model if it has the best validation accuracy so far\n",
        "        if val_acc > best_val_acc:\n",
        "            best_val_acc = val_acc\n",
        "            torch.save(model.state_dict(), save_path)\n",
        "            print(f\"✅ New best model saved with val acc: {val_acc:.2f}%\")\n",
        "\n",
        "# Example usage\n",
        "train_model(\n",
        "    model=model,\n",
        "    train_loader=train_loader,\n",
        "    test_loader=test_loader,\n",
        "    criterion=criterion,\n",
        "    optimizer=optimizer,\n",
        "    num_epochs=150,\n",
        "    save_path='emotionDetector_ClassChange128_transformationChange.pth'\n",
        ")"
      ]
    },
    {
      "cell_type": "code",
      "execution_count": 76,
      "id": "6abKxg6j8-p3",
      "metadata": {
        "id": "6abKxg6j8-p3"
      },
      "outputs": [
        {
          "name": "stdout",
          "output_type": "stream",
          "text": [
            "Model saved successfully.\n"
          ]
        }
      ],
      "source": [
        "# Save model\n",
        "# torch.save(model.state_dict(), \"emotionDetector_67_150epoch.pth\")\n",
        "print(\"Model saved successfully.\")"
      ]
    },
    {
      "cell_type": "code",
      "execution_count": 77,
      "id": "APlN0DwF9KwL",
      "metadata": {
        "id": "APlN0DwF9KwL"
      },
      "outputs": [],
      "source": [
        "# For Collab\n",
        "# Download the JSON file\n",
        "# files.download(\"emotionDetector.json\")\n",
        "\n",
        "# Download the HDF5 file\n",
        "# files.download(\"emotionDetector.h5\")"
      ]
    }
  ],
  "metadata": {
    "accelerator": "TPU",
    "colab": {
      "gpuType": "V28",
      "provenance": []
    },
    "kernelspec": {
      "display_name": "tf_env",
      "language": "python",
      "name": "python3"
    },
    "language_info": {
      "codemirror_mode": {
        "name": "ipython",
        "version": 3
      },
      "file_extension": ".py",
      "mimetype": "text/x-python",
      "name": "python",
      "nbconvert_exporter": "python",
      "pygments_lexer": "ipython3",
      "version": "3.9.21"
    }
  },
  "nbformat": 4,
  "nbformat_minor": 5
}
