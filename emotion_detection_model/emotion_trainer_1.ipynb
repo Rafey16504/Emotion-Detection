{
  "cells": [
    {
      "cell_type": "markdown",
      "id": "666e8736",
      "metadata": {
        "id": "666e8736"
      },
      "source": [
        "# **EMOTION DETECTION**"
      ]
    },
    {
      "cell_type": "code",
      "execution_count": 1,
      "id": "fa970d2a",
      "metadata": {
        "id": "fa970d2a"
      },
      "outputs": [],
      "source": [
        "# Getting all dependencies\n",
        "\n",
        "import os\n",
        "import torch\n",
        "import torch.nn as nn\n",
        "import torch.nn.functional as F\n",
        "import torch.optim as optim\n",
        "from torch.utils.data import Dataset, DataLoader\n",
        "from torchvision import transforms\n",
        "from PIL import Image\n",
        "import pandas as pd\n",
        "import numpy as np\n",
        "from tqdm import tqdm\n",
        "from sklearn.preprocessing import LabelEncoder\n",
        "import pickle\n"
      ]
    },
    {
      "cell_type": "code",
      "execution_count": null,
      "id": "45vtVWh15Ve-",
      "metadata": {
        "id": "45vtVWh15Ve-"
      },
      "outputs": [
        {
          "name": "stdout",
          "output_type": "stream",
          "text": [
            "Using device: cuda\n"
          ]
        }
      ],
      "source": [
        "device = torch.device(\"cuda\" if torch.cuda.is_available() else \"cpu\")\n",
        "print(f\"Using device: {device}\")"
      ]
    },
    {
      "cell_type": "code",
      "execution_count": 4,
      "id": "a1a72c52",
      "metadata": {
        "id": "a1a72c52"
      },
      "outputs": [],
      "source": [
        "# Setting up the directories\n",
        "\n",
        "TRAINING_DIR = './images/train'\n",
        "TEST_DIR = './images/validation'"
      ]
    },
    {
      "cell_type": "code",
      "execution_count": 5,
      "id": "cc2387b7",
      "metadata": {
        "id": "cc2387b7"
      },
      "outputs": [],
      "source": [
        "# Making dataframes for the training and test data (with images and labels)\n",
        "\n",
        "def create_dataframe(directory):\n",
        "    image_paths = []\n",
        "    labels = []\n",
        "\n",
        "    for label in os.listdir(directory):\n",
        "        label_dir = os.path.join(directory, label)\n",
        "        if os.path.isdir(label_dir):\n",
        "            for image_name in os.listdir(label_dir):\n",
        "                image_path = os.path.join(label_dir, image_name)\n",
        "                image_paths.append(image_path)\n",
        "                labels.append(label)\n",
        "            print(f\"Completed {label_dir}\")\n",
        "    return image_paths, labels"
      ]
    },
    {
      "cell_type": "code",
      "execution_count": null,
      "id": "d8177bec",
      "metadata": {
        "colab": {
          "base_uri": "https://localhost:8080/"
        },
        "id": "d8177bec",
        "outputId": "1becedef-d30a-4d32-a771-5244639d797d"
      },
      "outputs": [
        {
          "name": "stdout",
          "output_type": "stream",
          "text": [
            "Completed ./images/train\\angry\n",
            "Completed ./images/train\\disgust\n",
            "Completed ./images/train\\fear\n",
            "Completed ./images/train\\happy\n",
            "Completed ./images/train\\neutral\n",
            "Completed ./images/train\\sad\n",
            "Completed ./images/train\\surprise\n",
            "Completed ./images/validation\\angry\n",
            "Completed ./images/validation\\disgust\n",
            "Completed ./images/validation\\fear\n",
            "Completed ./images/validation\\happy\n",
            "Completed ./images/validation\\neutral\n",
            "Completed ./images/validation\\sad\n",
            "Completed ./images/validation\\surprise\n",
            "Train and test dataframes created successfully.\n",
            "                             image_path     label\n",
            "0            ./images/train\\angry\\0.jpg     angry\n",
            "1            ./images/train\\angry\\1.jpg     angry\n",
            "2           ./images/train\\angry\\10.jpg     angry\n",
            "3        ./images/train\\angry\\10002.jpg     angry\n",
            "4        ./images/train\\angry\\10016.jpg     angry\n",
            "...                                 ...       ...\n",
            "28816  ./images/train\\surprise\\9969.jpg  surprise\n",
            "28817  ./images/train\\surprise\\9985.jpg  surprise\n",
            "28818  ./images/train\\surprise\\9990.jpg  surprise\n",
            "28819  ./images/train\\surprise\\9992.jpg  surprise\n",
            "28820  ./images/train\\surprise\\9996.jpg  surprise\n",
            "\n",
            "[28821 rows x 2 columns]\n",
            "                                 image_path     label\n",
            "0       ./images/validation\\angry\\10052.jpg     angry\n",
            "1       ./images/validation\\angry\\10065.jpg     angry\n",
            "2       ./images/validation\\angry\\10079.jpg     angry\n",
            "3       ./images/validation\\angry\\10095.jpg     angry\n",
            "4       ./images/validation\\angry\\10121.jpg     angry\n",
            "...                                     ...       ...\n",
            "7061  ./images/validation\\surprise\\9806.jpg  surprise\n",
            "7062  ./images/validation\\surprise\\9830.jpg  surprise\n",
            "7063  ./images/validation\\surprise\\9853.jpg  surprise\n",
            "7064  ./images/validation\\surprise\\9878.jpg  surprise\n",
            "7065   ./images/validation\\surprise\\993.jpg  surprise\n",
            "\n",
            "[7066 rows x 2 columns]\n"
          ]
        }
      ],
      "source": [
        "# Making Train and Test dataframes\n",
        "\n",
        "train_df = pd.DataFrame()\n",
        "train_df['image_path'], train_df['label'] = create_dataframe(TRAINING_DIR)\n",
        "\n",
        "test_df = pd.DataFrame()\n",
        "test_df['image_path'], test_df['label'] = create_dataframe(TEST_DIR)\n",
        "print(\"Train and test dataframes created successfully.\")\n",
        "\n",
        "print(train_df)\n",
        "print(test_df)"
      ]
    },
    {
      "cell_type": "code",
      "execution_count": 22,
      "id": "f1155e68",
      "metadata": {
        "colab": {
          "base_uri": "https://localhost:8080/"
        },
        "id": "f1155e68",
        "outputId": "32e91557-1720-4a84-f9dc-9d97169ee9ca"
      },
      "outputs": [],
      "source": [
        "# Label Encoding\n",
        "\n",
        "label_encoder = LabelEncoder()\n",
        "label_encoder.fit(train_df['label'])\n",
        "y_train = label_encoder.transform(train_df['label'])\n",
        "y_test = label_encoder.transform(test_df['label'])"
      ]
    },
    {
      "cell_type": "code",
      "execution_count": null,
      "id": "3182202d",
      "metadata": {
        "id": "3182202d"
      },
      "outputs": [],
      "source": [
        "# Image transforms\n",
        "\n",
        "transform = transforms.Compose([\n",
        "    transforms.Resize((48, 48)),\n",
        "    transforms.ToTensor(),\n",
        "])"
      ]
    },
    {
      "cell_type": "code",
      "execution_count": 32,
      "id": "9c7391e9",
      "metadata": {
        "colab": {
          "base_uri": "https://localhost:8080/",
          "height": 80
        },
        "id": "9c7391e9",
        "outputId": "7667316b-4f4b-4a5b-bd21-f0b2e60fe857"
      },
      "outputs": [],
      "source": [
        "# Custom Dataset class\n",
        "\n",
        "class EmotionDataset(Dataset):\n",
        "    def __init__(self, image_paths, labels, transform=None):\n",
        "        self.image_paths = image_paths\n",
        "        self.labels = labels\n",
        "        self.transform = transform\n",
        "\n",
        "    def __len__(self):\n",
        "        return len(self.image_paths)\n",
        "\n",
        "    def __getitem__(self, idx):\n",
        "        img = Image.open(self.image_paths[idx]).convert('L')\n",
        "        if self.transform:\n",
        "            img = self.transform(img)\n",
        "        label = self.labels[idx]\n",
        "        return img, label"
      ]
    },
    {
      "cell_type": "code",
      "execution_count": 33,
      "id": "20305965",
      "metadata": {
        "id": "20305965"
      },
      "outputs": [],
      "source": [
        "# Create datasets and dataloaders\n",
        "\n",
        "train_dataset = EmotionDataset(train_df['image_path'].tolist(), y_train, transform=transform)\n",
        "test_dataset = EmotionDataset(test_df['image_path'].tolist(), y_test, transform=transform)\n",
        "\n",
        "train_loader = DataLoader(train_dataset, batch_size=128, shuffle=True)\n",
        "test_loader = DataLoader(test_dataset, batch_size=128, shuffle=False)"
      ]
    },
    {
      "cell_type": "code",
      "execution_count": null,
      "id": "2ffdf88d",
      "metadata": {
        "id": "2ffdf88d"
      },
      "outputs": [],
      "source": [
        "# Convolutional Neural Network (CNN) model\n",
        "# The model is a sequential model with convolutional layers, max pooling layers, and dropout layers\n",
        "# The model is designed to classify images into 7 different classes (emotions)\n",
        "\n",
        "class EmotionCNN(nn.Module):\n",
        "    def __init__(self):\n",
        "        super(EmotionCNN, self).__init__()\n",
        "        self.conv_layers = nn.Sequential(\n",
        "            nn.Conv2d(1, 32, kernel_size=3, padding=1),\n",
        "            nn.BatchNorm2d(32),\n",
        "            nn.ReLU(),\n",
        "            nn.MaxPool2d(kernel_size=2),\n",
        "            nn.Dropout(0.3),\n",
        "\n",
        "            nn.Conv2d(32, 64, kernel_size=3, padding=1),\n",
        "            nn.BatchNorm2d(64),\n",
        "            nn.ReLU(),\n",
        "            nn.MaxPool2d(kernel_size=2),\n",
        "            nn.Dropout(0.3),\n",
        "\n",
        "            nn.Conv2d(64, 128, kernel_size=3, padding=1),\n",
        "            nn.BatchNorm2d(128),\n",
        "            nn.ReLU(),\n",
        "            nn.MaxPool2d(kernel_size=2),\n",
        "            nn.Dropout(0.3),\n",
        "\n",
        "            nn.Conv2d(128, 256, kernel_size=3, padding=1),\n",
        "            nn.BatchNorm2d(256),\n",
        "            nn.ReLU(),\n",
        "            nn.MaxPool2d(kernel_size=2),\n",
        "            nn.Dropout(0.3)\n",
        "        )\n",
        "        self.fc_layers = nn.Sequential(\n",
        "            nn.Flatten(),\n",
        "            nn.Linear(256 * 3 * 3, 256),\n",
        "            nn.BatchNorm1d(256),\n",
        "            nn.ReLU(),\n",
        "            nn.Dropout(0.3),\n",
        "\n",
        "            nn.Linear(256, 128),\n",
        "            nn.BatchNorm1d(128),\n",
        "            nn.ReLU(),\n",
        "            nn.Dropout(0.3),\n",
        "\n",
        "            nn.Linear(128, 64),\n",
        "            nn.BatchNorm1d(64),\n",
        "            nn.ReLU(),\n",
        "            nn.Dropout(0.3),\n",
        "\n",
        "            nn.Linear(64, 7)\n",
        "        )\n",
        "\n",
        "    def forward(self, x):\n",
        "        x = self.conv_layers(x)\n",
        "        x = self.fc_layers(x)\n",
        "        return x"
      ]
    },
    {
      "cell_type": "code",
      "execution_count": 35,
      "id": "0360b37e",
      "metadata": {
        "colab": {
          "base_uri": "https://localhost:8080/"
        },
        "id": "0360b37e",
        "outputId": "c8b1d8ae-eb30-4dfb-ab1b-78757bee1809"
      },
      "outputs": [],
      "source": [
        "# Configuring the model\n",
        "\n",
        "model = EmotionCNN().to(device)\n",
        "criterion = nn.CrossEntropyLoss()\n",
        "optimizer = optim.Adam(model.parameters(), lr=0.001)"
      ]
    },
    {
      "cell_type": "code",
      "execution_count": null,
      "id": "8bcb01f7",
      "metadata": {},
      "outputs": [
        {
          "name": "stderr",
          "output_type": "stream",
          "text": [
            "100%|██████████| 226/226 [00:15<00:00, 14.88it/s]\n"
          ]
        },
        {
          "name": "stdout",
          "output_type": "stream",
          "text": [
            "Epoch [1/150], Loss: 1.6285, Accuracy: 36.02%\n",
            "Validation Accuracy: 40.50%\n"
          ]
        },
        {
          "name": "stderr",
          "output_type": "stream",
          "text": [
            "100%|██████████| 226/226 [00:15<00:00, 14.58it/s]\n"
          ]
        },
        {
          "name": "stdout",
          "output_type": "stream",
          "text": [
            "Epoch [2/150], Loss: 1.4783, Accuracy: 43.28%\n",
            "Validation Accuracy: 47.88%\n"
          ]
        },
        {
          "name": "stderr",
          "output_type": "stream",
          "text": [
            "100%|██████████| 226/226 [00:17<00:00, 12.98it/s]\n"
          ]
        },
        {
          "name": "stdout",
          "output_type": "stream",
          "text": [
            "Epoch [3/150], Loss: 1.3873, Accuracy: 47.15%\n",
            "Validation Accuracy: 49.02%\n"
          ]
        },
        {
          "name": "stderr",
          "output_type": "stream",
          "text": [
            "100%|██████████| 226/226 [00:13<00:00, 16.83it/s]\n"
          ]
        },
        {
          "name": "stdout",
          "output_type": "stream",
          "text": [
            "Epoch [4/150], Loss: 1.3389, Accuracy: 49.20%\n",
            "Validation Accuracy: 52.70%\n"
          ]
        },
        {
          "name": "stderr",
          "output_type": "stream",
          "text": [
            "100%|██████████| 226/226 [00:13<00:00, 16.77it/s]\n"
          ]
        },
        {
          "name": "stdout",
          "output_type": "stream",
          "text": [
            "Epoch [5/150], Loss: 1.3004, Accuracy: 50.41%\n",
            "Validation Accuracy: 55.63%\n"
          ]
        },
        {
          "name": "stderr",
          "output_type": "stream",
          "text": [
            "100%|██████████| 226/226 [00:13<00:00, 17.20it/s]\n"
          ]
        },
        {
          "name": "stdout",
          "output_type": "stream",
          "text": [
            "Epoch [6/150], Loss: 1.2616, Accuracy: 52.22%\n",
            "Validation Accuracy: 55.35%\n"
          ]
        },
        {
          "name": "stderr",
          "output_type": "stream",
          "text": [
            "100%|██████████| 226/226 [00:13<00:00, 17.10it/s]\n"
          ]
        },
        {
          "name": "stdout",
          "output_type": "stream",
          "text": [
            "Epoch [7/150], Loss: 1.2295, Accuracy: 53.53%\n",
            "Validation Accuracy: 56.03%\n"
          ]
        },
        {
          "name": "stderr",
          "output_type": "stream",
          "text": [
            "100%|██████████| 226/226 [00:13<00:00, 17.19it/s]\n"
          ]
        },
        {
          "name": "stdout",
          "output_type": "stream",
          "text": [
            "Epoch [8/150], Loss: 1.2043, Accuracy: 54.55%\n",
            "Validation Accuracy: 55.28%\n"
          ]
        },
        {
          "name": "stderr",
          "output_type": "stream",
          "text": [
            "100%|██████████| 226/226 [00:13<00:00, 16.96it/s]\n"
          ]
        },
        {
          "name": "stdout",
          "output_type": "stream",
          "text": [
            "Epoch [9/150], Loss: 1.1846, Accuracy: 55.47%\n",
            "Validation Accuracy: 59.03%\n"
          ]
        },
        {
          "name": "stderr",
          "output_type": "stream",
          "text": [
            "100%|██████████| 226/226 [00:12<00:00, 17.39it/s]\n"
          ]
        },
        {
          "name": "stdout",
          "output_type": "stream",
          "text": [
            "Epoch [10/150], Loss: 1.1662, Accuracy: 56.01%\n",
            "Validation Accuracy: 58.96%\n"
          ]
        },
        {
          "name": "stderr",
          "output_type": "stream",
          "text": [
            "100%|██████████| 226/226 [00:13<00:00, 17.04it/s]\n"
          ]
        },
        {
          "name": "stdout",
          "output_type": "stream",
          "text": [
            "Epoch [11/150], Loss: 1.1422, Accuracy: 57.26%\n",
            "Validation Accuracy: 58.69%\n"
          ]
        },
        {
          "name": "stderr",
          "output_type": "stream",
          "text": [
            "100%|██████████| 226/226 [00:13<00:00, 17.15it/s]\n"
          ]
        },
        {
          "name": "stdout",
          "output_type": "stream",
          "text": [
            "Epoch [12/150], Loss: 1.1235, Accuracy: 58.05%\n",
            "Validation Accuracy: 59.69%\n"
          ]
        },
        {
          "name": "stderr",
          "output_type": "stream",
          "text": [
            "100%|██████████| 226/226 [00:13<00:00, 17.33it/s]\n"
          ]
        },
        {
          "name": "stdout",
          "output_type": "stream",
          "text": [
            "Epoch [13/150], Loss: 1.1112, Accuracy: 58.84%\n",
            "Validation Accuracy: 59.54%\n"
          ]
        },
        {
          "name": "stderr",
          "output_type": "stream",
          "text": [
            "100%|██████████| 226/226 [00:13<00:00, 17.31it/s]\n"
          ]
        },
        {
          "name": "stdout",
          "output_type": "stream",
          "text": [
            "Epoch [14/150], Loss: 1.0925, Accuracy: 59.01%\n",
            "Validation Accuracy: 60.64%\n"
          ]
        },
        {
          "name": "stderr",
          "output_type": "stream",
          "text": [
            "100%|██████████| 226/226 [00:12<00:00, 17.53it/s]\n"
          ]
        },
        {
          "name": "stdout",
          "output_type": "stream",
          "text": [
            "Epoch [15/150], Loss: 1.0753, Accuracy: 59.81%\n",
            "Validation Accuracy: 60.02%\n"
          ]
        },
        {
          "name": "stderr",
          "output_type": "stream",
          "text": [
            "100%|██████████| 226/226 [00:12<00:00, 17.53it/s]\n"
          ]
        },
        {
          "name": "stdout",
          "output_type": "stream",
          "text": [
            "Epoch [16/150], Loss: 1.0557, Accuracy: 60.43%\n",
            "Validation Accuracy: 60.02%\n"
          ]
        },
        {
          "name": "stderr",
          "output_type": "stream",
          "text": [
            "100%|██████████| 226/226 [00:12<00:00, 17.48it/s]\n"
          ]
        },
        {
          "name": "stdout",
          "output_type": "stream",
          "text": [
            "Epoch [17/150], Loss: 1.0473, Accuracy: 61.12%\n",
            "Validation Accuracy: 62.17%\n"
          ]
        },
        {
          "name": "stderr",
          "output_type": "stream",
          "text": [
            "100%|██████████| 226/226 [00:13<00:00, 17.27it/s]\n"
          ]
        },
        {
          "name": "stdout",
          "output_type": "stream",
          "text": [
            "Epoch [18/150], Loss: 1.0401, Accuracy: 61.00%\n",
            "Validation Accuracy: 61.01%\n"
          ]
        },
        {
          "name": "stderr",
          "output_type": "stream",
          "text": [
            "100%|██████████| 226/226 [00:12<00:00, 17.55it/s]\n"
          ]
        },
        {
          "name": "stdout",
          "output_type": "stream",
          "text": [
            "Epoch [19/150], Loss: 1.0167, Accuracy: 62.42%\n",
            "Validation Accuracy: 62.07%\n"
          ]
        },
        {
          "name": "stderr",
          "output_type": "stream",
          "text": [
            "100%|██████████| 226/226 [00:13<00:00, 17.33it/s]\n"
          ]
        },
        {
          "name": "stdout",
          "output_type": "stream",
          "text": [
            "Epoch [20/150], Loss: 1.0040, Accuracy: 62.73%\n",
            "Validation Accuracy: 62.38%\n"
          ]
        },
        {
          "name": "stderr",
          "output_type": "stream",
          "text": [
            "100%|██████████| 226/226 [00:12<00:00, 17.74it/s]\n"
          ]
        },
        {
          "name": "stdout",
          "output_type": "stream",
          "text": [
            "Epoch [21/150], Loss: 0.9870, Accuracy: 63.18%\n",
            "Validation Accuracy: 62.84%\n"
          ]
        },
        {
          "name": "stderr",
          "output_type": "stream",
          "text": [
            "100%|██████████| 226/226 [00:13<00:00, 17.28it/s]\n"
          ]
        },
        {
          "name": "stdout",
          "output_type": "stream",
          "text": [
            "Epoch [22/150], Loss: 0.9821, Accuracy: 63.41%\n",
            "Validation Accuracy: 62.82%\n"
          ]
        },
        {
          "name": "stderr",
          "output_type": "stream",
          "text": [
            "100%|██████████| 226/226 [00:13<00:00, 17.35it/s]\n"
          ]
        },
        {
          "name": "stdout",
          "output_type": "stream",
          "text": [
            "Epoch [23/150], Loss: 0.9640, Accuracy: 64.20%\n",
            "Validation Accuracy: 62.81%\n"
          ]
        },
        {
          "name": "stderr",
          "output_type": "stream",
          "text": [
            "100%|██████████| 226/226 [00:13<00:00, 17.32it/s]\n"
          ]
        },
        {
          "name": "stdout",
          "output_type": "stream",
          "text": [
            "Epoch [24/150], Loss: 0.9558, Accuracy: 64.75%\n",
            "Validation Accuracy: 61.34%\n"
          ]
        },
        {
          "name": "stderr",
          "output_type": "stream",
          "text": [
            "100%|██████████| 226/226 [00:12<00:00, 17.51it/s]\n"
          ]
        },
        {
          "name": "stdout",
          "output_type": "stream",
          "text": [
            "Epoch [25/150], Loss: 0.9383, Accuracy: 65.14%\n",
            "Validation Accuracy: 63.37%\n"
          ]
        },
        {
          "name": "stderr",
          "output_type": "stream",
          "text": [
            "100%|██████████| 226/226 [00:12<00:00, 17.48it/s]\n"
          ]
        },
        {
          "name": "stdout",
          "output_type": "stream",
          "text": [
            "Epoch [26/150], Loss: 0.9302, Accuracy: 65.40%\n",
            "Validation Accuracy: 62.74%\n"
          ]
        },
        {
          "name": "stderr",
          "output_type": "stream",
          "text": [
            "100%|██████████| 226/226 [00:13<00:00, 17.34it/s]\n"
          ]
        },
        {
          "name": "stdout",
          "output_type": "stream",
          "text": [
            "Epoch [27/150], Loss: 0.9200, Accuracy: 66.22%\n",
            "Validation Accuracy: 62.20%\n"
          ]
        },
        {
          "name": "stderr",
          "output_type": "stream",
          "text": [
            "100%|██████████| 226/226 [00:12<00:00, 17.84it/s]\n"
          ]
        },
        {
          "name": "stdout",
          "output_type": "stream",
          "text": [
            "Epoch [28/150], Loss: 0.9056, Accuracy: 66.68%\n",
            "Validation Accuracy: 63.77%\n"
          ]
        },
        {
          "name": "stderr",
          "output_type": "stream",
          "text": [
            "100%|██████████| 226/226 [00:13<00:00, 17.36it/s]\n"
          ]
        },
        {
          "name": "stdout",
          "output_type": "stream",
          "text": [
            "Epoch [29/150], Loss: 0.9001, Accuracy: 66.94%\n",
            "Validation Accuracy: 64.39%\n"
          ]
        },
        {
          "name": "stderr",
          "output_type": "stream",
          "text": [
            "100%|██████████| 226/226 [00:13<00:00, 17.35it/s]\n"
          ]
        },
        {
          "name": "stdout",
          "output_type": "stream",
          "text": [
            "Epoch [30/150], Loss: 0.8852, Accuracy: 67.47%\n",
            "Validation Accuracy: 63.25%\n"
          ]
        },
        {
          "name": "stderr",
          "output_type": "stream",
          "text": [
            "100%|██████████| 226/226 [00:13<00:00, 17.21it/s]\n"
          ]
        },
        {
          "name": "stdout",
          "output_type": "stream",
          "text": [
            "Epoch [31/150], Loss: 0.8766, Accuracy: 67.85%\n",
            "Validation Accuracy: 63.05%\n"
          ]
        },
        {
          "name": "stderr",
          "output_type": "stream",
          "text": [
            "100%|██████████| 226/226 [00:12<00:00, 17.87it/s]\n"
          ]
        },
        {
          "name": "stdout",
          "output_type": "stream",
          "text": [
            "Epoch [32/150], Loss: 0.8660, Accuracy: 68.14%\n",
            "Validation Accuracy: 63.27%\n"
          ]
        },
        {
          "name": "stderr",
          "output_type": "stream",
          "text": [
            "100%|██████████| 226/226 [00:12<00:00, 17.59it/s]\n"
          ]
        },
        {
          "name": "stdout",
          "output_type": "stream",
          "text": [
            "Epoch [33/150], Loss: 0.8533, Accuracy: 68.61%\n",
            "Validation Accuracy: 63.59%\n"
          ]
        },
        {
          "name": "stderr",
          "output_type": "stream",
          "text": [
            "100%|██████████| 226/226 [00:12<00:00, 17.79it/s]\n"
          ]
        },
        {
          "name": "stdout",
          "output_type": "stream",
          "text": [
            "Epoch [34/150], Loss: 0.8523, Accuracy: 68.65%\n",
            "Validation Accuracy: 64.11%\n"
          ]
        },
        {
          "name": "stderr",
          "output_type": "stream",
          "text": [
            "100%|██████████| 226/226 [00:12<00:00, 17.80it/s]\n"
          ]
        },
        {
          "name": "stdout",
          "output_type": "stream",
          "text": [
            "Epoch [35/150], Loss: 0.8326, Accuracy: 69.26%\n",
            "Validation Accuracy: 64.62%\n"
          ]
        },
        {
          "name": "stderr",
          "output_type": "stream",
          "text": [
            "100%|██████████| 226/226 [00:14<00:00, 15.90it/s]\n"
          ]
        },
        {
          "name": "stdout",
          "output_type": "stream",
          "text": [
            "Epoch [36/150], Loss: 0.8273, Accuracy: 69.97%\n",
            "Validation Accuracy: 64.80%\n"
          ]
        },
        {
          "name": "stderr",
          "output_type": "stream",
          "text": [
            "100%|██████████| 226/226 [00:14<00:00, 15.25it/s]\n"
          ]
        },
        {
          "name": "stdout",
          "output_type": "stream",
          "text": [
            "Epoch [37/150], Loss: 0.8163, Accuracy: 70.24%\n",
            "Validation Accuracy: 63.83%\n"
          ]
        },
        {
          "name": "stderr",
          "output_type": "stream",
          "text": [
            "100%|██████████| 226/226 [00:14<00:00, 15.31it/s]\n"
          ]
        },
        {
          "name": "stdout",
          "output_type": "stream",
          "text": [
            "Epoch [38/150], Loss: 0.7982, Accuracy: 71.01%\n",
            "Validation Accuracy: 64.10%\n"
          ]
        },
        {
          "name": "stderr",
          "output_type": "stream",
          "text": [
            "100%|██████████| 226/226 [00:14<00:00, 15.15it/s]\n"
          ]
        },
        {
          "name": "stdout",
          "output_type": "stream",
          "text": [
            "Epoch [39/150], Loss: 0.7940, Accuracy: 70.92%\n",
            "Validation Accuracy: 64.11%\n"
          ]
        },
        {
          "name": "stderr",
          "output_type": "stream",
          "text": [
            "100%|██████████| 226/226 [00:15<00:00, 15.06it/s]\n"
          ]
        },
        {
          "name": "stdout",
          "output_type": "stream",
          "text": [
            "Epoch [40/150], Loss: 0.7849, Accuracy: 71.19%\n",
            "Validation Accuracy: 64.55%\n"
          ]
        },
        {
          "name": "stderr",
          "output_type": "stream",
          "text": [
            "100%|██████████| 226/226 [00:14<00:00, 15.28it/s]\n"
          ]
        },
        {
          "name": "stdout",
          "output_type": "stream",
          "text": [
            "Epoch [41/150], Loss: 0.7718, Accuracy: 71.67%\n",
            "Validation Accuracy: 64.92%\n"
          ]
        },
        {
          "name": "stderr",
          "output_type": "stream",
          "text": [
            "100%|██████████| 226/226 [00:14<00:00, 15.08it/s]\n"
          ]
        },
        {
          "name": "stdout",
          "output_type": "stream",
          "text": [
            "Epoch [42/150], Loss: 0.7670, Accuracy: 72.07%\n",
            "Validation Accuracy: 64.52%\n"
          ]
        },
        {
          "name": "stderr",
          "output_type": "stream",
          "text": [
            "100%|██████████| 226/226 [00:15<00:00, 14.90it/s]\n"
          ]
        },
        {
          "name": "stdout",
          "output_type": "stream",
          "text": [
            "Epoch [43/150], Loss: 0.7599, Accuracy: 72.27%\n",
            "Validation Accuracy: 64.72%\n"
          ]
        },
        {
          "name": "stderr",
          "output_type": "stream",
          "text": [
            "100%|██████████| 226/226 [00:15<00:00, 14.93it/s]\n"
          ]
        },
        {
          "name": "stdout",
          "output_type": "stream",
          "text": [
            "Epoch [44/150], Loss: 0.7542, Accuracy: 72.86%\n",
            "Validation Accuracy: 63.76%\n"
          ]
        },
        {
          "name": "stderr",
          "output_type": "stream",
          "text": [
            "100%|██████████| 226/226 [00:14<00:00, 15.19it/s]\n"
          ]
        },
        {
          "name": "stdout",
          "output_type": "stream",
          "text": [
            "Epoch [45/150], Loss: 0.7477, Accuracy: 72.88%\n",
            "Validation Accuracy: 64.94%\n"
          ]
        },
        {
          "name": "stderr",
          "output_type": "stream",
          "text": [
            "100%|██████████| 226/226 [00:15<00:00, 14.83it/s]\n"
          ]
        },
        {
          "name": "stdout",
          "output_type": "stream",
          "text": [
            "Epoch [46/150], Loss: 0.7385, Accuracy: 72.91%\n",
            "Validation Accuracy: 64.56%\n"
          ]
        },
        {
          "name": "stderr",
          "output_type": "stream",
          "text": [
            "100%|██████████| 226/226 [00:14<00:00, 15.12it/s]\n"
          ]
        },
        {
          "name": "stdout",
          "output_type": "stream",
          "text": [
            "Epoch [47/150], Loss: 0.7322, Accuracy: 73.02%\n",
            "Validation Accuracy: 64.75%\n"
          ]
        },
        {
          "name": "stderr",
          "output_type": "stream",
          "text": [
            "100%|██████████| 226/226 [00:15<00:00, 14.86it/s]\n"
          ]
        },
        {
          "name": "stdout",
          "output_type": "stream",
          "text": [
            "Epoch [48/150], Loss: 0.7246, Accuracy: 73.91%\n",
            "Validation Accuracy: 65.20%\n"
          ]
        },
        {
          "name": "stderr",
          "output_type": "stream",
          "text": [
            "100%|██████████| 226/226 [00:15<00:00, 14.92it/s]\n"
          ]
        },
        {
          "name": "stdout",
          "output_type": "stream",
          "text": [
            "Epoch [49/150], Loss: 0.7158, Accuracy: 74.08%\n",
            "Validation Accuracy: 65.09%\n"
          ]
        },
        {
          "name": "stderr",
          "output_type": "stream",
          "text": [
            "100%|██████████| 226/226 [00:15<00:00, 14.87it/s]\n"
          ]
        },
        {
          "name": "stdout",
          "output_type": "stream",
          "text": [
            "Epoch [50/150], Loss: 0.7086, Accuracy: 74.20%\n",
            "Validation Accuracy: 65.17%\n"
          ]
        },
        {
          "name": "stderr",
          "output_type": "stream",
          "text": [
            "100%|██████████| 226/226 [00:14<00:00, 15.09it/s]\n"
          ]
        },
        {
          "name": "stdout",
          "output_type": "stream",
          "text": [
            "Epoch [51/150], Loss: 0.7033, Accuracy: 74.52%\n",
            "Validation Accuracy: 65.34%\n"
          ]
        },
        {
          "name": "stderr",
          "output_type": "stream",
          "text": [
            "100%|██████████| 226/226 [00:15<00:00, 14.84it/s]\n"
          ]
        },
        {
          "name": "stdout",
          "output_type": "stream",
          "text": [
            "Epoch [52/150], Loss: 0.6916, Accuracy: 74.72%\n",
            "Validation Accuracy: 65.53%\n"
          ]
        },
        {
          "name": "stderr",
          "output_type": "stream",
          "text": [
            "100%|██████████| 226/226 [00:15<00:00, 14.86it/s]\n"
          ]
        },
        {
          "name": "stdout",
          "output_type": "stream",
          "text": [
            "Epoch [53/150], Loss: 0.6870, Accuracy: 75.31%\n",
            "Validation Accuracy: 63.53%\n"
          ]
        },
        {
          "name": "stderr",
          "output_type": "stream",
          "text": [
            "100%|██████████| 226/226 [00:15<00:00, 14.77it/s]\n"
          ]
        },
        {
          "name": "stdout",
          "output_type": "stream",
          "text": [
            "Epoch [54/150], Loss: 0.6892, Accuracy: 74.98%\n",
            "Validation Accuracy: 65.69%\n"
          ]
        },
        {
          "name": "stderr",
          "output_type": "stream",
          "text": [
            "100%|██████████| 226/226 [00:15<00:00, 14.96it/s]\n"
          ]
        },
        {
          "name": "stdout",
          "output_type": "stream",
          "text": [
            "Epoch [55/150], Loss: 0.6793, Accuracy: 75.12%\n",
            "Validation Accuracy: 65.55%\n"
          ]
        },
        {
          "name": "stderr",
          "output_type": "stream",
          "text": [
            "100%|██████████| 226/226 [00:15<00:00, 14.18it/s]\n"
          ]
        },
        {
          "name": "stdout",
          "output_type": "stream",
          "text": [
            "Epoch [56/150], Loss: 0.6659, Accuracy: 75.75%\n",
            "Validation Accuracy: 65.21%\n"
          ]
        },
        {
          "name": "stderr",
          "output_type": "stream",
          "text": [
            "100%|██████████| 226/226 [00:14<00:00, 15.85it/s]\n"
          ]
        },
        {
          "name": "stdout",
          "output_type": "stream",
          "text": [
            "Epoch [57/150], Loss: 0.6777, Accuracy: 75.72%\n",
            "Validation Accuracy: 63.47%\n"
          ]
        },
        {
          "name": "stderr",
          "output_type": "stream",
          "text": [
            "100%|██████████| 226/226 [00:14<00:00, 16.03it/s]\n"
          ]
        },
        {
          "name": "stdout",
          "output_type": "stream",
          "text": [
            "Epoch [58/150], Loss: 0.6596, Accuracy: 76.02%\n",
            "Validation Accuracy: 65.36%\n"
          ]
        },
        {
          "name": "stderr",
          "output_type": "stream",
          "text": [
            "100%|██████████| 226/226 [00:13<00:00, 16.17it/s]\n"
          ]
        },
        {
          "name": "stdout",
          "output_type": "stream",
          "text": [
            "Epoch [59/150], Loss: 0.6624, Accuracy: 76.26%\n",
            "Validation Accuracy: 64.38%\n"
          ]
        },
        {
          "name": "stderr",
          "output_type": "stream",
          "text": [
            "100%|██████████| 226/226 [00:13<00:00, 16.45it/s]\n"
          ]
        },
        {
          "name": "stdout",
          "output_type": "stream",
          "text": [
            "Epoch [60/150], Loss: 0.6573, Accuracy: 76.22%\n",
            "Validation Accuracy: 65.40%\n"
          ]
        },
        {
          "name": "stderr",
          "output_type": "stream",
          "text": [
            "100%|██████████| 226/226 [00:13<00:00, 17.05it/s]\n"
          ]
        },
        {
          "name": "stdout",
          "output_type": "stream",
          "text": [
            "Epoch [61/150], Loss: 0.6454, Accuracy: 76.75%\n",
            "Validation Accuracy: 65.07%\n"
          ]
        },
        {
          "name": "stderr",
          "output_type": "stream",
          "text": [
            "100%|██████████| 226/226 [00:13<00:00, 16.92it/s]\n"
          ]
        },
        {
          "name": "stdout",
          "output_type": "stream",
          "text": [
            "Epoch [62/150], Loss: 0.6445, Accuracy: 76.77%\n",
            "Validation Accuracy: 65.10%\n"
          ]
        },
        {
          "name": "stderr",
          "output_type": "stream",
          "text": [
            "100%|██████████| 226/226 [00:13<00:00, 16.79it/s]\n"
          ]
        },
        {
          "name": "stdout",
          "output_type": "stream",
          "text": [
            "Epoch [63/150], Loss: 0.6365, Accuracy: 77.16%\n",
            "Validation Accuracy: 65.47%\n"
          ]
        },
        {
          "name": "stderr",
          "output_type": "stream",
          "text": [
            "100%|██████████| 226/226 [00:13<00:00, 16.58it/s]\n"
          ]
        },
        {
          "name": "stdout",
          "output_type": "stream",
          "text": [
            "Epoch [64/150], Loss: 0.6291, Accuracy: 77.32%\n",
            "Validation Accuracy: 64.97%\n"
          ]
        },
        {
          "name": "stderr",
          "output_type": "stream",
          "text": [
            "100%|██████████| 226/226 [00:13<00:00, 16.63it/s]\n"
          ]
        },
        {
          "name": "stdout",
          "output_type": "stream",
          "text": [
            "Epoch [65/150], Loss: 0.6351, Accuracy: 77.30%\n",
            "Validation Accuracy: 65.14%\n"
          ]
        },
        {
          "name": "stderr",
          "output_type": "stream",
          "text": [
            "100%|██████████| 226/226 [00:15<00:00, 14.64it/s]\n"
          ]
        },
        {
          "name": "stdout",
          "output_type": "stream",
          "text": [
            "Epoch [66/150], Loss: 0.6316, Accuracy: 77.18%\n",
            "Validation Accuracy: 64.55%\n"
          ]
        },
        {
          "name": "stderr",
          "output_type": "stream",
          "text": [
            "100%|██████████| 226/226 [00:20<00:00, 11.08it/s]\n"
          ]
        },
        {
          "name": "stdout",
          "output_type": "stream",
          "text": [
            "Epoch [67/150], Loss: 0.6198, Accuracy: 77.72%\n",
            "Validation Accuracy: 65.26%\n"
          ]
        },
        {
          "name": "stderr",
          "output_type": "stream",
          "text": [
            "100%|██████████| 226/226 [00:17<00:00, 13.10it/s]\n"
          ]
        },
        {
          "name": "stdout",
          "output_type": "stream",
          "text": [
            "Epoch [68/150], Loss: 0.6197, Accuracy: 77.86%\n",
            "Validation Accuracy: 65.45%\n"
          ]
        },
        {
          "name": "stderr",
          "output_type": "stream",
          "text": [
            "100%|██████████| 226/226 [00:15<00:00, 14.92it/s]\n"
          ]
        },
        {
          "name": "stdout",
          "output_type": "stream",
          "text": [
            "Epoch [69/150], Loss: 0.6086, Accuracy: 78.06%\n",
            "Validation Accuracy: 64.89%\n"
          ]
        },
        {
          "name": "stderr",
          "output_type": "stream",
          "text": [
            "100%|██████████| 226/226 [00:15<00:00, 14.84it/s]\n"
          ]
        },
        {
          "name": "stdout",
          "output_type": "stream",
          "text": [
            "Epoch [70/150], Loss: 0.6095, Accuracy: 78.07%\n",
            "Validation Accuracy: 65.94%\n"
          ]
        },
        {
          "name": "stderr",
          "output_type": "stream",
          "text": [
            "100%|██████████| 226/226 [00:13<00:00, 16.86it/s]\n"
          ]
        },
        {
          "name": "stdout",
          "output_type": "stream",
          "text": [
            "Epoch [71/150], Loss: 0.6046, Accuracy: 78.23%\n",
            "Validation Accuracy: 64.76%\n"
          ]
        },
        {
          "name": "stderr",
          "output_type": "stream",
          "text": [
            "100%|██████████| 226/226 [00:13<00:00, 16.82it/s]\n"
          ]
        },
        {
          "name": "stdout",
          "output_type": "stream",
          "text": [
            "Epoch [72/150], Loss: 0.6008, Accuracy: 78.64%\n",
            "Validation Accuracy: 65.51%\n"
          ]
        },
        {
          "name": "stderr",
          "output_type": "stream",
          "text": [
            "100%|██████████| 226/226 [00:13<00:00, 17.11it/s]\n"
          ]
        },
        {
          "name": "stdout",
          "output_type": "stream",
          "text": [
            "Epoch [73/150], Loss: 0.5945, Accuracy: 78.64%\n",
            "Validation Accuracy: 64.70%\n"
          ]
        },
        {
          "name": "stderr",
          "output_type": "stream",
          "text": [
            "100%|██████████| 226/226 [00:13<00:00, 16.84it/s]\n"
          ]
        },
        {
          "name": "stdout",
          "output_type": "stream",
          "text": [
            "Epoch [74/150], Loss: 0.5894, Accuracy: 78.56%\n",
            "Validation Accuracy: 64.77%\n"
          ]
        },
        {
          "name": "stderr",
          "output_type": "stream",
          "text": [
            "100%|██████████| 226/226 [00:13<00:00, 17.31it/s]\n"
          ]
        },
        {
          "name": "stdout",
          "output_type": "stream",
          "text": [
            "Epoch [75/150], Loss: 0.5866, Accuracy: 78.96%\n",
            "Validation Accuracy: 65.36%\n"
          ]
        },
        {
          "name": "stderr",
          "output_type": "stream",
          "text": [
            "100%|██████████| 226/226 [00:13<00:00, 17.03it/s]\n"
          ]
        },
        {
          "name": "stdout",
          "output_type": "stream",
          "text": [
            "Epoch [76/150], Loss: 0.5814, Accuracy: 79.08%\n",
            "Validation Accuracy: 65.17%\n"
          ]
        },
        {
          "name": "stderr",
          "output_type": "stream",
          "text": [
            "100%|██████████| 226/226 [00:13<00:00, 17.11it/s]\n"
          ]
        },
        {
          "name": "stdout",
          "output_type": "stream",
          "text": [
            "Epoch [77/150], Loss: 0.5810, Accuracy: 79.00%\n",
            "Validation Accuracy: 65.86%\n"
          ]
        },
        {
          "name": "stderr",
          "output_type": "stream",
          "text": [
            "100%|██████████| 226/226 [00:14<00:00, 15.54it/s]\n"
          ]
        },
        {
          "name": "stdout",
          "output_type": "stream",
          "text": [
            "Epoch [78/150], Loss: 0.5768, Accuracy: 79.39%\n",
            "Validation Accuracy: 65.57%\n"
          ]
        },
        {
          "name": "stderr",
          "output_type": "stream",
          "text": [
            "100%|██████████| 226/226 [00:13<00:00, 16.89it/s]\n"
          ]
        },
        {
          "name": "stdout",
          "output_type": "stream",
          "text": [
            "Epoch [79/150], Loss: 0.5755, Accuracy: 79.34%\n",
            "Validation Accuracy: 65.77%\n"
          ]
        },
        {
          "name": "stderr",
          "output_type": "stream",
          "text": [
            "100%|██████████| 226/226 [00:13<00:00, 16.32it/s]\n"
          ]
        },
        {
          "name": "stdout",
          "output_type": "stream",
          "text": [
            "Epoch [80/150], Loss: 0.5726, Accuracy: 79.71%\n",
            "Validation Accuracy: 65.64%\n"
          ]
        },
        {
          "name": "stderr",
          "output_type": "stream",
          "text": [
            "100%|██████████| 226/226 [00:13<00:00, 16.93it/s]\n"
          ]
        },
        {
          "name": "stdout",
          "output_type": "stream",
          "text": [
            "Epoch [81/150], Loss: 0.5662, Accuracy: 79.90%\n",
            "Validation Accuracy: 65.38%\n"
          ]
        },
        {
          "name": "stderr",
          "output_type": "stream",
          "text": [
            "100%|██████████| 226/226 [00:13<00:00, 16.97it/s]\n"
          ]
        },
        {
          "name": "stdout",
          "output_type": "stream",
          "text": [
            "Epoch [82/150], Loss: 0.5567, Accuracy: 80.01%\n",
            "Validation Accuracy: 65.34%\n"
          ]
        },
        {
          "name": "stderr",
          "output_type": "stream",
          "text": [
            "100%|██████████| 226/226 [00:13<00:00, 17.01it/s]\n"
          ]
        },
        {
          "name": "stdout",
          "output_type": "stream",
          "text": [
            "Epoch [83/150], Loss: 0.5514, Accuracy: 80.10%\n",
            "Validation Accuracy: 66.03%\n"
          ]
        },
        {
          "name": "stderr",
          "output_type": "stream",
          "text": [
            "100%|██████████| 226/226 [00:14<00:00, 15.46it/s]\n"
          ]
        },
        {
          "name": "stdout",
          "output_type": "stream",
          "text": [
            "Epoch [84/150], Loss: 0.5578, Accuracy: 80.23%\n",
            "Validation Accuracy: 65.27%\n"
          ]
        },
        {
          "name": "stderr",
          "output_type": "stream",
          "text": [
            "100%|██████████| 226/226 [00:15<00:00, 14.31it/s]\n"
          ]
        },
        {
          "name": "stdout",
          "output_type": "stream",
          "text": [
            "Epoch [85/150], Loss: 0.5566, Accuracy: 80.02%\n",
            "Validation Accuracy: 65.27%\n"
          ]
        },
        {
          "name": "stderr",
          "output_type": "stream",
          "text": [
            "100%|██████████| 226/226 [00:14<00:00, 15.53it/s]\n"
          ]
        },
        {
          "name": "stdout",
          "output_type": "stream",
          "text": [
            "Epoch [86/150], Loss: 0.5506, Accuracy: 80.45%\n",
            "Validation Accuracy: 65.57%\n"
          ]
        },
        {
          "name": "stderr",
          "output_type": "stream",
          "text": [
            "100%|██████████| 226/226 [00:13<00:00, 17.00it/s]\n"
          ]
        },
        {
          "name": "stdout",
          "output_type": "stream",
          "text": [
            "Epoch [87/150], Loss: 0.5451, Accuracy: 80.31%\n",
            "Validation Accuracy: 65.74%\n"
          ]
        },
        {
          "name": "stderr",
          "output_type": "stream",
          "text": [
            "100%|██████████| 226/226 [00:13<00:00, 16.69it/s]\n"
          ]
        },
        {
          "name": "stdout",
          "output_type": "stream",
          "text": [
            "Epoch [88/150], Loss: 0.5478, Accuracy: 80.26%\n",
            "Validation Accuracy: 65.53%\n"
          ]
        },
        {
          "name": "stderr",
          "output_type": "stream",
          "text": [
            "  3%|▎         | 6/226 [00:00<00:14, 14.67it/s]"
          ]
        }
      ],
      "source": [
        "# Training Model\n",
        "\n",
        "def train_model(model, train_loader, test_loader, criterion, optimizer, num_epochs=150):\n",
        "    for epoch in range(num_epochs):\n",
        "        model.train()\n",
        "        running_loss = 0.0\n",
        "        correct = 0\n",
        "        total = 0\n",
        "\n",
        "        for images, labels in tqdm(train_loader):\n",
        "            images, labels = images.to(device), labels.to(device).long()\n",
        "\n",
        "            optimizer.zero_grad()\n",
        "            outputs = model(images)\n",
        "            loss = criterion(outputs, labels)\n",
        "            loss.backward()\n",
        "            optimizer.step()\n",
        "\n",
        "            running_loss += loss.item()\n",
        "            _, predicted = torch.max(outputs.data, 1)\n",
        "            total += labels.size(0)\n",
        "            correct += (predicted == labels).sum().item()\n",
        "\n",
        "        train_accuracy = 100 * correct / total\n",
        "        print(f\"Epoch [{epoch+1}/{num_epochs}], Loss: {running_loss/len(train_loader):.4f}, Accuracy: {train_accuracy:.2f}%\")\n",
        "\n",
        "        # Validation step\n",
        "        \n",
        "        model.eval()\n",
        "        val_correct = 0\n",
        "        val_total = 0\n",
        "        with torch.no_grad():\n",
        "            for images, labels in test_loader:\n",
        "                images, labels = images.to(device), labels.to(device).long()\n",
        "                outputs = model(images)\n",
        "                _, predicted = torch.max(outputs.data, 1)\n",
        "                val_total += labels.size(0)\n",
        "                val_correct += (predicted == labels).sum().item()\n",
        "\n",
        "        val_accuracy = 100 * val_correct / val_total\n",
        "        print(f\"Validation Accuracy: {val_accuracy:.2f}%\")\n",
        "\n",
        "train_model(model, train_loader, test_loader, criterion, optimizer, num_epochs=150)"
      ]
    },
    {
      "cell_type": "code",
      "execution_count": null,
      "id": "6abKxg6j8-p3",
      "metadata": {
        "id": "6abKxg6j8-p3"
      },
      "outputs": [
        {
          "name": "stdout",
          "output_type": "stream",
          "text": [
            "Model saved successfully.\n"
          ]
        }
      ],
      "source": [
        "# Save model\n",
        "\n",
        "torch.save(model.state_dict(), \"emotionDetector_1.pth\")\n",
        "print(\"Model saved successfully.\")"
      ]
    }
  ],
  "metadata": {
    "accelerator": "TPU",
    "colab": {
      "gpuType": "V28",
      "provenance": []
    },
    "kernelspec": {
      "display_name": "tf_env",
      "language": "python",
      "name": "python3"
    },
    "language_info": {
      "codemirror_mode": {
        "name": "ipython",
        "version": 3
      },
      "file_extension": ".py",
      "mimetype": "text/x-python",
      "name": "python",
      "nbconvert_exporter": "python",
      "pygments_lexer": "ipython3",
      "version": "3.9.21"
    }
  },
  "nbformat": 4,
  "nbformat_minor": 5
}
