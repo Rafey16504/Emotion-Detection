{
 "cells": [
  {
   "cell_type": "markdown",
   "id": "666e8736",
   "metadata": {},
   "source": [
    "# **EMOTION DETECTION**"
   ]
  },
  {
   "cell_type": "code",
   "execution_count": 9,
   "id": "fa970d2a",
   "metadata": {},
   "outputs": [],
   "source": [
    "# Getting all dependencies\n",
    "\n",
    "from keras.utils import to_categorical\n",
    "from keras.preprocessing.image import load_img  \n",
    "from keras.models import Sequential\n",
    "from keras.layers import Dense, Conv2D, Dropout, Flatten, MaxPooling2D\n",
    "import os\n",
    "import pandas as pd\n",
    "import numpy as np"
   ]
  }
 ],
 "metadata": {
  "kernelspec": {
   "display_name": "Python 3",
   "language": "python",
   "name": "python3"
  },
  "language_info": {
   "codemirror_mode": {
    "name": "ipython",
    "version": 3
   },
   "file_extension": ".py",
   "mimetype": "text/x-python",
   "name": "python",
   "nbconvert_exporter": "python",
   "pygments_lexer": "ipython3",
   "version": "3.10.0"
  }
 },
 "nbformat": 4,
 "nbformat_minor": 5
}
